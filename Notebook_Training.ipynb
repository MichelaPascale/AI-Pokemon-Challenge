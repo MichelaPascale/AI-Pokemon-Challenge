{
  "nbformat": 4,
  "nbformat_minor": 0,
  "metadata": {
    "language_info": {
      "codemirror_mode": {
        "name": "ipython",
        "version": 3
      },
      "file_extension": ".py",
      "mimetype": "text/x-python",
      "name": "python",
      "nbconvert_exporter": "python",
      "pygments_lexer": "ipython3",
      "version": "3.8.5"
    },
    "orig_nbformat": 2,
    "kernelspec": {
      "name": "python385jvsc74a57bd0dca0ade3e726a953b501b15e8e990130d2b7799f14cfd9f4271676035ebe5511",
      "display_name": "Python 3.8.5 64-bit ('base': conda)"
    },
    "colab": {
      "name": "Pokemon_Training.ipynb",
      "provenance": [],
      "include_colab_link": true
    }
  },
  "cells": [
    {
      "cell_type": "markdown",
      "metadata": {
        "id": "view-in-github",
        "colab_type": "text"
      },
      "source": [
        "<a href=\"https://colab.research.google.com/github/MichelaPascale/AI-Pokemon-Challenge/blob/main/Notebook_Training.ipynb\" target=\"_parent\"><img src=\"https://colab.research.google.com/assets/colab-badge.svg\" alt=\"Open In Colab\"/></a>"
      ]
    },
    {
      "cell_type": "markdown",
      "metadata": {
        "id": "mtgEkh3Lg3dx"
      },
      "source": [
        "# Notebook di training"
      ]
    },
    {
      "cell_type": "markdown",
      "metadata": {
        "id": "OKysOhQxg3dy"
      },
      "source": [
        "## Operazioni preliminari"
      ]
    },
    {
      "cell_type": "markdown",
      "metadata": {
        "id": "cpFmb_Oci2fh"
      },
      "source": [
        "###Import librerie"
      ]
    },
    {
      "cell_type": "code",
      "metadata": {
        "id": "0EVd5T_5g3d0"
      },
      "source": [
        "import pandas as pd\n",
        "import numpy as np\n",
        "import matplotlib.pyplot as plt\n",
        "import seaborn as sns"
      ],
      "execution_count": 52,
      "outputs": []
    },
    {
      "cell_type": "markdown",
      "metadata": {
        "id": "THr5_nWQg3d1"
      },
      "source": [
        "### Import del training set e test set"
      ]
    },
    {
      "cell_type": "code",
      "metadata": {
        "id": "irbD4h2Pg3d2"
      },
      "source": [
        "#train = pd.read_csv(\"./train.csv\")\n",
        "#test = pd.read_csv(\"./test.csv\")\n",
        "\n",
        "# con colab non è necessario il ./\n",
        "train = pd.read_csv(\"train.csv\")\n",
        "test = pd.read_csv(\"test.csv\")"
      ],
      "execution_count": 57,
      "outputs": []
    },
    {
      "cell_type": "code",
      "metadata": {
        "id": "tbMtY4clg3d3"
      },
      "source": [
        "#pokemon = pd.read_csv(\"./pokemon.csv\")\n",
        "\n",
        "pokemon = pd.read_csv(\"pokemon.csv\")"
      ],
      "execution_count": 58,
      "outputs": []
    },
    {
      "cell_type": "markdown",
      "metadata": {
        "id": "JGhKxVGjg3d3"
      },
      "source": [
        "## Analisi dei dati"
      ]
    },
    {
      "cell_type": "markdown",
      "metadata": {
        "id": "D0v8OjDkj8zB"
      },
      "source": [
        "### Verifica della correttezza dei dati"
      ]
    },
    {
      "cell_type": "markdown",
      "metadata": {
        "id": "Bvs2d_Z0kaM2"
      },
      "source": [
        "#### Train e test set"
      ]
    },
    {
      "cell_type": "code",
      "metadata": {
        "colab": {
          "base_uri": "https://localhost:8080/",
          "height": 204
        },
        "id": "KbcbUFfSg3d5",
        "outputId": "8bc3d3b6-1340-4c4b-8260-12b54c9e0612"
      },
      "source": [
        "train.sample(5)"
      ],
      "execution_count": 55,
      "outputs": [
        {
          "output_type": "execute_result",
          "data": {
            "text/html": [
              "<div>\n",
              "<style scoped>\n",
              "    .dataframe tbody tr th:only-of-type {\n",
              "        vertical-align: middle;\n",
              "    }\n",
              "\n",
              "    .dataframe tbody tr th {\n",
              "        vertical-align: top;\n",
              "    }\n",
              "\n",
              "    .dataframe thead th {\n",
              "        text-align: right;\n",
              "    }\n",
              "</style>\n",
              "<table border=\"1\" class=\"dataframe\">\n",
              "  <thead>\n",
              "    <tr style=\"text-align: right;\">\n",
              "      <th></th>\n",
              "      <th>Winner</th>\n",
              "      <th>First_pokemon</th>\n",
              "      <th>Second_pokemon</th>\n",
              "    </tr>\n",
              "  </thead>\n",
              "  <tbody>\n",
              "    <tr>\n",
              "      <th>11610</th>\n",
              "      <td>3</td>\n",
              "      <td>86</td>\n",
              "      <td>3</td>\n",
              "    </tr>\n",
              "    <tr>\n",
              "      <th>23900</th>\n",
              "      <td>30</td>\n",
              "      <td>239</td>\n",
              "      <td>30</td>\n",
              "    </tr>\n",
              "    <tr>\n",
              "      <th>29541</th>\n",
              "      <td>521</td>\n",
              "      <td>123</td>\n",
              "      <td>521</td>\n",
              "    </tr>\n",
              "    <tr>\n",
              "      <th>23783</th>\n",
              "      <td>429</td>\n",
              "      <td>40</td>\n",
              "      <td>429</td>\n",
              "    </tr>\n",
              "    <tr>\n",
              "      <th>19812</th>\n",
              "      <td>227</td>\n",
              "      <td>1</td>\n",
              "      <td>227</td>\n",
              "    </tr>\n",
              "  </tbody>\n",
              "</table>\n",
              "</div>"
            ],
            "text/plain": [
              "       Winner  First_pokemon  Second_pokemon\n",
              "11610       3             86               3\n",
              "23900      30            239              30\n",
              "29541     521            123             521\n",
              "23783     429             40             429\n",
              "19812     227              1             227"
            ]
          },
          "metadata": {
            "tags": []
          },
          "execution_count": 55
        }
      ]
    },
    {
      "cell_type": "code",
      "metadata": {
        "colab": {
          "base_uri": "https://localhost:8080/",
          "height": 297
        },
        "id": "QLikvQU9g3d6",
        "outputId": "c9cd6f36-20a7-4342-af59-772d1f11511e"
      },
      "source": [
        "train.describe(include=\"all\")"
      ],
      "execution_count": null,
      "outputs": [
        {
          "output_type": "execute_result",
          "data": {
            "text/html": [
              "<div>\n",
              "<style scoped>\n",
              "    .dataframe tbody tr th:only-of-type {\n",
              "        vertical-align: middle;\n",
              "    }\n",
              "\n",
              "    .dataframe tbody tr th {\n",
              "        vertical-align: top;\n",
              "    }\n",
              "\n",
              "    .dataframe thead th {\n",
              "        text-align: right;\n",
              "    }\n",
              "</style>\n",
              "<table border=\"1\" class=\"dataframe\">\n",
              "  <thead>\n",
              "    <tr style=\"text-align: right;\">\n",
              "      <th></th>\n",
              "      <th>Winner</th>\n",
              "      <th>First_pokemon</th>\n",
              "      <th>Second_pokemon</th>\n",
              "    </tr>\n",
              "  </thead>\n",
              "  <tbody>\n",
              "    <tr>\n",
              "      <th>count</th>\n",
              "      <td>32000.000000</td>\n",
              "      <td>32000.000000</td>\n",
              "      <td>32000.000000</td>\n",
              "    </tr>\n",
              "    <tr>\n",
              "      <th>mean</th>\n",
              "      <td>409.861094</td>\n",
              "      <td>402.504188</td>\n",
              "      <td>402.972438</td>\n",
              "    </tr>\n",
              "    <tr>\n",
              "      <th>std</th>\n",
              "      <td>231.054139</td>\n",
              "      <td>229.858711</td>\n",
              "      <td>229.932855</td>\n",
              "    </tr>\n",
              "    <tr>\n",
              "      <th>min</th>\n",
              "      <td>1.000000</td>\n",
              "      <td>1.000000</td>\n",
              "      <td>1.000000</td>\n",
              "    </tr>\n",
              "    <tr>\n",
              "      <th>25%</th>\n",
              "      <td>207.000000</td>\n",
              "      <td>204.000000</td>\n",
              "      <td>207.000000</td>\n",
              "    </tr>\n",
              "    <tr>\n",
              "      <th>50%</th>\n",
              "      <td>423.000000</td>\n",
              "      <td>402.000000</td>\n",
              "      <td>403.000000</td>\n",
              "    </tr>\n",
              "    <tr>\n",
              "      <th>75%</th>\n",
              "      <td>607.000000</td>\n",
              "      <td>600.250000</td>\n",
              "      <td>602.000000</td>\n",
              "    </tr>\n",
              "    <tr>\n",
              "      <th>max</th>\n",
              "      <td>800.000000</td>\n",
              "      <td>800.000000</td>\n",
              "      <td>800.000000</td>\n",
              "    </tr>\n",
              "  </tbody>\n",
              "</table>\n",
              "</div>"
            ],
            "text/plain": [
              "             Winner  First_pokemon  Second_pokemon\n",
              "count  32000.000000   32000.000000    32000.000000\n",
              "mean     409.861094     402.504188      402.972438\n",
              "std      231.054139     229.858711      229.932855\n",
              "min        1.000000       1.000000        1.000000\n",
              "25%      207.000000     204.000000      207.000000\n",
              "50%      423.000000     402.000000      403.000000\n",
              "75%      607.000000     600.250000      602.000000\n",
              "max      800.000000     800.000000      800.000000"
            ]
          },
          "metadata": {
            "tags": []
          },
          "execution_count": 7
        }
      ]
    },
    {
      "cell_type": "code",
      "metadata": {
        "id": "rkaqI5xVg3d6",
        "outputId": "b6365aed-4d8f-4e67-88a4-06da8c830007"
      },
      "source": [
        "train.info()"
      ],
      "execution_count": null,
      "outputs": [
        {
          "output_type": "stream",
          "text": [
            "<class 'pandas.core.frame.DataFrame'>\n",
            "RangeIndex: 32000 entries, 0 to 31999\n",
            "Data columns (total 3 columns):\n",
            " #   Column          Non-Null Count  Dtype\n",
            "---  ------          --------------  -----\n",
            " 0   Winner          32000 non-null  int64\n",
            " 1   First_pokemon   32000 non-null  int64\n",
            " 2   Second_pokemon  32000 non-null  int64\n",
            "dtypes: int64(3)\n",
            "memory usage: 750.1 KB\n"
          ],
          "name": "stdout"
        }
      ]
    },
    {
      "cell_type": "code",
      "metadata": {
        "id": "JD97SPhQg3d7",
        "outputId": "04aa2539-31fa-45f2-8aef-01d6738f0670"
      },
      "source": [
        "pd.isnull(train).sum()"
      ],
      "execution_count": null,
      "outputs": [
        {
          "output_type": "execute_result",
          "data": {
            "text/plain": [
              "Winner            0\n",
              "First_pokemon     0\n",
              "Second_pokemon    0\n",
              "dtype: int64"
            ]
          },
          "metadata": {
            "tags": []
          },
          "execution_count": 1333
        }
      ]
    },
    {
      "cell_type": "code",
      "metadata": {
        "colab": {
          "base_uri": "https://localhost:8080/"
        },
        "id": "gzws24Z_kPBF",
        "outputId": "63851216-21d8-4a2f-f8d9-31902691beec"
      },
      "source": [
        "test.info()"
      ],
      "execution_count": null,
      "outputs": [
        {
          "output_type": "stream",
          "text": [
            "<class 'pandas.core.frame.DataFrame'>\n",
            "RangeIndex: 8000 entries, 0 to 7999\n",
            "Data columns (total 3 columns):\n",
            " #   Column          Non-Null Count  Dtype\n",
            "---  ------          --------------  -----\n",
            " 0   Winner          8000 non-null   int64\n",
            " 1   First_pokemon   8000 non-null   int64\n",
            " 2   Second_pokemon  8000 non-null   int64\n",
            "dtypes: int64(3)\n",
            "memory usage: 187.6 KB\n"
          ],
          "name": "stdout"
        }
      ]
    },
    {
      "cell_type": "code",
      "metadata": {
        "colab": {
          "base_uri": "https://localhost:8080/"
        },
        "id": "44C7vkemkR7h",
        "outputId": "92fe11cd-eda0-4f0a-cc00-db2f3591cb8a"
      },
      "source": [
        "pd.isnull(test).sum()"
      ],
      "execution_count": null,
      "outputs": [
        {
          "output_type": "execute_result",
          "data": {
            "text/plain": [
              "Winner            0\n",
              "First_pokemon     0\n",
              "Second_pokemon    0\n",
              "dtype: int64"
            ]
          },
          "metadata": {
            "tags": []
          },
          "execution_count": 9
        }
      ]
    },
    {
      "cell_type": "markdown",
      "metadata": {
        "id": "VN-i_Q9UkCki"
      },
      "source": [
        "Ok, non ho valori nulli o altro che devo cambiare"
      ]
    },
    {
      "cell_type": "code",
      "metadata": {
        "id": "o-t-EmcJg3d7",
        "outputId": "88fa40c9-3548-46f6-fc9a-8e3b9e0255f8"
      },
      "source": [
        "train.head(5)"
      ],
      "execution_count": null,
      "outputs": [
        {
          "output_type": "execute_result",
          "data": {
            "text/plain": [
              "   Winner  First_pokemon  Second_pokemon\n",
              "0     124            124             221\n",
              "1       1            323               1\n",
              "2      58             58             459\n",
              "3     491            180             491\n",
              "4     799            799             559"
            ],
            "text/html": [
              "<div>\n",
              "<style scoped>\n",
              "    .dataframe tbody tr th:only-of-type {\n",
              "        vertical-align: middle;\n",
              "    }\n",
              "\n",
              "    .dataframe tbody tr th {\n",
              "        vertical-align: top;\n",
              "    }\n",
              "\n",
              "    .dataframe thead th {\n",
              "        text-align: right;\n",
              "    }\n",
              "</style>\n",
              "<table border=\"1\" class=\"dataframe\">\n",
              "  <thead>\n",
              "    <tr style=\"text-align: right;\">\n",
              "      <th></th>\n",
              "      <th>Winner</th>\n",
              "      <th>First_pokemon</th>\n",
              "      <th>Second_pokemon</th>\n",
              "    </tr>\n",
              "  </thead>\n",
              "  <tbody>\n",
              "    <tr>\n",
              "      <th>0</th>\n",
              "      <td>124</td>\n",
              "      <td>124</td>\n",
              "      <td>221</td>\n",
              "    </tr>\n",
              "    <tr>\n",
              "      <th>1</th>\n",
              "      <td>1</td>\n",
              "      <td>323</td>\n",
              "      <td>1</td>\n",
              "    </tr>\n",
              "    <tr>\n",
              "      <th>2</th>\n",
              "      <td>58</td>\n",
              "      <td>58</td>\n",
              "      <td>459</td>\n",
              "    </tr>\n",
              "    <tr>\n",
              "      <th>3</th>\n",
              "      <td>491</td>\n",
              "      <td>180</td>\n",
              "      <td>491</td>\n",
              "    </tr>\n",
              "    <tr>\n",
              "      <th>4</th>\n",
              "      <td>799</td>\n",
              "      <td>799</td>\n",
              "      <td>559</td>\n",
              "    </tr>\n",
              "  </tbody>\n",
              "</table>\n",
              "</div>"
            ]
          },
          "metadata": {
            "tags": []
          },
          "execution_count": 1334
        }
      ]
    },
    {
      "cell_type": "markdown",
      "metadata": {
        "id": "exCOiSxgkgwL"
      },
      "source": [
        "#### Pokemon stats"
      ]
    },
    {
      "cell_type": "code",
      "metadata": {
        "colab": {
          "base_uri": "https://localhost:8080/",
          "height": 204
        },
        "id": "F7U2FUAKksS7",
        "outputId": "e14f0b6e-735b-4ed4-a44c-536338799a79"
      },
      "source": [
        "pokemon.sample(5)"
      ],
      "execution_count": null,
      "outputs": [
        {
          "output_type": "execute_result",
          "data": {
            "text/html": [
              "<div>\n",
              "<style scoped>\n",
              "    .dataframe tbody tr th:only-of-type {\n",
              "        vertical-align: middle;\n",
              "    }\n",
              "\n",
              "    .dataframe tbody tr th {\n",
              "        vertical-align: top;\n",
              "    }\n",
              "\n",
              "    .dataframe thead th {\n",
              "        text-align: right;\n",
              "    }\n",
              "</style>\n",
              "<table border=\"1\" class=\"dataframe\">\n",
              "  <thead>\n",
              "    <tr style=\"text-align: right;\">\n",
              "      <th></th>\n",
              "      <th>#</th>\n",
              "      <th>Name</th>\n",
              "      <th>Type 1</th>\n",
              "      <th>Type 2</th>\n",
              "      <th>HP</th>\n",
              "      <th>Attack</th>\n",
              "      <th>Defense</th>\n",
              "      <th>Sp. Atk</th>\n",
              "      <th>Sp. Def</th>\n",
              "      <th>Speed</th>\n",
              "      <th>Generation</th>\n",
              "      <th>Legendary</th>\n",
              "    </tr>\n",
              "  </thead>\n",
              "  <tbody>\n",
              "    <tr>\n",
              "      <th>165</th>\n",
              "      <td>166</td>\n",
              "      <td>Mew</td>\n",
              "      <td>Psychic</td>\n",
              "      <td>NaN</td>\n",
              "      <td>100</td>\n",
              "      <td>100</td>\n",
              "      <td>100</td>\n",
              "      <td>100</td>\n",
              "      <td>100</td>\n",
              "      <td>100</td>\n",
              "      <td>1</td>\n",
              "      <td>False</td>\n",
              "    </tr>\n",
              "    <tr>\n",
              "      <th>789</th>\n",
              "      <td>790</td>\n",
              "      <td>Avalugg</td>\n",
              "      <td>Ice</td>\n",
              "      <td>NaN</td>\n",
              "      <td>95</td>\n",
              "      <td>117</td>\n",
              "      <td>184</td>\n",
              "      <td>44</td>\n",
              "      <td>46</td>\n",
              "      <td>28</td>\n",
              "      <td>6</td>\n",
              "      <td>False</td>\n",
              "    </tr>\n",
              "    <tr>\n",
              "      <th>446</th>\n",
              "      <td>447</td>\n",
              "      <td>Kricketot</td>\n",
              "      <td>Bug</td>\n",
              "      <td>NaN</td>\n",
              "      <td>37</td>\n",
              "      <td>25</td>\n",
              "      <td>41</td>\n",
              "      <td>25</td>\n",
              "      <td>41</td>\n",
              "      <td>25</td>\n",
              "      <td>4</td>\n",
              "      <td>False</td>\n",
              "    </tr>\n",
              "    <tr>\n",
              "      <th>478</th>\n",
              "      <td>479</td>\n",
              "      <td>Honchkrow</td>\n",
              "      <td>Dark</td>\n",
              "      <td>Flying</td>\n",
              "      <td>100</td>\n",
              "      <td>125</td>\n",
              "      <td>52</td>\n",
              "      <td>105</td>\n",
              "      <td>52</td>\n",
              "      <td>71</td>\n",
              "      <td>4</td>\n",
              "      <td>False</td>\n",
              "    </tr>\n",
              "    <tr>\n",
              "      <th>635</th>\n",
              "      <td>636</td>\n",
              "      <td>Gothita</td>\n",
              "      <td>Psychic</td>\n",
              "      <td>NaN</td>\n",
              "      <td>45</td>\n",
              "      <td>30</td>\n",
              "      <td>50</td>\n",
              "      <td>55</td>\n",
              "      <td>65</td>\n",
              "      <td>45</td>\n",
              "      <td>5</td>\n",
              "      <td>False</td>\n",
              "    </tr>\n",
              "  </tbody>\n",
              "</table>\n",
              "</div>"
            ],
            "text/plain": [
              "       #       Name   Type 1  Type 2  ...  Sp. Def  Speed  Generation  Legendary\n",
              "165  166        Mew  Psychic     NaN  ...      100    100           1      False\n",
              "789  790    Avalugg      Ice     NaN  ...       46     28           6      False\n",
              "446  447  Kricketot      Bug     NaN  ...       41     25           4      False\n",
              "478  479  Honchkrow     Dark  Flying  ...       52     71           4      False\n",
              "635  636    Gothita  Psychic     NaN  ...       65     45           5      False\n",
              "\n",
              "[5 rows x 12 columns]"
            ]
          },
          "metadata": {
            "tags": []
          },
          "execution_count": 11
        }
      ]
    },
    {
      "cell_type": "markdown",
      "metadata": {
        "id": "9O9y9KfskwdM"
      },
      "source": [
        "Da una prima analisi, per semplicità e chiarezza, posso rinominare la colonna # in ID ed eliminare gli spazi delle colonne Type 1 e Type 2"
      ]
    },
    {
      "cell_type": "code",
      "metadata": {
        "id": "Ra6Ik3LEg3d8"
      },
      "source": [
        "# Rinomino\n",
        "pokemon = pokemon.rename(columns={'#': 'ID'})\n",
        "pokemon = pokemon.rename(columns={'Type 1': 'Type1'})\n",
        "pokemon = pokemon.rename(columns={'Type 2': 'Type2'})"
      ],
      "execution_count": 59,
      "outputs": []
    },
    {
      "cell_type": "code",
      "metadata": {
        "colab": {
          "base_uri": "https://localhost:8080/",
          "height": 204
        },
        "id": "Yuvu0Zpeg3d8",
        "outputId": "8424033f-f51a-4c3b-a2e5-ed662b947a01"
      },
      "source": [
        "pokemon.head(5)"
      ],
      "execution_count": null,
      "outputs": [
        {
          "output_type": "execute_result",
          "data": {
            "text/html": [
              "<div>\n",
              "<style scoped>\n",
              "    .dataframe tbody tr th:only-of-type {\n",
              "        vertical-align: middle;\n",
              "    }\n",
              "\n",
              "    .dataframe tbody tr th {\n",
              "        vertical-align: top;\n",
              "    }\n",
              "\n",
              "    .dataframe thead th {\n",
              "        text-align: right;\n",
              "    }\n",
              "</style>\n",
              "<table border=\"1\" class=\"dataframe\">\n",
              "  <thead>\n",
              "    <tr style=\"text-align: right;\">\n",
              "      <th></th>\n",
              "      <th>ID</th>\n",
              "      <th>Name</th>\n",
              "      <th>Type1</th>\n",
              "      <th>Type2</th>\n",
              "      <th>HP</th>\n",
              "      <th>Attack</th>\n",
              "      <th>Defense</th>\n",
              "      <th>Sp. Atk</th>\n",
              "      <th>Sp. Def</th>\n",
              "      <th>Speed</th>\n",
              "      <th>Generation</th>\n",
              "      <th>Legendary</th>\n",
              "    </tr>\n",
              "  </thead>\n",
              "  <tbody>\n",
              "    <tr>\n",
              "      <th>0</th>\n",
              "      <td>1</td>\n",
              "      <td>Bulbasaur</td>\n",
              "      <td>Grass</td>\n",
              "      <td>Poison</td>\n",
              "      <td>45</td>\n",
              "      <td>49</td>\n",
              "      <td>49</td>\n",
              "      <td>65</td>\n",
              "      <td>65</td>\n",
              "      <td>45</td>\n",
              "      <td>1</td>\n",
              "      <td>False</td>\n",
              "    </tr>\n",
              "    <tr>\n",
              "      <th>1</th>\n",
              "      <td>2</td>\n",
              "      <td>Ivysaur</td>\n",
              "      <td>Grass</td>\n",
              "      <td>Poison</td>\n",
              "      <td>60</td>\n",
              "      <td>62</td>\n",
              "      <td>63</td>\n",
              "      <td>80</td>\n",
              "      <td>80</td>\n",
              "      <td>60</td>\n",
              "      <td>1</td>\n",
              "      <td>False</td>\n",
              "    </tr>\n",
              "    <tr>\n",
              "      <th>2</th>\n",
              "      <td>3</td>\n",
              "      <td>Venusaur</td>\n",
              "      <td>Grass</td>\n",
              "      <td>Poison</td>\n",
              "      <td>80</td>\n",
              "      <td>82</td>\n",
              "      <td>83</td>\n",
              "      <td>100</td>\n",
              "      <td>100</td>\n",
              "      <td>80</td>\n",
              "      <td>1</td>\n",
              "      <td>False</td>\n",
              "    </tr>\n",
              "    <tr>\n",
              "      <th>3</th>\n",
              "      <td>4</td>\n",
              "      <td>Mega Venusaur</td>\n",
              "      <td>Grass</td>\n",
              "      <td>Poison</td>\n",
              "      <td>80</td>\n",
              "      <td>100</td>\n",
              "      <td>123</td>\n",
              "      <td>122</td>\n",
              "      <td>120</td>\n",
              "      <td>80</td>\n",
              "      <td>1</td>\n",
              "      <td>False</td>\n",
              "    </tr>\n",
              "    <tr>\n",
              "      <th>4</th>\n",
              "      <td>5</td>\n",
              "      <td>Charmander</td>\n",
              "      <td>Fire</td>\n",
              "      <td>NaN</td>\n",
              "      <td>39</td>\n",
              "      <td>52</td>\n",
              "      <td>43</td>\n",
              "      <td>60</td>\n",
              "      <td>50</td>\n",
              "      <td>65</td>\n",
              "      <td>1</td>\n",
              "      <td>False</td>\n",
              "    </tr>\n",
              "  </tbody>\n",
              "</table>\n",
              "</div>"
            ],
            "text/plain": [
              "   ID           Name  Type1   Type2  ...  Sp. Def  Speed  Generation  Legendary\n",
              "0   1      Bulbasaur  Grass  Poison  ...       65     45           1      False\n",
              "1   2        Ivysaur  Grass  Poison  ...       80     60           1      False\n",
              "2   3       Venusaur  Grass  Poison  ...      100     80           1      False\n",
              "3   4  Mega Venusaur  Grass  Poison  ...      120     80           1      False\n",
              "4   5     Charmander   Fire     NaN  ...       50     65           1      False\n",
              "\n",
              "[5 rows x 12 columns]"
            ]
          },
          "metadata": {
            "tags": []
          },
          "execution_count": 5
        }
      ]
    },
    {
      "cell_type": "code",
      "metadata": {
        "colab": {
          "base_uri": "https://localhost:8080/",
          "height": 390
        },
        "id": "qV2fPgbvg3d9",
        "outputId": "d6a42419-0968-4574-df67-3abfcbedeaba"
      },
      "source": [
        "pokemon.describe(include='all')"
      ],
      "execution_count": null,
      "outputs": [
        {
          "output_type": "execute_result",
          "data": {
            "text/html": [
              "<div>\n",
              "<style scoped>\n",
              "    .dataframe tbody tr th:only-of-type {\n",
              "        vertical-align: middle;\n",
              "    }\n",
              "\n",
              "    .dataframe tbody tr th {\n",
              "        vertical-align: top;\n",
              "    }\n",
              "\n",
              "    .dataframe thead th {\n",
              "        text-align: right;\n",
              "    }\n",
              "</style>\n",
              "<table border=\"1\" class=\"dataframe\">\n",
              "  <thead>\n",
              "    <tr style=\"text-align: right;\">\n",
              "      <th></th>\n",
              "      <th>ID</th>\n",
              "      <th>Name</th>\n",
              "      <th>Type1</th>\n",
              "      <th>Type2</th>\n",
              "      <th>HP</th>\n",
              "      <th>Attack</th>\n",
              "      <th>Defense</th>\n",
              "      <th>Sp. Atk</th>\n",
              "      <th>Sp. Def</th>\n",
              "      <th>Speed</th>\n",
              "      <th>Generation</th>\n",
              "      <th>Legendary</th>\n",
              "    </tr>\n",
              "  </thead>\n",
              "  <tbody>\n",
              "    <tr>\n",
              "      <th>count</th>\n",
              "      <td>800.0000</td>\n",
              "      <td>799</td>\n",
              "      <td>800</td>\n",
              "      <td>414</td>\n",
              "      <td>800.000000</td>\n",
              "      <td>800.000000</td>\n",
              "      <td>800.000000</td>\n",
              "      <td>800.000000</td>\n",
              "      <td>800.000000</td>\n",
              "      <td>800.000000</td>\n",
              "      <td>800.00000</td>\n",
              "      <td>800</td>\n",
              "    </tr>\n",
              "    <tr>\n",
              "      <th>unique</th>\n",
              "      <td>NaN</td>\n",
              "      <td>799</td>\n",
              "      <td>18</td>\n",
              "      <td>18</td>\n",
              "      <td>NaN</td>\n",
              "      <td>NaN</td>\n",
              "      <td>NaN</td>\n",
              "      <td>NaN</td>\n",
              "      <td>NaN</td>\n",
              "      <td>NaN</td>\n",
              "      <td>NaN</td>\n",
              "      <td>2</td>\n",
              "    </tr>\n",
              "    <tr>\n",
              "      <th>top</th>\n",
              "      <td>NaN</td>\n",
              "      <td>Mega Ampharos</td>\n",
              "      <td>Water</td>\n",
              "      <td>Flying</td>\n",
              "      <td>NaN</td>\n",
              "      <td>NaN</td>\n",
              "      <td>NaN</td>\n",
              "      <td>NaN</td>\n",
              "      <td>NaN</td>\n",
              "      <td>NaN</td>\n",
              "      <td>NaN</td>\n",
              "      <td>False</td>\n",
              "    </tr>\n",
              "    <tr>\n",
              "      <th>freq</th>\n",
              "      <td>NaN</td>\n",
              "      <td>1</td>\n",
              "      <td>112</td>\n",
              "      <td>97</td>\n",
              "      <td>NaN</td>\n",
              "      <td>NaN</td>\n",
              "      <td>NaN</td>\n",
              "      <td>NaN</td>\n",
              "      <td>NaN</td>\n",
              "      <td>NaN</td>\n",
              "      <td>NaN</td>\n",
              "      <td>735</td>\n",
              "    </tr>\n",
              "    <tr>\n",
              "      <th>mean</th>\n",
              "      <td>400.5000</td>\n",
              "      <td>NaN</td>\n",
              "      <td>NaN</td>\n",
              "      <td>NaN</td>\n",
              "      <td>69.258750</td>\n",
              "      <td>79.001250</td>\n",
              "      <td>73.842500</td>\n",
              "      <td>72.820000</td>\n",
              "      <td>71.902500</td>\n",
              "      <td>68.277500</td>\n",
              "      <td>3.32375</td>\n",
              "      <td>NaN</td>\n",
              "    </tr>\n",
              "    <tr>\n",
              "      <th>std</th>\n",
              "      <td>231.0844</td>\n",
              "      <td>NaN</td>\n",
              "      <td>NaN</td>\n",
              "      <td>NaN</td>\n",
              "      <td>25.534669</td>\n",
              "      <td>32.457366</td>\n",
              "      <td>31.183501</td>\n",
              "      <td>32.722294</td>\n",
              "      <td>27.828916</td>\n",
              "      <td>29.060474</td>\n",
              "      <td>1.66129</td>\n",
              "      <td>NaN</td>\n",
              "    </tr>\n",
              "    <tr>\n",
              "      <th>min</th>\n",
              "      <td>1.0000</td>\n",
              "      <td>NaN</td>\n",
              "      <td>NaN</td>\n",
              "      <td>NaN</td>\n",
              "      <td>1.000000</td>\n",
              "      <td>5.000000</td>\n",
              "      <td>5.000000</td>\n",
              "      <td>10.000000</td>\n",
              "      <td>20.000000</td>\n",
              "      <td>5.000000</td>\n",
              "      <td>1.00000</td>\n",
              "      <td>NaN</td>\n",
              "    </tr>\n",
              "    <tr>\n",
              "      <th>25%</th>\n",
              "      <td>200.7500</td>\n",
              "      <td>NaN</td>\n",
              "      <td>NaN</td>\n",
              "      <td>NaN</td>\n",
              "      <td>50.000000</td>\n",
              "      <td>55.000000</td>\n",
              "      <td>50.000000</td>\n",
              "      <td>49.750000</td>\n",
              "      <td>50.000000</td>\n",
              "      <td>45.000000</td>\n",
              "      <td>2.00000</td>\n",
              "      <td>NaN</td>\n",
              "    </tr>\n",
              "    <tr>\n",
              "      <th>50%</th>\n",
              "      <td>400.5000</td>\n",
              "      <td>NaN</td>\n",
              "      <td>NaN</td>\n",
              "      <td>NaN</td>\n",
              "      <td>65.000000</td>\n",
              "      <td>75.000000</td>\n",
              "      <td>70.000000</td>\n",
              "      <td>65.000000</td>\n",
              "      <td>70.000000</td>\n",
              "      <td>65.000000</td>\n",
              "      <td>3.00000</td>\n",
              "      <td>NaN</td>\n",
              "    </tr>\n",
              "    <tr>\n",
              "      <th>75%</th>\n",
              "      <td>600.2500</td>\n",
              "      <td>NaN</td>\n",
              "      <td>NaN</td>\n",
              "      <td>NaN</td>\n",
              "      <td>80.000000</td>\n",
              "      <td>100.000000</td>\n",
              "      <td>90.000000</td>\n",
              "      <td>95.000000</td>\n",
              "      <td>90.000000</td>\n",
              "      <td>90.000000</td>\n",
              "      <td>5.00000</td>\n",
              "      <td>NaN</td>\n",
              "    </tr>\n",
              "    <tr>\n",
              "      <th>max</th>\n",
              "      <td>800.0000</td>\n",
              "      <td>NaN</td>\n",
              "      <td>NaN</td>\n",
              "      <td>NaN</td>\n",
              "      <td>255.000000</td>\n",
              "      <td>190.000000</td>\n",
              "      <td>230.000000</td>\n",
              "      <td>194.000000</td>\n",
              "      <td>230.000000</td>\n",
              "      <td>180.000000</td>\n",
              "      <td>6.00000</td>\n",
              "      <td>NaN</td>\n",
              "    </tr>\n",
              "  </tbody>\n",
              "</table>\n",
              "</div>"
            ],
            "text/plain": [
              "              ID           Name  Type1  ...       Speed  Generation  Legendary\n",
              "count   800.0000            799    800  ...  800.000000   800.00000        800\n",
              "unique       NaN            799     18  ...         NaN         NaN          2\n",
              "top          NaN  Mega Ampharos  Water  ...         NaN         NaN      False\n",
              "freq         NaN              1    112  ...         NaN         NaN        735\n",
              "mean    400.5000            NaN    NaN  ...   68.277500     3.32375        NaN\n",
              "std     231.0844            NaN    NaN  ...   29.060474     1.66129        NaN\n",
              "min       1.0000            NaN    NaN  ...    5.000000     1.00000        NaN\n",
              "25%     200.7500            NaN    NaN  ...   45.000000     2.00000        NaN\n",
              "50%     400.5000            NaN    NaN  ...   65.000000     3.00000        NaN\n",
              "75%     600.2500            NaN    NaN  ...   90.000000     5.00000        NaN\n",
              "max     800.0000            NaN    NaN  ...  180.000000     6.00000        NaN\n",
              "\n",
              "[11 rows x 12 columns]"
            ]
          },
          "metadata": {
            "tags": []
          },
          "execution_count": 15
        }
      ]
    },
    {
      "cell_type": "code",
      "metadata": {
        "colab": {
          "base_uri": "https://localhost:8080/",
          "height": 419
        },
        "id": "ithIsgb2pZ-o",
        "outputId": "b664cc53-b4cd-4cb9-b79e-0f1319433743"
      },
      "source": [
        "pokemon"
      ],
      "execution_count": null,
      "outputs": [
        {
          "output_type": "execute_result",
          "data": {
            "text/html": [
              "<div>\n",
              "<style scoped>\n",
              "    .dataframe tbody tr th:only-of-type {\n",
              "        vertical-align: middle;\n",
              "    }\n",
              "\n",
              "    .dataframe tbody tr th {\n",
              "        vertical-align: top;\n",
              "    }\n",
              "\n",
              "    .dataframe thead th {\n",
              "        text-align: right;\n",
              "    }\n",
              "</style>\n",
              "<table border=\"1\" class=\"dataframe\">\n",
              "  <thead>\n",
              "    <tr style=\"text-align: right;\">\n",
              "      <th></th>\n",
              "      <th>ID</th>\n",
              "      <th>Name</th>\n",
              "      <th>Type1</th>\n",
              "      <th>Type2</th>\n",
              "      <th>HP</th>\n",
              "      <th>Attack</th>\n",
              "      <th>Defense</th>\n",
              "      <th>Sp. Atk</th>\n",
              "      <th>Sp. Def</th>\n",
              "      <th>Speed</th>\n",
              "      <th>Generation</th>\n",
              "      <th>Legendary</th>\n",
              "    </tr>\n",
              "  </thead>\n",
              "  <tbody>\n",
              "    <tr>\n",
              "      <th>0</th>\n",
              "      <td>1</td>\n",
              "      <td>Bulbasaur</td>\n",
              "      <td>Grass</td>\n",
              "      <td>Poison</td>\n",
              "      <td>45</td>\n",
              "      <td>49</td>\n",
              "      <td>49</td>\n",
              "      <td>65</td>\n",
              "      <td>65</td>\n",
              "      <td>45</td>\n",
              "      <td>1</td>\n",
              "      <td>False</td>\n",
              "    </tr>\n",
              "    <tr>\n",
              "      <th>1</th>\n",
              "      <td>2</td>\n",
              "      <td>Ivysaur</td>\n",
              "      <td>Grass</td>\n",
              "      <td>Poison</td>\n",
              "      <td>60</td>\n",
              "      <td>62</td>\n",
              "      <td>63</td>\n",
              "      <td>80</td>\n",
              "      <td>80</td>\n",
              "      <td>60</td>\n",
              "      <td>1</td>\n",
              "      <td>False</td>\n",
              "    </tr>\n",
              "    <tr>\n",
              "      <th>2</th>\n",
              "      <td>3</td>\n",
              "      <td>Venusaur</td>\n",
              "      <td>Grass</td>\n",
              "      <td>Poison</td>\n",
              "      <td>80</td>\n",
              "      <td>82</td>\n",
              "      <td>83</td>\n",
              "      <td>100</td>\n",
              "      <td>100</td>\n",
              "      <td>80</td>\n",
              "      <td>1</td>\n",
              "      <td>False</td>\n",
              "    </tr>\n",
              "    <tr>\n",
              "      <th>3</th>\n",
              "      <td>4</td>\n",
              "      <td>Mega Venusaur</td>\n",
              "      <td>Grass</td>\n",
              "      <td>Poison</td>\n",
              "      <td>80</td>\n",
              "      <td>100</td>\n",
              "      <td>123</td>\n",
              "      <td>122</td>\n",
              "      <td>120</td>\n",
              "      <td>80</td>\n",
              "      <td>1</td>\n",
              "      <td>False</td>\n",
              "    </tr>\n",
              "    <tr>\n",
              "      <th>4</th>\n",
              "      <td>5</td>\n",
              "      <td>Charmander</td>\n",
              "      <td>Fire</td>\n",
              "      <td>NaN</td>\n",
              "      <td>39</td>\n",
              "      <td>52</td>\n",
              "      <td>43</td>\n",
              "      <td>60</td>\n",
              "      <td>50</td>\n",
              "      <td>65</td>\n",
              "      <td>1</td>\n",
              "      <td>False</td>\n",
              "    </tr>\n",
              "    <tr>\n",
              "      <th>...</th>\n",
              "      <td>...</td>\n",
              "      <td>...</td>\n",
              "      <td>...</td>\n",
              "      <td>...</td>\n",
              "      <td>...</td>\n",
              "      <td>...</td>\n",
              "      <td>...</td>\n",
              "      <td>...</td>\n",
              "      <td>...</td>\n",
              "      <td>...</td>\n",
              "      <td>...</td>\n",
              "      <td>...</td>\n",
              "    </tr>\n",
              "    <tr>\n",
              "      <th>795</th>\n",
              "      <td>796</td>\n",
              "      <td>Diancie</td>\n",
              "      <td>Rock</td>\n",
              "      <td>Fairy</td>\n",
              "      <td>50</td>\n",
              "      <td>100</td>\n",
              "      <td>150</td>\n",
              "      <td>100</td>\n",
              "      <td>150</td>\n",
              "      <td>50</td>\n",
              "      <td>6</td>\n",
              "      <td>True</td>\n",
              "    </tr>\n",
              "    <tr>\n",
              "      <th>796</th>\n",
              "      <td>797</td>\n",
              "      <td>Mega Diancie</td>\n",
              "      <td>Rock</td>\n",
              "      <td>Fairy</td>\n",
              "      <td>50</td>\n",
              "      <td>160</td>\n",
              "      <td>110</td>\n",
              "      <td>160</td>\n",
              "      <td>110</td>\n",
              "      <td>110</td>\n",
              "      <td>6</td>\n",
              "      <td>True</td>\n",
              "    </tr>\n",
              "    <tr>\n",
              "      <th>797</th>\n",
              "      <td>798</td>\n",
              "      <td>Hoopa Confined</td>\n",
              "      <td>Psychic</td>\n",
              "      <td>Ghost</td>\n",
              "      <td>80</td>\n",
              "      <td>110</td>\n",
              "      <td>60</td>\n",
              "      <td>150</td>\n",
              "      <td>130</td>\n",
              "      <td>70</td>\n",
              "      <td>6</td>\n",
              "      <td>True</td>\n",
              "    </tr>\n",
              "    <tr>\n",
              "      <th>798</th>\n",
              "      <td>799</td>\n",
              "      <td>Hoopa Unbound</td>\n",
              "      <td>Psychic</td>\n",
              "      <td>Dark</td>\n",
              "      <td>80</td>\n",
              "      <td>160</td>\n",
              "      <td>60</td>\n",
              "      <td>170</td>\n",
              "      <td>130</td>\n",
              "      <td>80</td>\n",
              "      <td>6</td>\n",
              "      <td>True</td>\n",
              "    </tr>\n",
              "    <tr>\n",
              "      <th>799</th>\n",
              "      <td>800</td>\n",
              "      <td>Volcanion</td>\n",
              "      <td>Fire</td>\n",
              "      <td>Water</td>\n",
              "      <td>80</td>\n",
              "      <td>110</td>\n",
              "      <td>120</td>\n",
              "      <td>130</td>\n",
              "      <td>90</td>\n",
              "      <td>70</td>\n",
              "      <td>6</td>\n",
              "      <td>True</td>\n",
              "    </tr>\n",
              "  </tbody>\n",
              "</table>\n",
              "<p>800 rows × 12 columns</p>\n",
              "</div>"
            ],
            "text/plain": [
              "      ID            Name    Type1  ... Speed  Generation  Legendary\n",
              "0      1       Bulbasaur    Grass  ...    45           1      False\n",
              "1      2         Ivysaur    Grass  ...    60           1      False\n",
              "2      3        Venusaur    Grass  ...    80           1      False\n",
              "3      4   Mega Venusaur    Grass  ...    80           1      False\n",
              "4      5      Charmander     Fire  ...    65           1      False\n",
              "..   ...             ...      ...  ...   ...         ...        ...\n",
              "795  796         Diancie     Rock  ...    50           6       True\n",
              "796  797    Mega Diancie     Rock  ...   110           6       True\n",
              "797  798  Hoopa Confined  Psychic  ...    70           6       True\n",
              "798  799   Hoopa Unbound  Psychic  ...    80           6       True\n",
              "799  800       Volcanion     Fire  ...    70           6       True\n",
              "\n",
              "[800 rows x 12 columns]"
            ]
          },
          "metadata": {
            "tags": []
          },
          "execution_count": 21
        }
      ]
    },
    {
      "cell_type": "code",
      "metadata": {
        "id": "CWM150ltg3d9",
        "outputId": "aae0a66a-5132-45ef-933e-ef780fd3b311"
      },
      "source": [
        "pokemon.info()"
      ],
      "execution_count": null,
      "outputs": [
        {
          "output_type": "stream",
          "text": [
            "<class 'pandas.core.frame.DataFrame'>\n",
            "RangeIndex: 800 entries, 0 to 799\n",
            "Data columns (total 12 columns):\n",
            " #   Column      Non-Null Count  Dtype \n",
            "---  ------      --------------  ----- \n",
            " 0   ID          800 non-null    int64 \n",
            " 1   Name        799 non-null    object\n",
            " 2   Type1       800 non-null    object\n",
            " 3   Type2       414 non-null    object\n",
            " 4   HP          800 non-null    int64 \n",
            " 5   Attack      800 non-null    int64 \n",
            " 6   Defense     800 non-null    int64 \n",
            " 7   Sp. Atk     800 non-null    int64 \n",
            " 8   Sp. Def     800 non-null    int64 \n",
            " 9   Speed       800 non-null    int64 \n",
            " 10  Generation  800 non-null    int64 \n",
            " 11  Legendary   800 non-null    bool  \n",
            "dtypes: bool(1), int64(8), object(3)\n",
            "memory usage: 69.7+ KB\n"
          ],
          "name": "stdout"
        }
      ]
    },
    {
      "cell_type": "markdown",
      "metadata": {
        "id": "b22HQUN_mpFW"
      },
      "source": [
        "##### Valori nulli Pokemon stats"
      ]
    },
    {
      "cell_type": "code",
      "metadata": {
        "id": "PJbJWUTzg3d-",
        "outputId": "128feed0-9b97-491e-e484-e2845a821aeb"
      },
      "source": [
        "#Verifica dei valori nulli\n",
        "\n",
        "pd.isnull(pokemon).sum()"
      ],
      "execution_count": null,
      "outputs": [
        {
          "output_type": "execute_result",
          "data": {
            "text/plain": [
              "ID              0\n",
              "Name            1\n",
              "Type1           0\n",
              "Type2         386\n",
              "HP              0\n",
              "Attack          0\n",
              "Defense         0\n",
              "Sp. Atk         0\n",
              "Sp. Def         0\n",
              "Speed           0\n",
              "Generation      0\n",
              "Legendary       0\n",
              "dtype: int64"
            ]
          },
          "metadata": {
            "tags": []
          },
          "execution_count": 1339
        }
      ]
    },
    {
      "cell_type": "markdown",
      "metadata": {
        "id": "K9mMNkj0mSru"
      },
      "source": [
        "Type2 ha 386 valori nulli, ma prima di modificare il dataframe, analizzo i dati e, dai grafici, cerco delle info che possano essere utili"
      ]
    },
    {
      "cell_type": "code",
      "metadata": {
        "id": "S0wbn_yYnvkm"
      },
      "source": [
        "t2_nan_values = pokemon.loc[pokemon['Type2'].isnull()]"
      ],
      "execution_count": null,
      "outputs": []
    },
    {
      "cell_type": "code",
      "metadata": {
        "colab": {
          "base_uri": "https://localhost:8080/",
          "height": 419
        },
        "id": "G0XuNwthnxjj",
        "outputId": "28a2d304-54be-4203-cdca-1801279be8a6"
      },
      "source": [
        "t2_nan_values"
      ],
      "execution_count": null,
      "outputs": [
        {
          "output_type": "execute_result",
          "data": {
            "text/html": [
              "<div>\n",
              "<style scoped>\n",
              "    .dataframe tbody tr th:only-of-type {\n",
              "        vertical-align: middle;\n",
              "    }\n",
              "\n",
              "    .dataframe tbody tr th {\n",
              "        vertical-align: top;\n",
              "    }\n",
              "\n",
              "    .dataframe thead th {\n",
              "        text-align: right;\n",
              "    }\n",
              "</style>\n",
              "<table border=\"1\" class=\"dataframe\">\n",
              "  <thead>\n",
              "    <tr style=\"text-align: right;\">\n",
              "      <th></th>\n",
              "      <th>ID</th>\n",
              "      <th>Name</th>\n",
              "      <th>Type1</th>\n",
              "      <th>Type2</th>\n",
              "      <th>HP</th>\n",
              "      <th>Attack</th>\n",
              "      <th>Defense</th>\n",
              "      <th>Sp. Atk</th>\n",
              "      <th>Sp. Def</th>\n",
              "      <th>Speed</th>\n",
              "      <th>Generation</th>\n",
              "      <th>Legendary</th>\n",
              "    </tr>\n",
              "  </thead>\n",
              "  <tbody>\n",
              "    <tr>\n",
              "      <th>4</th>\n",
              "      <td>5</td>\n",
              "      <td>Charmander</td>\n",
              "      <td>Fire</td>\n",
              "      <td>NaN</td>\n",
              "      <td>39</td>\n",
              "      <td>52</td>\n",
              "      <td>43</td>\n",
              "      <td>60</td>\n",
              "      <td>50</td>\n",
              "      <td>65</td>\n",
              "      <td>1</td>\n",
              "      <td>False</td>\n",
              "    </tr>\n",
              "    <tr>\n",
              "      <th>5</th>\n",
              "      <td>6</td>\n",
              "      <td>Charmeleon</td>\n",
              "      <td>Fire</td>\n",
              "      <td>NaN</td>\n",
              "      <td>58</td>\n",
              "      <td>64</td>\n",
              "      <td>58</td>\n",
              "      <td>80</td>\n",
              "      <td>65</td>\n",
              "      <td>80</td>\n",
              "      <td>1</td>\n",
              "      <td>False</td>\n",
              "    </tr>\n",
              "    <tr>\n",
              "      <th>9</th>\n",
              "      <td>10</td>\n",
              "      <td>Squirtle</td>\n",
              "      <td>Water</td>\n",
              "      <td>NaN</td>\n",
              "      <td>44</td>\n",
              "      <td>48</td>\n",
              "      <td>65</td>\n",
              "      <td>50</td>\n",
              "      <td>64</td>\n",
              "      <td>43</td>\n",
              "      <td>1</td>\n",
              "      <td>False</td>\n",
              "    </tr>\n",
              "    <tr>\n",
              "      <th>10</th>\n",
              "      <td>11</td>\n",
              "      <td>Wartortle</td>\n",
              "      <td>Water</td>\n",
              "      <td>NaN</td>\n",
              "      <td>59</td>\n",
              "      <td>63</td>\n",
              "      <td>80</td>\n",
              "      <td>65</td>\n",
              "      <td>80</td>\n",
              "      <td>58</td>\n",
              "      <td>1</td>\n",
              "      <td>False</td>\n",
              "    </tr>\n",
              "    <tr>\n",
              "      <th>11</th>\n",
              "      <td>12</td>\n",
              "      <td>Blastoise</td>\n",
              "      <td>Water</td>\n",
              "      <td>NaN</td>\n",
              "      <td>79</td>\n",
              "      <td>83</td>\n",
              "      <td>100</td>\n",
              "      <td>85</td>\n",
              "      <td>105</td>\n",
              "      <td>78</td>\n",
              "      <td>1</td>\n",
              "      <td>False</td>\n",
              "    </tr>\n",
              "    <tr>\n",
              "      <th>...</th>\n",
              "      <td>...</td>\n",
              "      <td>...</td>\n",
              "      <td>...</td>\n",
              "      <td>...</td>\n",
              "      <td>...</td>\n",
              "      <td>...</td>\n",
              "      <td>...</td>\n",
              "      <td>...</td>\n",
              "      <td>...</td>\n",
              "      <td>...</td>\n",
              "      <td>...</td>\n",
              "      <td>...</td>\n",
              "    </tr>\n",
              "    <tr>\n",
              "      <th>775</th>\n",
              "      <td>776</td>\n",
              "      <td>Sliggoo</td>\n",
              "      <td>Dragon</td>\n",
              "      <td>NaN</td>\n",
              "      <td>68</td>\n",
              "      <td>75</td>\n",
              "      <td>53</td>\n",
              "      <td>83</td>\n",
              "      <td>113</td>\n",
              "      <td>60</td>\n",
              "      <td>6</td>\n",
              "      <td>False</td>\n",
              "    </tr>\n",
              "    <tr>\n",
              "      <th>776</th>\n",
              "      <td>777</td>\n",
              "      <td>Goodra</td>\n",
              "      <td>Dragon</td>\n",
              "      <td>NaN</td>\n",
              "      <td>90</td>\n",
              "      <td>100</td>\n",
              "      <td>70</td>\n",
              "      <td>110</td>\n",
              "      <td>150</td>\n",
              "      <td>80</td>\n",
              "      <td>6</td>\n",
              "      <td>False</td>\n",
              "    </tr>\n",
              "    <tr>\n",
              "      <th>788</th>\n",
              "      <td>789</td>\n",
              "      <td>Bergmite</td>\n",
              "      <td>Ice</td>\n",
              "      <td>NaN</td>\n",
              "      <td>55</td>\n",
              "      <td>69</td>\n",
              "      <td>85</td>\n",
              "      <td>32</td>\n",
              "      <td>35</td>\n",
              "      <td>28</td>\n",
              "      <td>6</td>\n",
              "      <td>False</td>\n",
              "    </tr>\n",
              "    <tr>\n",
              "      <th>789</th>\n",
              "      <td>790</td>\n",
              "      <td>Avalugg</td>\n",
              "      <td>Ice</td>\n",
              "      <td>NaN</td>\n",
              "      <td>95</td>\n",
              "      <td>117</td>\n",
              "      <td>184</td>\n",
              "      <td>44</td>\n",
              "      <td>46</td>\n",
              "      <td>28</td>\n",
              "      <td>6</td>\n",
              "      <td>False</td>\n",
              "    </tr>\n",
              "    <tr>\n",
              "      <th>792</th>\n",
              "      <td>793</td>\n",
              "      <td>Xerneas</td>\n",
              "      <td>Fairy</td>\n",
              "      <td>NaN</td>\n",
              "      <td>126</td>\n",
              "      <td>131</td>\n",
              "      <td>95</td>\n",
              "      <td>131</td>\n",
              "      <td>98</td>\n",
              "      <td>99</td>\n",
              "      <td>6</td>\n",
              "      <td>True</td>\n",
              "    </tr>\n",
              "  </tbody>\n",
              "</table>\n",
              "<p>386 rows × 12 columns</p>\n",
              "</div>"
            ],
            "text/plain": [
              "      ID        Name   Type1 Type2  ...  Sp. Def  Speed  Generation  Legendary\n",
              "4      5  Charmander    Fire   NaN  ...       50     65           1      False\n",
              "5      6  Charmeleon    Fire   NaN  ...       65     80           1      False\n",
              "9     10    Squirtle   Water   NaN  ...       64     43           1      False\n",
              "10    11   Wartortle   Water   NaN  ...       80     58           1      False\n",
              "11    12   Blastoise   Water   NaN  ...      105     78           1      False\n",
              "..   ...         ...     ...   ...  ...      ...    ...         ...        ...\n",
              "775  776     Sliggoo  Dragon   NaN  ...      113     60           6      False\n",
              "776  777      Goodra  Dragon   NaN  ...      150     80           6      False\n",
              "788  789    Bergmite     Ice   NaN  ...       35     28           6      False\n",
              "789  790     Avalugg     Ice   NaN  ...       46     28           6      False\n",
              "792  793     Xerneas   Fairy   NaN  ...       98     99           6       True\n",
              "\n",
              "[386 rows x 12 columns]"
            ]
          },
          "metadata": {
            "tags": []
          },
          "execution_count": 19
        }
      ]
    },
    {
      "cell_type": "markdown",
      "metadata": {
        "id": "1-Lpux80oV2l"
      },
      "source": [
        "Ok, adesso grafico i dati ottenuti"
      ]
    },
    {
      "cell_type": "code",
      "metadata": {
        "colab": {
          "base_uri": "https://localhost:8080/",
          "height": 293
        },
        "id": "5HXj3dyYg3eC",
        "outputId": "d9e1accb-89d0-4d1b-dfc1-4e21fca35686"
      },
      "source": [
        "# Per ogni Generazione vedo quanti pokemon ci sono con Type2 nan\n",
        "\n",
        "t2_nan_values.groupby('Generation').count().Name.plot(kind='bar')"
      ],
      "execution_count": null,
      "outputs": [
        {
          "output_type": "execute_result",
          "data": {
            "text/plain": [
              "<matplotlib.axes._subplots.AxesSubplot at 0x7f715e250d10>"
            ]
          },
          "metadata": {
            "tags": []
          },
          "execution_count": 47
        },
        {
          "output_type": "display_data",
          "data": {
            "image/png": "[encoded data removed]",
            "text/plain": [
              "<Figure size 432x288 with 1 Axes>"
            ]
          },
          "metadata": {
            "tags": [],
            "needs_background": "light"
          }
        }
      ]
    },
    {
      "cell_type": "code",
      "metadata": {
        "colab": {
          "base_uri": "https://localhost:8080/"
        },
        "id": "LrL7M8ZZo5u1",
        "outputId": "74cdf131-9fbd-43c0-88b3-44549b1d5f3a"
      },
      "source": [
        "t2_nan_values.groupby('Generation').count().Name"
      ],
      "execution_count": null,
      "outputs": [
        {
          "output_type": "execute_result",
          "data": {
            "text/plain": [
              "Generation\n",
              "1    87\n",
              "2    51\n",
              "3    78\n",
              "4    54\n",
              "5    83\n",
              "6    32\n",
              "Name: Name, dtype: int64"
            ]
          },
          "metadata": {
            "tags": []
          },
          "execution_count": 20
        }
      ]
    },
    {
      "cell_type": "code",
      "metadata": {
        "colab": {
          "base_uri": "https://localhost:8080/",
          "height": 312
        },
        "id": "AP_Ao_qng3eC",
        "outputId": "e8a531da-fe51-4e25-9128-540d40227da9"
      },
      "source": [
        "# Per ogni pokemon leggendario, vedo quanti sono con Type2 nan\n",
        "\n",
        "t2_nan_values.groupby('Legendary').count().Name.plot(kind='bar')"
      ],
      "execution_count": null,
      "outputs": [
        {
          "output_type": "execute_result",
          "data": {
            "text/plain": [
              "<matplotlib.axes._subplots.AxesSubplot at 0x7f715e1c3bd0>"
            ]
          },
          "metadata": {
            "tags": []
          },
          "execution_count": 48
        },
        {
          "output_type": "display_data",
          "data": {
            "image/png": "[encoded data removed]",
            "text/plain": [
              "<Figure size 432x288 with 1 Axes>"
            ]
          },
          "metadata": {
            "tags": [],
            "needs_background": "light"
          }
        }
      ]
    },
    {
      "cell_type": "code",
      "metadata": {
        "id": "ixW0Ozd7g3eC",
        "outputId": "65544bde-7b78-4649-fb1d-a89ba914e28c"
      },
      "source": [
        "t2_nan_values.groupby('Legendary').count().Name"
      ],
      "execution_count": null,
      "outputs": [
        {
          "output_type": "execute_result",
          "data": {
            "text/plain": [
              "Legendary\n",
              "False    360\n",
              "True      25\n",
              "Name: Name, dtype: int64"
            ]
          },
          "metadata": {
            "tags": []
          },
          "execution_count": 1296
        }
      ]
    },
    {
      "cell_type": "markdown",
      "metadata": {
        "id": "XATmuppppAly"
      },
      "source": [
        "Poichè sono dei valori abbastanza distribuiti, e inoltre i valori di Type2 rappresentano il 48,25% del totale, non posso eliminare semplicemente la colonna e nemmeno le righe con i valori a nan (in questo caso perderei una grande quantità di informazione sulle altre features).\n",
        "Per questo motivo sostituisco i valori posti a nan con una stringa che mi indica semplicemente che quel pokemon non ha quella tipologia. \n",
        "Anche se sto aggiungendo un tipologia del pokemon, questo non cambia il significato del dataset."
      ]
    },
    {
      "cell_type": "code",
      "metadata": {
        "id": "xu2l3n0Qq7Ae"
      },
      "source": [
        "pokemon[\"Type2\"].replace(np.nan, \"No\", inplace=True)"
      ],
      "execution_count": 60,
      "outputs": []
    },
    {
      "cell_type": "code",
      "metadata": {
        "colab": {
          "base_uri": "https://localhost:8080/",
          "height": 204
        },
        "id": "sxi7-TThrA6P",
        "outputId": "b40bcfd1-9d50-49c6-a827-b21abd22a4f4"
      },
      "source": [
        "pokemon.sample(5)"
      ],
      "execution_count": null,
      "outputs": [
        {
          "output_type": "execute_result",
          "data": {
            "text/html": [
              "<div>\n",
              "<style scoped>\n",
              "    .dataframe tbody tr th:only-of-type {\n",
              "        vertical-align: middle;\n",
              "    }\n",
              "\n",
              "    .dataframe tbody tr th {\n",
              "        vertical-align: top;\n",
              "    }\n",
              "\n",
              "    .dataframe thead th {\n",
              "        text-align: right;\n",
              "    }\n",
              "</style>\n",
              "<table border=\"1\" class=\"dataframe\">\n",
              "  <thead>\n",
              "    <tr style=\"text-align: right;\">\n",
              "      <th></th>\n",
              "      <th>ID</th>\n",
              "      <th>Name</th>\n",
              "      <th>Type1</th>\n",
              "      <th>Type2</th>\n",
              "      <th>HP</th>\n",
              "      <th>Attack</th>\n",
              "      <th>Defense</th>\n",
              "      <th>Sp. Atk</th>\n",
              "      <th>Sp. Def</th>\n",
              "      <th>Speed</th>\n",
              "      <th>Generation</th>\n",
              "      <th>Legendary</th>\n",
              "    </tr>\n",
              "  </thead>\n",
              "  <tbody>\n",
              "    <tr>\n",
              "      <th>104</th>\n",
              "      <td>105</td>\n",
              "      <td>Drowzee</td>\n",
              "      <td>Psychic</td>\n",
              "      <td>No</td>\n",
              "      <td>60</td>\n",
              "      <td>48</td>\n",
              "      <td>45</td>\n",
              "      <td>43</td>\n",
              "      <td>90</td>\n",
              "      <td>42</td>\n",
              "      <td>1</td>\n",
              "      <td>False</td>\n",
              "    </tr>\n",
              "    <tr>\n",
              "      <th>409</th>\n",
              "      <td>410</td>\n",
              "      <td>Mega Salamence</td>\n",
              "      <td>Dragon</td>\n",
              "      <td>Flying</td>\n",
              "      <td>95</td>\n",
              "      <td>145</td>\n",
              "      <td>130</td>\n",
              "      <td>120</td>\n",
              "      <td>90</td>\n",
              "      <td>120</td>\n",
              "      <td>3</td>\n",
              "      <td>False</td>\n",
              "    </tr>\n",
              "    <tr>\n",
              "      <th>430</th>\n",
              "      <td>431</td>\n",
              "      <td>Deoxys Defense Forme</td>\n",
              "      <td>Psychic</td>\n",
              "      <td>No</td>\n",
              "      <td>50</td>\n",
              "      <td>70</td>\n",
              "      <td>160</td>\n",
              "      <td>70</td>\n",
              "      <td>160</td>\n",
              "      <td>90</td>\n",
              "      <td>3</td>\n",
              "      <td>True</td>\n",
              "    </tr>\n",
              "    <tr>\n",
              "      <th>89</th>\n",
              "      <td>90</td>\n",
              "      <td>Magneton</td>\n",
              "      <td>Electric</td>\n",
              "      <td>Steel</td>\n",
              "      <td>50</td>\n",
              "      <td>60</td>\n",
              "      <td>95</td>\n",
              "      <td>120</td>\n",
              "      <td>70</td>\n",
              "      <td>70</td>\n",
              "      <td>1</td>\n",
              "      <td>False</td>\n",
              "    </tr>\n",
              "    <tr>\n",
              "      <th>692</th>\n",
              "      <td>693</td>\n",
              "      <td>Heatmor</td>\n",
              "      <td>Fire</td>\n",
              "      <td>No</td>\n",
              "      <td>85</td>\n",
              "      <td>97</td>\n",
              "      <td>66</td>\n",
              "      <td>105</td>\n",
              "      <td>66</td>\n",
              "      <td>65</td>\n",
              "      <td>5</td>\n",
              "      <td>False</td>\n",
              "    </tr>\n",
              "  </tbody>\n",
              "</table>\n",
              "</div>"
            ],
            "text/plain": [
              "      ID                  Name     Type1  ... Speed  Generation  Legendary\n",
              "104  105               Drowzee   Psychic  ...    42           1      False\n",
              "409  410        Mega Salamence    Dragon  ...   120           3      False\n",
              "430  431  Deoxys Defense Forme   Psychic  ...    90           3       True\n",
              "89    90              Magneton  Electric  ...    70           1      False\n",
              "692  693               Heatmor      Fire  ...    65           5      False\n",
              "\n",
              "[5 rows x 12 columns]"
            ]
          },
          "metadata": {
            "tags": []
          },
          "execution_count": 7
        }
      ]
    },
    {
      "cell_type": "markdown",
      "metadata": {
        "id": "O9P-A151nPmw"
      },
      "source": [
        "### Grafici sui dati"
      ]
    },
    {
      "cell_type": "code",
      "metadata": {
        "colab": {
          "base_uri": "https://localhost:8080/",
          "height": 445
        },
        "id": "f55WwLqDxkly",
        "outputId": "92b33bfc-4399-4b33-d02e-70e080b87d41"
      },
      "source": [
        "# Variazioni dei dati in generale\n",
        "\n",
        "plt.figure(figsize = (15,7))\n",
        "sns.boxplot(data = pokemon)"
      ],
      "execution_count": null,
      "outputs": [
        {
          "output_type": "execute_result",
          "data": {
            "text/plain": [
              "<matplotlib.axes._subplots.AxesSubplot at 0x7f715e3fe890>"
            ]
          },
          "metadata": {
            "tags": []
          },
          "execution_count": 45
        },
        {
          "output_type": "display_data",
          "data": {
            "image/png": "[encoded data removed]",
            "text/plain": [
              "<Figure size 1080x504 with 1 Axes>"
            ]
          },
          "metadata": {
            "tags": [],
            "needs_background": "light"
          }
        }
      ]
    },
    {
      "cell_type": "code",
      "metadata": {
        "colab": {
          "base_uri": "https://localhost:8080/",
          "height": 296
        },
        "id": "3lChNWR_g3d-",
        "outputId": "a0fed42e-d2c3-465e-e353-9d9770635682"
      },
      "source": [
        "sns.countplot(x=pokemon[\"Generation\"])"
      ],
      "execution_count": null,
      "outputs": [
        {
          "output_type": "execute_result",
          "data": {
            "text/plain": [
              "<matplotlib.axes._subplots.AxesSubplot at 0x7f7163ab5290>"
            ]
          },
          "metadata": {
            "tags": []
          },
          "execution_count": 24
        },
        {
          "output_type": "display_data",
          "data": {
            "image/png": "[encoded data removed]",
            "text/plain": [
              "<Figure size 432x288 with 1 Axes>"
            ]
          },
          "metadata": {
            "tags": [],
            "needs_background": "light"
          }
        }
      ]
    },
    {
      "cell_type": "code",
      "metadata": {
        "colab": {
          "base_uri": "https://localhost:8080/",
          "height": 296
        },
        "id": "__3YwVsDg3d_",
        "outputId": "4b818a33-fbf7-4ae5-e78c-f6c84334dad5"
      },
      "source": [
        "sns.countplot(x=pokemon[\"Legendary\"])"
      ],
      "execution_count": null,
      "outputs": [
        {
          "output_type": "execute_result",
          "data": {
            "text/plain": [
              "<matplotlib.axes._subplots.AxesSubplot at 0x7f71639d2d90>"
            ]
          },
          "metadata": {
            "tags": []
          },
          "execution_count": 25
        },
        {
          "output_type": "display_data",
          "data": {
            "image/png": "[encoded data removed]",
            "text/plain": [
              "<Figure size 432x288 with 1 Axes>"
            ]
          },
          "metadata": {
            "tags": [],
            "needs_background": "light"
          }
        }
      ]
    },
    {
      "cell_type": "code",
      "metadata": {
        "id": "dCTISIy8g3eA",
        "outputId": "88396508-5986-4922-a0fd-155463d97b65"
      },
      "source": [
        "# boxplot di Attack e Legendary, per verificare se effettivamente i Leggendari hanno più potenza di attacco\n",
        "\n",
        "plt.figure(figsize=(8, 4))\n",
        "sns.boxplot(x='Legendary',y='Attack',data=pokemon, palette='rainbow')"
      ],
      "execution_count": null,
      "outputs": [
        {
          "output_type": "execute_result",
          "data": {
            "text/plain": [
              "<matplotlib.axes._subplots.AxesSubplot at 0x7f930a78c670>"
            ]
          },
          "metadata": {
            "tags": []
          },
          "execution_count": 1343
        },
        {
          "output_type": "display_data",
          "data": {
            "text/plain": [
              "<Figure size 576x288 with 1 Axes>"
            ],
            "image/svg+xml": "<?xml version=\"1.0\" encoding=\"utf-8\" standalone=\"no\"?>\n<!DOCTYPE svg PUBLIC \"-//W3C//DTD SVG 1.1//EN\"\n  \"http://www.w3.org/Graphics/SVG/1.1/DTD/svg11.dtd\">\n<!-- Created with matplotlib (https://matplotlib.org/) -->\n<svg height=\"262.19625pt\" version=\"1.1\" viewBox=\"0 0 500.565625 262.19625\" width=\"500.565625pt\" xmlns=\"http://www.w3.org/2000/svg\" xmlns:xlink=\"http://www.w3.org/1999/xlink\">\n <defs>\n  <style type=\"text/css\">\n*{stroke-linecap:butt;stroke-linejoin:round;}\n  </style>\n </defs>\n <g id=\"figure_1\">\n  <g id=\"patch_1\">\n   <path d=\"M 0 262.19625 \nL 500.565625 262.19625 \nL 500.565625 0 \nL 0 0 \nz\n\" style=\"fill:none;\"/>\n  </g>\n  <g id=\"axes_1\">\n   <g id=\"patch_2\">\n    <path d=\"M 46.965625 224.64 \nL 493.365625 224.64 \nL 493.365625 7.2 \nL 46.965625 7.2 \nz\n\" style=\"fill:#ffffff;\"/>\n   </g>\n   <g id=\"patch_3\">\n    <path clip-path=\"url(#p59aac0c547)\" d=\"M 69.285625 161.865553 \nL 247.845625 161.865553 \nL 247.845625 118.591253 \nL 69.285625 118.591253 \nL 69.285625 161.865553 \nz\n\" style=\"fill:#41c7c7;stroke:#4f4f4f;stroke-linejoin:miter;stroke-width:1.5;\"/>\n   </g>\n   <g id=\"patch_4\">\n    <path clip-path=\"url(#p59aac0c547)\" d=\"M 292.485625 113.248747 \nL 471.045625 113.248747 \nL 471.045625 80.125209 \nL 292.485625 80.125209 \nL 292.485625 113.248747 \nz\n\" style=\"fill:#cbd18b;stroke:#4f4f4f;stroke-linejoin:miter;stroke-width:1.5;\"/>\n   </g>\n   <g id=\"matplotlib.axis_1\">\n    <g id=\"xtick_1\">\n     <g id=\"line2d_1\">\n      <defs>\n       <path d=\"M 0 0 \nL 0 3.5 \n\" id=\"mcb68f6aa9b\" style=\"stroke:#000000;stroke-width:0.8;\"/>\n      </defs>\n      <g>\n       <use style=\"stroke:#000000;stroke-width:0.8;\" x=\"158.565625\" xlink:href=\"#mcb68f6aa9b\" y=\"224.64\"/>\n      </g>\n     </g>\n     <g id=\"text_1\">\n      <!-- False -->\n      <defs>\n       <path d=\"M 9.8125 72.90625 \nL 51.703125 72.90625 \nL 51.703125 64.59375 \nL 19.671875 64.59375 \nL 19.671875 43.109375 \nL 48.578125 43.109375 \nL 48.578125 34.8125 \nL 19.671875 34.8125 \nL 19.671875 0 \nL 9.8125 0 \nz\n\" id=\"DejaVuSans-70\"/>\n       <path d=\"M 34.28125 27.484375 \nQ 23.390625 27.484375 19.1875 25 \nQ 14.984375 22.515625 14.984375 16.5 \nQ 14.984375 11.71875 18.140625 8.90625 \nQ 21.296875 6.109375 26.703125 6.109375 \nQ 34.1875 6.109375 38.703125 11.40625 \nQ 43.21875 16.703125 43.21875 25.484375 \nL 43.21875 27.484375 \nz\nM 52.203125 31.203125 \nL 52.203125 0 \nL 43.21875 0 \nL 43.21875 8.296875 \nQ 40.140625 3.328125 35.546875 0.953125 \nQ 30.953125 -1.421875 24.3125 -1.421875 \nQ 15.921875 -1.421875 10.953125 3.296875 \nQ 6 8.015625 6 15.921875 \nQ 6 25.140625 12.171875 29.828125 \nQ 18.359375 34.515625 30.609375 34.515625 \nL 43.21875 34.515625 \nL 43.21875 35.40625 \nQ 43.21875 41.609375 39.140625 45 \nQ 35.0625 48.390625 27.6875 48.390625 \nQ 23 48.390625 18.546875 47.265625 \nQ 14.109375 46.140625 10.015625 43.890625 \nL 10.015625 52.203125 \nQ 14.9375 54.109375 19.578125 55.046875 \nQ 24.21875 56 28.609375 56 \nQ 40.484375 56 46.34375 49.84375 \nQ 52.203125 43.703125 52.203125 31.203125 \nz\n\" id=\"DejaVuSans-97\"/>\n       <path d=\"M 9.421875 75.984375 \nL 18.40625 75.984375 \nL 18.40625 0 \nL 9.421875 0 \nz\n\" id=\"DejaVuSans-108\"/>\n       <path d=\"M 44.28125 53.078125 \nL 44.28125 44.578125 \nQ 40.484375 46.53125 36.375 47.5 \nQ 32.28125 48.484375 27.875 48.484375 \nQ 21.1875 48.484375 17.84375 46.4375 \nQ 14.5 44.390625 14.5 40.28125 \nQ 14.5 37.15625 16.890625 35.375 \nQ 19.28125 33.59375 26.515625 31.984375 \nL 29.59375 31.296875 \nQ 39.15625 29.25 43.1875 25.515625 \nQ 47.21875 21.78125 47.21875 15.09375 \nQ 47.21875 7.46875 41.1875 3.015625 \nQ 35.15625 -1.421875 24.609375 -1.421875 \nQ 20.21875 -1.421875 15.453125 -0.5625 \nQ 10.6875 0.296875 5.421875 2 \nL 5.421875 11.28125 \nQ 10.40625 8.6875 15.234375 7.390625 \nQ 20.0625 6.109375 24.8125 6.109375 \nQ 31.15625 6.109375 34.5625 8.28125 \nQ 37.984375 10.453125 37.984375 14.40625 \nQ 37.984375 18.0625 35.515625 20.015625 \nQ 33.0625 21.96875 24.703125 23.78125 \nL 21.578125 24.515625 \nQ 13.234375 26.265625 9.515625 29.90625 \nQ 5.8125 33.546875 5.8125 39.890625 \nQ 5.8125 47.609375 11.28125 51.796875 \nQ 16.75 56 26.8125 56 \nQ 31.78125 56 36.171875 55.265625 \nQ 40.578125 54.546875 44.28125 53.078125 \nz\n\" id=\"DejaVuSans-115\"/>\n       <path d=\"M 56.203125 29.59375 \nL 56.203125 25.203125 \nL 14.890625 25.203125 \nQ 15.484375 15.921875 20.484375 11.0625 \nQ 25.484375 6.203125 34.421875 6.203125 \nQ 39.59375 6.203125 44.453125 7.46875 \nQ 49.3125 8.734375 54.109375 11.28125 \nL 54.109375 2.78125 \nQ 49.265625 0.734375 44.1875 -0.34375 \nQ 39.109375 -1.421875 33.890625 -1.421875 \nQ 20.796875 -1.421875 13.15625 6.1875 \nQ 5.515625 13.8125 5.515625 26.8125 \nQ 5.515625 40.234375 12.765625 48.109375 \nQ 20.015625 56 32.328125 56 \nQ 43.359375 56 49.78125 48.890625 \nQ 56.203125 41.796875 56.203125 29.59375 \nz\nM 47.21875 32.234375 \nQ 47.125 39.59375 43.09375 43.984375 \nQ 39.0625 48.390625 32.421875 48.390625 \nQ 24.90625 48.390625 20.390625 44.140625 \nQ 15.875 39.890625 15.1875 32.171875 \nz\n\" id=\"DejaVuSans-101\"/>\n      </defs>\n      <g transform=\"translate(145.5625 239.238437)scale(0.1 -0.1)\">\n       <use xlink:href=\"#DejaVuSans-70\"/>\n       <use x=\"57.378906\" xlink:href=\"#DejaVuSans-97\"/>\n       <use x=\"118.658203\" xlink:href=\"#DejaVuSans-108\"/>\n       <use x=\"146.441406\" xlink:href=\"#DejaVuSans-115\"/>\n       <use x=\"198.541016\" xlink:href=\"#DejaVuSans-101\"/>\n      </g>\n     </g>\n    </g>\n    <g id=\"xtick_2\">\n     <g id=\"line2d_2\">\n      <g>\n       <use style=\"stroke:#000000;stroke-width:0.8;\" x=\"381.765625\" xlink:href=\"#mcb68f6aa9b\" y=\"224.64\"/>\n      </g>\n     </g>\n     <g id=\"text_2\">\n      <!-- True -->\n      <defs>\n       <path d=\"M -0.296875 72.90625 \nL 61.375 72.90625 \nL 61.375 64.59375 \nL 35.5 64.59375 \nL 35.5 0 \nL 25.59375 0 \nL 25.59375 64.59375 \nL -0.296875 64.59375 \nz\n\" id=\"DejaVuSans-84\"/>\n       <path d=\"M 41.109375 46.296875 \nQ 39.59375 47.171875 37.8125 47.578125 \nQ 36.03125 48 33.890625 48 \nQ 26.265625 48 22.1875 43.046875 \nQ 18.109375 38.09375 18.109375 28.8125 \nL 18.109375 0 \nL 9.078125 0 \nL 9.078125 54.6875 \nL 18.109375 54.6875 \nL 18.109375 46.1875 \nQ 20.953125 51.171875 25.484375 53.578125 \nQ 30.03125 56 36.53125 56 \nQ 37.453125 56 38.578125 55.875 \nQ 39.703125 55.765625 41.0625 55.515625 \nz\n\" id=\"DejaVuSans-114\"/>\n       <path d=\"M 8.5 21.578125 \nL 8.5 54.6875 \nL 17.484375 54.6875 \nL 17.484375 21.921875 \nQ 17.484375 14.15625 20.5 10.265625 \nQ 23.53125 6.390625 29.59375 6.390625 \nQ 36.859375 6.390625 41.078125 11.03125 \nQ 45.3125 15.671875 45.3125 23.6875 \nL 45.3125 54.6875 \nL 54.296875 54.6875 \nL 54.296875 0 \nL 45.3125 0 \nL 45.3125 8.40625 \nQ 42.046875 3.421875 37.71875 1 \nQ 33.40625 -1.421875 27.6875 -1.421875 \nQ 18.265625 -1.421875 13.375 4.4375 \nQ 8.5 10.296875 8.5 21.578125 \nz\nM 31.109375 56 \nz\n\" id=\"DejaVuSans-117\"/>\n      </defs>\n      <g transform=\"translate(370.421875 239.238437)scale(0.1 -0.1)\">\n       <use xlink:href=\"#DejaVuSans-84\"/>\n       <use x=\"60.865234\" xlink:href=\"#DejaVuSans-114\"/>\n       <use x=\"101.978516\" xlink:href=\"#DejaVuSans-117\"/>\n       <use x=\"165.357422\" xlink:href=\"#DejaVuSans-101\"/>\n      </g>\n     </g>\n    </g>\n    <g id=\"text_3\">\n     <!-- Legendary -->\n     <defs>\n      <path d=\"M 9.8125 72.90625 \nL 19.671875 72.90625 \nL 19.671875 8.296875 \nL 55.171875 8.296875 \nL 55.171875 0 \nL 9.8125 0 \nz\n\" id=\"DejaVuSans-76\"/>\n      <path d=\"M 45.40625 27.984375 \nQ 45.40625 37.75 41.375 43.109375 \nQ 37.359375 48.484375 30.078125 48.484375 \nQ 22.859375 48.484375 18.828125 43.109375 \nQ 14.796875 37.75 14.796875 27.984375 \nQ 14.796875 18.265625 18.828125 12.890625 \nQ 22.859375 7.515625 30.078125 7.515625 \nQ 37.359375 7.515625 41.375 12.890625 \nQ 45.40625 18.265625 45.40625 27.984375 \nz\nM 54.390625 6.78125 \nQ 54.390625 -7.171875 48.1875 -13.984375 \nQ 42 -20.796875 29.203125 -20.796875 \nQ 24.46875 -20.796875 20.265625 -20.09375 \nQ 16.0625 -19.390625 12.109375 -17.921875 \nL 12.109375 -9.1875 \nQ 16.0625 -11.328125 19.921875 -12.34375 \nQ 23.78125 -13.375 27.78125 -13.375 \nQ 36.625 -13.375 41.015625 -8.765625 \nQ 45.40625 -4.15625 45.40625 5.171875 \nL 45.40625 9.625 \nQ 42.625 4.78125 38.28125 2.390625 \nQ 33.9375 0 27.875 0 \nQ 17.828125 0 11.671875 7.65625 \nQ 5.515625 15.328125 5.515625 27.984375 \nQ 5.515625 40.671875 11.671875 48.328125 \nQ 17.828125 56 27.875 56 \nQ 33.9375 56 38.28125 53.609375 \nQ 42.625 51.21875 45.40625 46.390625 \nL 45.40625 54.6875 \nL 54.390625 54.6875 \nz\n\" id=\"DejaVuSans-103\"/>\n      <path d=\"M 54.890625 33.015625 \nL 54.890625 0 \nL 45.90625 0 \nL 45.90625 32.71875 \nQ 45.90625 40.484375 42.875 44.328125 \nQ 39.84375 48.1875 33.796875 48.1875 \nQ 26.515625 48.1875 22.3125 43.546875 \nQ 18.109375 38.921875 18.109375 30.90625 \nL 18.109375 0 \nL 9.078125 0 \nL 9.078125 54.6875 \nL 18.109375 54.6875 \nL 18.109375 46.1875 \nQ 21.34375 51.125 25.703125 53.5625 \nQ 30.078125 56 35.796875 56 \nQ 45.21875 56 50.046875 50.171875 \nQ 54.890625 44.34375 54.890625 33.015625 \nz\n\" id=\"DejaVuSans-110\"/>\n      <path d=\"M 45.40625 46.390625 \nL 45.40625 75.984375 \nL 54.390625 75.984375 \nL 54.390625 0 \nL 45.40625 0 \nL 45.40625 8.203125 \nQ 42.578125 3.328125 38.25 0.953125 \nQ 33.9375 -1.421875 27.875 -1.421875 \nQ 17.96875 -1.421875 11.734375 6.484375 \nQ 5.515625 14.40625 5.515625 27.296875 \nQ 5.515625 40.1875 11.734375 48.09375 \nQ 17.96875 56 27.875 56 \nQ 33.9375 56 38.25 53.625 \nQ 42.578125 51.265625 45.40625 46.390625 \nz\nM 14.796875 27.296875 \nQ 14.796875 17.390625 18.875 11.75 \nQ 22.953125 6.109375 30.078125 6.109375 \nQ 37.203125 6.109375 41.296875 11.75 \nQ 45.40625 17.390625 45.40625 27.296875 \nQ 45.40625 37.203125 41.296875 42.84375 \nQ 37.203125 48.484375 30.078125 48.484375 \nQ 22.953125 48.484375 18.875 42.84375 \nQ 14.796875 37.203125 14.796875 27.296875 \nz\n\" id=\"DejaVuSans-100\"/>\n      <path d=\"M 32.171875 -5.078125 \nQ 28.375 -14.84375 24.75 -17.8125 \nQ 21.140625 -20.796875 15.09375 -20.796875 \nL 7.90625 -20.796875 \nL 7.90625 -13.28125 \nL 13.1875 -13.28125 \nQ 16.890625 -13.28125 18.9375 -11.515625 \nQ 21 -9.765625 23.484375 -3.21875 \nL 25.09375 0.875 \nL 2.984375 54.6875 \nL 12.5 54.6875 \nL 29.59375 11.921875 \nL 46.6875 54.6875 \nL 56.203125 54.6875 \nz\n\" id=\"DejaVuSans-121\"/>\n     </defs>\n     <g transform=\"translate(243.63125 252.916562)scale(0.1 -0.1)\">\n      <use xlink:href=\"#DejaVuSans-76\"/>\n      <use x=\"55.697266\" xlink:href=\"#DejaVuSans-101\"/>\n      <use x=\"117.220703\" xlink:href=\"#DejaVuSans-103\"/>\n      <use x=\"180.697266\" xlink:href=\"#DejaVuSans-101\"/>\n      <use x=\"242.220703\" xlink:href=\"#DejaVuSans-110\"/>\n      <use x=\"305.599609\" xlink:href=\"#DejaVuSans-100\"/>\n      <use x=\"369.076172\" xlink:href=\"#DejaVuSans-97\"/>\n      <use x=\"430.355469\" xlink:href=\"#DejaVuSans-114\"/>\n      <use x=\"471.46875\" xlink:href=\"#DejaVuSans-121\"/>\n     </g>\n    </g>\n   </g>\n   <g id=\"matplotlib.axis_2\">\n    <g id=\"ytick_1\">\n     <g id=\"line2d_3\">\n      <defs>\n       <path d=\"M 0 0 \nL -3.5 0 \n\" id=\"m1fa37f1abd\" style=\"stroke:#000000;stroke-width:0.8;\"/>\n      </defs>\n      <g>\n       <use style=\"stroke:#000000;stroke-width:0.8;\" x=\"46.965625\" xlink:href=\"#m1fa37f1abd\" y=\"220.09887\"/>\n      </g>\n     </g>\n     <g id=\"text_4\">\n      <!-- 0 -->\n      <defs>\n       <path d=\"M 31.78125 66.40625 \nQ 24.171875 66.40625 20.328125 58.90625 \nQ 16.5 51.421875 16.5 36.375 \nQ 16.5 21.390625 20.328125 13.890625 \nQ 24.171875 6.390625 31.78125 6.390625 \nQ 39.453125 6.390625 43.28125 13.890625 \nQ 47.125 21.390625 47.125 36.375 \nQ 47.125 51.421875 43.28125 58.90625 \nQ 39.453125 66.40625 31.78125 66.40625 \nz\nM 31.78125 74.21875 \nQ 44.046875 74.21875 50.515625 64.515625 \nQ 56.984375 54.828125 56.984375 36.375 \nQ 56.984375 17.96875 50.515625 8.265625 \nQ 44.046875 -1.421875 31.78125 -1.421875 \nQ 19.53125 -1.421875 13.0625 8.265625 \nQ 6.59375 17.96875 6.59375 36.375 \nQ 6.59375 54.828125 13.0625 64.515625 \nQ 19.53125 74.21875 31.78125 74.21875 \nz\n\" id=\"DejaVuSans-48\"/>\n      </defs>\n      <g transform=\"translate(33.603125 223.898089)scale(0.1 -0.1)\">\n       <use xlink:href=\"#DejaVuSans-48\"/>\n      </g>\n     </g>\n    </g>\n    <g id=\"ytick_2\">\n     <g id=\"line2d_4\">\n      <g>\n       <use style=\"stroke:#000000;stroke-width:0.8;\" x=\"46.965625\" xlink:href=\"#m1fa37f1abd\" y=\"193.386339\"/>\n      </g>\n     </g>\n     <g id=\"text_5\">\n      <!-- 25 -->\n      <defs>\n       <path d=\"M 19.1875 8.296875 \nL 53.609375 8.296875 \nL 53.609375 0 \nL 7.328125 0 \nL 7.328125 8.296875 \nQ 12.9375 14.109375 22.625 23.890625 \nQ 32.328125 33.6875 34.8125 36.53125 \nQ 39.546875 41.84375 41.421875 45.53125 \nQ 43.3125 49.21875 43.3125 52.78125 \nQ 43.3125 58.59375 39.234375 62.25 \nQ 35.15625 65.921875 28.609375 65.921875 \nQ 23.96875 65.921875 18.8125 64.3125 \nQ 13.671875 62.703125 7.8125 59.421875 \nL 7.8125 69.390625 \nQ 13.765625 71.78125 18.9375 73 \nQ 24.125 74.21875 28.421875 74.21875 \nQ 39.75 74.21875 46.484375 68.546875 \nQ 53.21875 62.890625 53.21875 53.421875 \nQ 53.21875 48.921875 51.53125 44.890625 \nQ 49.859375 40.875 45.40625 35.40625 \nQ 44.1875 33.984375 37.640625 27.21875 \nQ 31.109375 20.453125 19.1875 8.296875 \nz\n\" id=\"DejaVuSans-50\"/>\n       <path d=\"M 10.796875 72.90625 \nL 49.515625 72.90625 \nL 49.515625 64.59375 \nL 19.828125 64.59375 \nL 19.828125 46.734375 \nQ 21.96875 47.46875 24.109375 47.828125 \nQ 26.265625 48.1875 28.421875 48.1875 \nQ 40.625 48.1875 47.75 41.5 \nQ 54.890625 34.8125 54.890625 23.390625 \nQ 54.890625 11.625 47.5625 5.09375 \nQ 40.234375 -1.421875 26.90625 -1.421875 \nQ 22.3125 -1.421875 17.546875 -0.640625 \nQ 12.796875 0.140625 7.71875 1.703125 \nL 7.71875 11.625 \nQ 12.109375 9.234375 16.796875 8.0625 \nQ 21.484375 6.890625 26.703125 6.890625 \nQ 35.15625 6.890625 40.078125 11.328125 \nQ 45.015625 15.765625 45.015625 23.390625 \nQ 45.015625 31 40.078125 35.4375 \nQ 35.15625 39.890625 26.703125 39.890625 \nQ 22.75 39.890625 18.8125 39.015625 \nQ 14.890625 38.140625 10.796875 36.28125 \nz\n\" id=\"DejaVuSans-53\"/>\n      </defs>\n      <g transform=\"translate(27.240625 197.185558)scale(0.1 -0.1)\">\n       <use xlink:href=\"#DejaVuSans-50\"/>\n       <use x=\"63.623047\" xlink:href=\"#DejaVuSans-53\"/>\n      </g>\n     </g>\n    </g>\n    <g id=\"ytick_3\">\n     <g id=\"line2d_5\">\n      <g>\n       <use style=\"stroke:#000000;stroke-width:0.8;\" x=\"46.965625\" xlink:href=\"#m1fa37f1abd\" y=\"166.673808\"/>\n      </g>\n     </g>\n     <g id=\"text_6\">\n      <!-- 50 -->\n      <g transform=\"translate(27.240625 170.473027)scale(0.1 -0.1)\">\n       <use xlink:href=\"#DejaVuSans-53\"/>\n       <use x=\"63.623047\" xlink:href=\"#DejaVuSans-48\"/>\n      </g>\n     </g>\n    </g>\n    <g id=\"ytick_4\">\n     <g id=\"line2d_6\">\n      <g>\n       <use style=\"stroke:#000000;stroke-width:0.8;\" x=\"46.965625\" xlink:href=\"#m1fa37f1abd\" y=\"139.961278\"/>\n      </g>\n     </g>\n     <g id=\"text_7\">\n      <!-- 75 -->\n      <defs>\n       <path d=\"M 8.203125 72.90625 \nL 55.078125 72.90625 \nL 55.078125 68.703125 \nL 28.609375 0 \nL 18.3125 0 \nL 43.21875 64.59375 \nL 8.203125 64.59375 \nz\n\" id=\"DejaVuSans-55\"/>\n      </defs>\n      <g transform=\"translate(27.240625 143.760496)scale(0.1 -0.1)\">\n       <use xlink:href=\"#DejaVuSans-55\"/>\n       <use x=\"63.623047\" xlink:href=\"#DejaVuSans-53\"/>\n      </g>\n     </g>\n    </g>\n    <g id=\"ytick_5\">\n     <g id=\"line2d_7\">\n      <g>\n       <use style=\"stroke:#000000;stroke-width:0.8;\" x=\"46.965625\" xlink:href=\"#m1fa37f1abd\" y=\"113.248747\"/>\n      </g>\n     </g>\n     <g id=\"text_8\">\n      <!-- 100 -->\n      <defs>\n       <path d=\"M 12.40625 8.296875 \nL 28.515625 8.296875 \nL 28.515625 63.921875 \nL 10.984375 60.40625 \nL 10.984375 69.390625 \nL 28.421875 72.90625 \nL 38.28125 72.90625 \nL 38.28125 8.296875 \nL 54.390625 8.296875 \nL 54.390625 0 \nL 12.40625 0 \nz\n\" id=\"DejaVuSans-49\"/>\n      </defs>\n      <g transform=\"translate(20.878125 117.047966)scale(0.1 -0.1)\">\n       <use xlink:href=\"#DejaVuSans-49\"/>\n       <use x=\"63.623047\" xlink:href=\"#DejaVuSans-48\"/>\n       <use x=\"127.246094\" xlink:href=\"#DejaVuSans-48\"/>\n      </g>\n     </g>\n    </g>\n    <g id=\"ytick_6\">\n     <g id=\"line2d_8\">\n      <g>\n       <use style=\"stroke:#000000;stroke-width:0.8;\" x=\"46.965625\" xlink:href=\"#m1fa37f1abd\" y=\"86.536216\"/>\n      </g>\n     </g>\n     <g id=\"text_9\">\n      <!-- 125 -->\n      <g transform=\"translate(20.878125 90.335435)scale(0.1 -0.1)\">\n       <use xlink:href=\"#DejaVuSans-49\"/>\n       <use x=\"63.623047\" xlink:href=\"#DejaVuSans-50\"/>\n       <use x=\"127.246094\" xlink:href=\"#DejaVuSans-53\"/>\n      </g>\n     </g>\n    </g>\n    <g id=\"ytick_7\">\n     <g id=\"line2d_9\">\n      <g>\n       <use style=\"stroke:#000000;stroke-width:0.8;\" x=\"46.965625\" xlink:href=\"#m1fa37f1abd\" y=\"59.823686\"/>\n      </g>\n     </g>\n     <g id=\"text_10\">\n      <!-- 150 -->\n      <g transform=\"translate(20.878125 63.622904)scale(0.1 -0.1)\">\n       <use xlink:href=\"#DejaVuSans-49\"/>\n       <use x=\"63.623047\" xlink:href=\"#DejaVuSans-53\"/>\n       <use x=\"127.246094\" xlink:href=\"#DejaVuSans-48\"/>\n      </g>\n     </g>\n    </g>\n    <g id=\"ytick_8\">\n     <g id=\"line2d_10\">\n      <g>\n       <use style=\"stroke:#000000;stroke-width:0.8;\" x=\"46.965625\" xlink:href=\"#m1fa37f1abd\" y=\"33.111155\"/>\n      </g>\n     </g>\n     <g id=\"text_11\">\n      <!-- 175 -->\n      <g transform=\"translate(20.878125 36.910374)scale(0.1 -0.1)\">\n       <use xlink:href=\"#DejaVuSans-49\"/>\n       <use x=\"63.623047\" xlink:href=\"#DejaVuSans-55\"/>\n       <use x=\"127.246094\" xlink:href=\"#DejaVuSans-53\"/>\n      </g>\n     </g>\n    </g>\n    <g id=\"text_12\">\n     <!-- Attack -->\n     <defs>\n      <path d=\"M 34.1875 63.1875 \nL 20.796875 26.90625 \nL 47.609375 26.90625 \nz\nM 28.609375 72.90625 \nL 39.796875 72.90625 \nL 67.578125 0 \nL 57.328125 0 \nL 50.6875 18.703125 \nL 17.828125 18.703125 \nL 11.1875 0 \nL 0.78125 0 \nz\n\" id=\"DejaVuSans-65\"/>\n      <path d=\"M 18.3125 70.21875 \nL 18.3125 54.6875 \nL 36.8125 54.6875 \nL 36.8125 47.703125 \nL 18.3125 47.703125 \nL 18.3125 18.015625 \nQ 18.3125 11.328125 20.140625 9.421875 \nQ 21.96875 7.515625 27.59375 7.515625 \nL 36.8125 7.515625 \nL 36.8125 0 \nL 27.59375 0 \nQ 17.1875 0 13.234375 3.875 \nQ 9.28125 7.765625 9.28125 18.015625 \nL 9.28125 47.703125 \nL 2.6875 47.703125 \nL 2.6875 54.6875 \nL 9.28125 54.6875 \nL 9.28125 70.21875 \nz\n\" id=\"DejaVuSans-116\"/>\n      <path d=\"M 48.78125 52.59375 \nL 48.78125 44.1875 \nQ 44.96875 46.296875 41.140625 47.34375 \nQ 37.3125 48.390625 33.40625 48.390625 \nQ 24.65625 48.390625 19.8125 42.84375 \nQ 14.984375 37.3125 14.984375 27.296875 \nQ 14.984375 17.28125 19.8125 11.734375 \nQ 24.65625 6.203125 33.40625 6.203125 \nQ 37.3125 6.203125 41.140625 7.25 \nQ 44.96875 8.296875 48.78125 10.40625 \nL 48.78125 2.09375 \nQ 45.015625 0.34375 40.984375 -0.53125 \nQ 36.96875 -1.421875 32.421875 -1.421875 \nQ 20.0625 -1.421875 12.78125 6.34375 \nQ 5.515625 14.109375 5.515625 27.296875 \nQ 5.515625 40.671875 12.859375 48.328125 \nQ 20.21875 56 33.015625 56 \nQ 37.15625 56 41.109375 55.140625 \nQ 45.0625 54.296875 48.78125 52.59375 \nz\n\" id=\"DejaVuSans-99\"/>\n      <path d=\"M 9.078125 75.984375 \nL 18.109375 75.984375 \nL 18.109375 31.109375 \nL 44.921875 54.6875 \nL 56.390625 54.6875 \nL 27.390625 29.109375 \nL 57.625 0 \nL 45.90625 0 \nL 18.109375 26.703125 \nL 18.109375 0 \nL 9.078125 0 \nz\n\" id=\"DejaVuSans-107\"/>\n     </defs>\n     <g transform=\"translate(14.798437 131.968437)rotate(-90)scale(0.1 -0.1)\">\n      <use xlink:href=\"#DejaVuSans-65\"/>\n      <use x=\"68.392578\" xlink:href=\"#DejaVuSans-116\"/>\n      <use x=\"107.601562\" xlink:href=\"#DejaVuSans-116\"/>\n      <use x=\"146.810547\" xlink:href=\"#DejaVuSans-97\"/>\n      <use x=\"208.089844\" xlink:href=\"#DejaVuSans-99\"/>\n      <use x=\"263.070312\" xlink:href=\"#DejaVuSans-107\"/>\n     </g>\n    </g>\n   </g>\n   <g id=\"line2d_11\">\n    <path clip-path=\"url(#p59aac0c547)\" d=\"M 158.565625 161.865553 \nL 158.565625 214.756364 \n\" style=\"fill:none;stroke:#4f4f4f;stroke-linecap:square;stroke-width:1.5;\"/>\n   </g>\n   <g id=\"line2d_12\">\n    <path clip-path=\"url(#p59aac0c547)\" d=\"M 158.565625 118.591253 \nL 158.565625 54.481179 \n\" style=\"fill:none;stroke:#4f4f4f;stroke-linecap:square;stroke-width:1.5;\"/>\n   </g>\n   <g id=\"line2d_13\">\n    <path clip-path=\"url(#p59aac0c547)\" d=\"M 113.925625 214.756364 \nL 203.205625 214.756364 \n\" style=\"fill:none;stroke:#4f4f4f;stroke-linecap:square;stroke-width:1.5;\"/>\n   </g>\n   <g id=\"line2d_14\">\n    <path clip-path=\"url(#p59aac0c547)\" d=\"M 113.925625 54.481179 \nL 203.205625 54.481179 \n\" style=\"fill:none;stroke:#4f4f4f;stroke-linecap:square;stroke-width:1.5;\"/>\n   </g>\n   <g id=\"line2d_15\">\n    <defs>\n     <path d=\"M -0 3.535534 \nL 2.12132 0 \nL -0 -3.535534 \nL -2.12132 -0 \nz\n\" id=\"ma252692ed8\" style=\"stroke:#4f4f4f;stroke-linejoin:miter;\"/>\n    </defs>\n    <g clip-path=\"url(#p59aac0c547)\">\n     <use style=\"fill:#4f4f4f;stroke:#4f4f4f;stroke-linejoin:miter;\" x=\"158.565625\" xlink:href=\"#ma252692ed8\" y=\"22.426143\"/>\n     <use style=\"fill:#4f4f4f;stroke:#4f4f4f;stroke-linejoin:miter;\" x=\"158.565625\" xlink:href=\"#ma252692ed8\" y=\"44.864668\"/>\n     <use style=\"fill:#4f4f4f;stroke:#4f4f4f;stroke-linejoin:miter;\" x=\"158.565625\" xlink:href=\"#ma252692ed8\" y=\"49.138673\"/>\n     <use style=\"fill:#4f4f4f;stroke:#4f4f4f;stroke-linejoin:miter;\" x=\"158.565625\" xlink:href=\"#ma252692ed8\" y=\"49.138673\"/>\n     <use style=\"fill:#4f4f4f;stroke:#4f4f4f;stroke-linejoin:miter;\" x=\"158.565625\" xlink:href=\"#ma252692ed8\" y=\"43.796167\"/>\n     <use style=\"fill:#4f4f4f;stroke:#4f4f4f;stroke-linejoin:miter;\" x=\"158.565625\" xlink:href=\"#ma252692ed8\" y=\"43.796167\"/>\n     <use style=\"fill:#4f4f4f;stroke:#4f4f4f;stroke-linejoin:miter;\" x=\"158.565625\" xlink:href=\"#ma252692ed8\" y=\"38.453661\"/>\n     <use style=\"fill:#4f4f4f;stroke:#4f4f4f;stroke-linejoin:miter;\" x=\"158.565625\" xlink:href=\"#ma252692ed8\" y=\"43.796167\"/>\n    </g>\n   </g>\n   <g id=\"line2d_16\">\n    <path clip-path=\"url(#p59aac0c547)\" d=\"M 381.765625 113.248747 \nL 381.765625 145.303784 \n\" style=\"fill:none;stroke:#4f4f4f;stroke-linecap:square;stroke-width:1.5;\"/>\n   </g>\n   <g id=\"line2d_17\">\n    <path clip-path=\"url(#p59aac0c547)\" d=\"M 381.765625 80.125209 \nL 381.765625 38.453661 \n\" style=\"fill:none;stroke:#4f4f4f;stroke-linecap:square;stroke-width:1.5;\"/>\n   </g>\n   <g id=\"line2d_18\">\n    <path clip-path=\"url(#p59aac0c547)\" d=\"M 337.125625 145.303784 \nL 426.405625 145.303784 \n\" style=\"fill:none;stroke:#4f4f4f;stroke-linecap:square;stroke-width:1.5;\"/>\n   </g>\n   <g id=\"line2d_19\">\n    <path clip-path=\"url(#p59aac0c547)\" d=\"M 337.125625 38.453661 \nL 426.405625 38.453661 \n\" style=\"fill:none;stroke:#4f4f4f;stroke-linecap:square;stroke-width:1.5;\"/>\n   </g>\n   <g id=\"line2d_20\">\n    <g clip-path=\"url(#p59aac0c547)\">\n     <use style=\"fill:#4f4f4f;stroke:#4f4f4f;stroke-linejoin:miter;\" x=\"381.765625\" xlink:href=\"#ma252692ed8\" y=\"166.673808\"/>\n     <use style=\"fill:#4f4f4f;stroke:#4f4f4f;stroke-linejoin:miter;\" x=\"381.765625\" xlink:href=\"#ma252692ed8\" y=\"17.083636\"/>\n     <use style=\"fill:#4f4f4f;stroke:#4f4f4f;stroke-linejoin:miter;\" x=\"381.765625\" xlink:href=\"#ma252692ed8\" y=\"27.768649\"/>\n     <use style=\"fill:#4f4f4f;stroke:#4f4f4f;stroke-linejoin:miter;\" x=\"381.765625\" xlink:href=\"#ma252692ed8\" y=\"27.768649\"/>\n     <use style=\"fill:#4f4f4f;stroke:#4f4f4f;stroke-linejoin:miter;\" x=\"381.765625\" xlink:href=\"#ma252692ed8\" y=\"27.768649\"/>\n    </g>\n   </g>\n   <g id=\"line2d_21\">\n    <path clip-path=\"url(#p59aac0c547)\" d=\"M 69.285625 143.166781 \nL 247.845625 143.166781 \n\" style=\"fill:none;stroke:#4f4f4f;stroke-linecap:square;stroke-width:1.5;\"/>\n   </g>\n   <g id=\"line2d_22\">\n    <path clip-path=\"url(#p59aac0c547)\" d=\"M 292.485625 102.563735 \nL 471.045625 102.563735 \n\" style=\"fill:none;stroke:#4f4f4f;stroke-linecap:square;stroke-width:1.5;\"/>\n   </g>\n   <g id=\"patch_5\">\n    <path d=\"M 46.965625 224.64 \nL 46.965625 7.2 \n\" style=\"fill:none;stroke:#000000;stroke-linecap:square;stroke-linejoin:miter;stroke-width:0.8;\"/>\n   </g>\n   <g id=\"patch_6\">\n    <path d=\"M 493.365625 224.64 \nL 493.365625 7.2 \n\" style=\"fill:none;stroke:#000000;stroke-linecap:square;stroke-linejoin:miter;stroke-width:0.8;\"/>\n   </g>\n   <g id=\"patch_7\">\n    <path d=\"M 46.965625 224.64 \nL 493.365625 224.64 \n\" style=\"fill:none;stroke:#000000;stroke-linecap:square;stroke-linejoin:miter;stroke-width:0.8;\"/>\n   </g>\n   <g id=\"patch_8\">\n    <path d=\"M 46.965625 7.2 \nL 493.365625 7.2 \n\" style=\"fill:none;stroke:#000000;stroke-linecap:square;stroke-linejoin:miter;stroke-width:0.8;\"/>\n   </g>\n  </g>\n </g>\n <defs>\n  <clipPath id=\"p59aac0c547\">\n   <rect height=\"217.44\" width=\"446.4\" x=\"46.965625\" y=\"7.2\"/>\n  </clipPath>\n </defs>\n</svg>\n",
            "image/png": "[encoded data removed]"
          },
          "metadata": {
            "tags": [],
            "needs_background": "light"
          }
        }
      ]
    },
    {
      "cell_type": "markdown",
      "metadata": {
        "id": "O3jhtYiVsKUH"
      },
      "source": [
        "Ok, se i pokemon sono leggendari sono più forti in attacco rispetto a quelli che non lo sono, anche se a causa del discostamento le cose potrebbero cambiare"
      ]
    },
    {
      "cell_type": "code",
      "metadata": {
        "id": "DSGw9KShg3eA",
        "outputId": "4f556248-ec4f-4439-fa7d-9298ce0e2661"
      },
      "source": [
        "# boxplot di HP e Legendary, per verificare se effettivamente i Leggendari hanno più punti vita\n",
        "\n",
        "plt.figure(figsize=(8, 4))\n",
        "sns.boxplot(x='Legendary',y='HP',data=pokemon, palette='rainbow')"
      ],
      "execution_count": null,
      "outputs": [
        {
          "output_type": "execute_result",
          "data": {
            "text/plain": [
              "<matplotlib.axes._subplots.AxesSubplot at 0x7f930a64ad30>"
            ]
          },
          "metadata": {
            "tags": []
          },
          "execution_count": 1344
        },
        {
          "output_type": "display_data",
          "data": {
            "text/plain": [
              "<Figure size 576x288 with 1 Axes>"
            ],
            "image/svg+xml": "<?xml version=\"1.0\" encoding=\"utf-8\" standalone=\"no\"?>\n<!DOCTYPE svg PUBLIC \"-//W3C//DTD SVG 1.1//EN\"\n  \"http://www.w3.org/Graphics/SVG/1.1/DTD/svg11.dtd\">\n<!-- Created with matplotlib (https://matplotlib.org/) -->\n<svg height=\"262.19625pt\" version=\"1.1\" viewBox=\"0 0 500.565625 262.19625\" width=\"500.565625pt\" xmlns=\"http://www.w3.org/2000/svg\" xmlns:xlink=\"http://www.w3.org/1999/xlink\">\n <defs>\n  <style type=\"text/css\">\n*{stroke-linecap:butt;stroke-linejoin:round;}\n  </style>\n </defs>\n <g id=\"figure_1\">\n  <g id=\"patch_1\">\n   <path d=\"M 0 262.19625 \nL 500.565625 262.19625 \nL 500.565625 0 \nL 0 0 \nz\n\" style=\"fill:none;\"/>\n  </g>\n  <g id=\"axes_1\">\n   <g id=\"patch_2\">\n    <path d=\"M 46.965625 224.64 \nL 493.365625 224.64 \nL 493.365625 7.2 \nL 46.965625 7.2 \nz\n\" style=\"fill:#ffffff;\"/>\n   </g>\n   <g id=\"patch_3\">\n    <path clip-path=\"url(#p3247677aaa)\" d=\"M 69.285625 176.622649 \nL 247.845625 176.622649 \nL 247.845625 153.664596 \nL 69.285625 153.664596 \nL 69.285625 176.622649 \nz\n\" style=\"fill:#41c7c7;stroke:#4f4f4f;stroke-linejoin:miter;stroke-width:1.5;\"/>\n   </g>\n   <g id=\"patch_4\">\n    <path clip-path=\"url(#p3247677aaa)\" d=\"M 292.485625 153.275476 \nL 471.045625 153.275476 \nL 471.045625 133.819499 \nL 292.485625 133.819499 \nL 292.485625 153.275476 \nz\n\" style=\"fill:#cbd18b;stroke:#4f4f4f;stroke-linejoin:miter;stroke-width:1.5;\"/>\n   </g>\n   <g id=\"matplotlib.axis_1\">\n    <g id=\"xtick_1\">\n     <g id=\"line2d_1\">\n      <defs>\n       <path d=\"M 0 0 \nL 0 3.5 \n\" id=\"m15179d5ea8\" style=\"stroke:#000000;stroke-width:0.8;\"/>\n      </defs>\n      <g>\n       <use style=\"stroke:#000000;stroke-width:0.8;\" x=\"158.565625\" xlink:href=\"#m15179d5ea8\" y=\"224.64\"/>\n      </g>\n     </g>\n     <g id=\"text_1\">\n      <!-- False -->\n      <defs>\n       <path d=\"M 9.8125 72.90625 \nL 51.703125 72.90625 \nL 51.703125 64.59375 \nL 19.671875 64.59375 \nL 19.671875 43.109375 \nL 48.578125 43.109375 \nL 48.578125 34.8125 \nL 19.671875 34.8125 \nL 19.671875 0 \nL 9.8125 0 \nz\n\" id=\"DejaVuSans-70\"/>\n       <path d=\"M 34.28125 27.484375 \nQ 23.390625 27.484375 19.1875 25 \nQ 14.984375 22.515625 14.984375 16.5 \nQ 14.984375 11.71875 18.140625 8.90625 \nQ 21.296875 6.109375 26.703125 6.109375 \nQ 34.1875 6.109375 38.703125 11.40625 \nQ 43.21875 16.703125 43.21875 25.484375 \nL 43.21875 27.484375 \nz\nM 52.203125 31.203125 \nL 52.203125 0 \nL 43.21875 0 \nL 43.21875 8.296875 \nQ 40.140625 3.328125 35.546875 0.953125 \nQ 30.953125 -1.421875 24.3125 -1.421875 \nQ 15.921875 -1.421875 10.953125 3.296875 \nQ 6 8.015625 6 15.921875 \nQ 6 25.140625 12.171875 29.828125 \nQ 18.359375 34.515625 30.609375 34.515625 \nL 43.21875 34.515625 \nL 43.21875 35.40625 \nQ 43.21875 41.609375 39.140625 45 \nQ 35.0625 48.390625 27.6875 48.390625 \nQ 23 48.390625 18.546875 47.265625 \nQ 14.109375 46.140625 10.015625 43.890625 \nL 10.015625 52.203125 \nQ 14.9375 54.109375 19.578125 55.046875 \nQ 24.21875 56 28.609375 56 \nQ 40.484375 56 46.34375 49.84375 \nQ 52.203125 43.703125 52.203125 31.203125 \nz\n\" id=\"DejaVuSans-97\"/>\n       <path d=\"M 9.421875 75.984375 \nL 18.40625 75.984375 \nL 18.40625 0 \nL 9.421875 0 \nz\n\" id=\"DejaVuSans-108\"/>\n       <path d=\"M 44.28125 53.078125 \nL 44.28125 44.578125 \nQ 40.484375 46.53125 36.375 47.5 \nQ 32.28125 48.484375 27.875 48.484375 \nQ 21.1875 48.484375 17.84375 46.4375 \nQ 14.5 44.390625 14.5 40.28125 \nQ 14.5 37.15625 16.890625 35.375 \nQ 19.28125 33.59375 26.515625 31.984375 \nL 29.59375 31.296875 \nQ 39.15625 29.25 43.1875 25.515625 \nQ 47.21875 21.78125 47.21875 15.09375 \nQ 47.21875 7.46875 41.1875 3.015625 \nQ 35.15625 -1.421875 24.609375 -1.421875 \nQ 20.21875 -1.421875 15.453125 -0.5625 \nQ 10.6875 0.296875 5.421875 2 \nL 5.421875 11.28125 \nQ 10.40625 8.6875 15.234375 7.390625 \nQ 20.0625 6.109375 24.8125 6.109375 \nQ 31.15625 6.109375 34.5625 8.28125 \nQ 37.984375 10.453125 37.984375 14.40625 \nQ 37.984375 18.0625 35.515625 20.015625 \nQ 33.0625 21.96875 24.703125 23.78125 \nL 21.578125 24.515625 \nQ 13.234375 26.265625 9.515625 29.90625 \nQ 5.8125 33.546875 5.8125 39.890625 \nQ 5.8125 47.609375 11.28125 51.796875 \nQ 16.75 56 26.8125 56 \nQ 31.78125 56 36.171875 55.265625 \nQ 40.578125 54.546875 44.28125 53.078125 \nz\n\" id=\"DejaVuSans-115\"/>\n       <path d=\"M 56.203125 29.59375 \nL 56.203125 25.203125 \nL 14.890625 25.203125 \nQ 15.484375 15.921875 20.484375 11.0625 \nQ 25.484375 6.203125 34.421875 6.203125 \nQ 39.59375 6.203125 44.453125 7.46875 \nQ 49.3125 8.734375 54.109375 11.28125 \nL 54.109375 2.78125 \nQ 49.265625 0.734375 44.1875 -0.34375 \nQ 39.109375 -1.421875 33.890625 -1.421875 \nQ 20.796875 -1.421875 13.15625 6.1875 \nQ 5.515625 13.8125 5.515625 26.8125 \nQ 5.515625 40.234375 12.765625 48.109375 \nQ 20.015625 56 32.328125 56 \nQ 43.359375 56 49.78125 48.890625 \nQ 56.203125 41.796875 56.203125 29.59375 \nz\nM 47.21875 32.234375 \nQ 47.125 39.59375 43.09375 43.984375 \nQ 39.0625 48.390625 32.421875 48.390625 \nQ 24.90625 48.390625 20.390625 44.140625 \nQ 15.875 39.890625 15.1875 32.171875 \nz\n\" id=\"DejaVuSans-101\"/>\n      </defs>\n      <g transform=\"translate(145.5625 239.238438)scale(0.1 -0.1)\">\n       <use xlink:href=\"#DejaVuSans-70\"/>\n       <use x=\"57.378906\" xlink:href=\"#DejaVuSans-97\"/>\n       <use x=\"118.658203\" xlink:href=\"#DejaVuSans-108\"/>\n       <use x=\"146.441406\" xlink:href=\"#DejaVuSans-115\"/>\n       <use x=\"198.541016\" xlink:href=\"#DejaVuSans-101\"/>\n      </g>\n     </g>\n    </g>\n    <g id=\"xtick_2\">\n     <g id=\"line2d_2\">\n      <g>\n       <use style=\"stroke:#000000;stroke-width:0.8;\" x=\"381.765625\" xlink:href=\"#m15179d5ea8\" y=\"224.64\"/>\n      </g>\n     </g>\n     <g id=\"text_2\">\n      <!-- True -->\n      <defs>\n       <path d=\"M -0.296875 72.90625 \nL 61.375 72.90625 \nL 61.375 64.59375 \nL 35.5 64.59375 \nL 35.5 0 \nL 25.59375 0 \nL 25.59375 64.59375 \nL -0.296875 64.59375 \nz\n\" id=\"DejaVuSans-84\"/>\n       <path d=\"M 41.109375 46.296875 \nQ 39.59375 47.171875 37.8125 47.578125 \nQ 36.03125 48 33.890625 48 \nQ 26.265625 48 22.1875 43.046875 \nQ 18.109375 38.09375 18.109375 28.8125 \nL 18.109375 0 \nL 9.078125 0 \nL 9.078125 54.6875 \nL 18.109375 54.6875 \nL 18.109375 46.1875 \nQ 20.953125 51.171875 25.484375 53.578125 \nQ 30.03125 56 36.53125 56 \nQ 37.453125 56 38.578125 55.875 \nQ 39.703125 55.765625 41.0625 55.515625 \nz\n\" id=\"DejaVuSans-114\"/>\n       <path d=\"M 8.5 21.578125 \nL 8.5 54.6875 \nL 17.484375 54.6875 \nL 17.484375 21.921875 \nQ 17.484375 14.15625 20.5 10.265625 \nQ 23.53125 6.390625 29.59375 6.390625 \nQ 36.859375 6.390625 41.078125 11.03125 \nQ 45.3125 15.671875 45.3125 23.6875 \nL 45.3125 54.6875 \nL 54.296875 54.6875 \nL 54.296875 0 \nL 45.3125 0 \nL 45.3125 8.40625 \nQ 42.046875 3.421875 37.71875 1 \nQ 33.40625 -1.421875 27.6875 -1.421875 \nQ 18.265625 -1.421875 13.375 4.4375 \nQ 8.5 10.296875 8.5 21.578125 \nz\nM 31.109375 56 \nz\n\" id=\"DejaVuSans-117\"/>\n      </defs>\n      <g transform=\"translate(370.421875 239.238438)scale(0.1 -0.1)\">\n       <use xlink:href=\"#DejaVuSans-84\"/>\n       <use x=\"60.865234\" xlink:href=\"#DejaVuSans-114\"/>\n       <use x=\"101.978516\" xlink:href=\"#DejaVuSans-117\"/>\n       <use x=\"165.357422\" xlink:href=\"#DejaVuSans-101\"/>\n      </g>\n     </g>\n    </g>\n    <g id=\"text_3\">\n     <!-- Legendary -->\n     <defs>\n      <path d=\"M 9.8125 72.90625 \nL 19.671875 72.90625 \nL 19.671875 8.296875 \nL 55.171875 8.296875 \nL 55.171875 0 \nL 9.8125 0 \nz\n\" id=\"DejaVuSans-76\"/>\n      <path d=\"M 45.40625 27.984375 \nQ 45.40625 37.75 41.375 43.109375 \nQ 37.359375 48.484375 30.078125 48.484375 \nQ 22.859375 48.484375 18.828125 43.109375 \nQ 14.796875 37.75 14.796875 27.984375 \nQ 14.796875 18.265625 18.828125 12.890625 \nQ 22.859375 7.515625 30.078125 7.515625 \nQ 37.359375 7.515625 41.375 12.890625 \nQ 45.40625 18.265625 45.40625 27.984375 \nz\nM 54.390625 6.78125 \nQ 54.390625 -7.171875 48.1875 -13.984375 \nQ 42 -20.796875 29.203125 -20.796875 \nQ 24.46875 -20.796875 20.265625 -20.09375 \nQ 16.0625 -19.390625 12.109375 -17.921875 \nL 12.109375 -9.1875 \nQ 16.0625 -11.328125 19.921875 -12.34375 \nQ 23.78125 -13.375 27.78125 -13.375 \nQ 36.625 -13.375 41.015625 -8.765625 \nQ 45.40625 -4.15625 45.40625 5.171875 \nL 45.40625 9.625 \nQ 42.625 4.78125 38.28125 2.390625 \nQ 33.9375 0 27.875 0 \nQ 17.828125 0 11.671875 7.65625 \nQ 5.515625 15.328125 5.515625 27.984375 \nQ 5.515625 40.671875 11.671875 48.328125 \nQ 17.828125 56 27.875 56 \nQ 33.9375 56 38.28125 53.609375 \nQ 42.625 51.21875 45.40625 46.390625 \nL 45.40625 54.6875 \nL 54.390625 54.6875 \nz\n\" id=\"DejaVuSans-103\"/>\n      <path d=\"M 54.890625 33.015625 \nL 54.890625 0 \nL 45.90625 0 \nL 45.90625 32.71875 \nQ 45.90625 40.484375 42.875 44.328125 \nQ 39.84375 48.1875 33.796875 48.1875 \nQ 26.515625 48.1875 22.3125 43.546875 \nQ 18.109375 38.921875 18.109375 30.90625 \nL 18.109375 0 \nL 9.078125 0 \nL 9.078125 54.6875 \nL 18.109375 54.6875 \nL 18.109375 46.1875 \nQ 21.34375 51.125 25.703125 53.5625 \nQ 30.078125 56 35.796875 56 \nQ 45.21875 56 50.046875 50.171875 \nQ 54.890625 44.34375 54.890625 33.015625 \nz\n\" id=\"DejaVuSans-110\"/>\n      <path d=\"M 45.40625 46.390625 \nL 45.40625 75.984375 \nL 54.390625 75.984375 \nL 54.390625 0 \nL 45.40625 0 \nL 45.40625 8.203125 \nQ 42.578125 3.328125 38.25 0.953125 \nQ 33.9375 -1.421875 27.875 -1.421875 \nQ 17.96875 -1.421875 11.734375 6.484375 \nQ 5.515625 14.40625 5.515625 27.296875 \nQ 5.515625 40.1875 11.734375 48.09375 \nQ 17.96875 56 27.875 56 \nQ 33.9375 56 38.25 53.625 \nQ 42.578125 51.265625 45.40625 46.390625 \nz\nM 14.796875 27.296875 \nQ 14.796875 17.390625 18.875 11.75 \nQ 22.953125 6.109375 30.078125 6.109375 \nQ 37.203125 6.109375 41.296875 11.75 \nQ 45.40625 17.390625 45.40625 27.296875 \nQ 45.40625 37.203125 41.296875 42.84375 \nQ 37.203125 48.484375 30.078125 48.484375 \nQ 22.953125 48.484375 18.875 42.84375 \nQ 14.796875 37.203125 14.796875 27.296875 \nz\n\" id=\"DejaVuSans-100\"/>\n      <path d=\"M 32.171875 -5.078125 \nQ 28.375 -14.84375 24.75 -17.8125 \nQ 21.140625 -20.796875 15.09375 -20.796875 \nL 7.90625 -20.796875 \nL 7.90625 -13.28125 \nL 13.1875 -13.28125 \nQ 16.890625 -13.28125 18.9375 -11.515625 \nQ 21 -9.765625 23.484375 -3.21875 \nL 25.09375 0.875 \nL 2.984375 54.6875 \nL 12.5 54.6875 \nL 29.59375 11.921875 \nL 46.6875 54.6875 \nL 56.203125 54.6875 \nz\n\" id=\"DejaVuSans-121\"/>\n     </defs>\n     <g transform=\"translate(243.63125 252.916563)scale(0.1 -0.1)\">\n      <use xlink:href=\"#DejaVuSans-76\"/>\n      <use x=\"55.697266\" xlink:href=\"#DejaVuSans-101\"/>\n      <use x=\"117.220703\" xlink:href=\"#DejaVuSans-103\"/>\n      <use x=\"180.697266\" xlink:href=\"#DejaVuSans-101\"/>\n      <use x=\"242.220703\" xlink:href=\"#DejaVuSans-110\"/>\n      <use x=\"305.599609\" xlink:href=\"#DejaVuSans-100\"/>\n      <use x=\"369.076172\" xlink:href=\"#DejaVuSans-97\"/>\n      <use x=\"430.355469\" xlink:href=\"#DejaVuSans-114\"/>\n      <use x=\"471.46875\" xlink:href=\"#DejaVuSans-121\"/>\n     </g>\n    </g>\n   </g>\n   <g id=\"matplotlib.axis_2\">\n    <g id=\"ytick_1\">\n     <g id=\"line2d_3\">\n      <defs>\n       <path d=\"M 0 0 \nL -3.5 0 \n\" id=\"md7701ef30b\" style=\"stroke:#000000;stroke-width:0.8;\"/>\n      </defs>\n      <g>\n       <use style=\"stroke:#000000;stroke-width:0.8;\" x=\"46.965625\" xlink:href=\"#md7701ef30b\" y=\"215.534603\"/>\n      </g>\n     </g>\n     <g id=\"text_4\">\n      <!-- 0 -->\n      <defs>\n       <path d=\"M 31.78125 66.40625 \nQ 24.171875 66.40625 20.328125 58.90625 \nQ 16.5 51.421875 16.5 36.375 \nQ 16.5 21.390625 20.328125 13.890625 \nQ 24.171875 6.390625 31.78125 6.390625 \nQ 39.453125 6.390625 43.28125 13.890625 \nQ 47.125 21.390625 47.125 36.375 \nQ 47.125 51.421875 43.28125 58.90625 \nQ 39.453125 66.40625 31.78125 66.40625 \nz\nM 31.78125 74.21875 \nQ 44.046875 74.21875 50.515625 64.515625 \nQ 56.984375 54.828125 56.984375 36.375 \nQ 56.984375 17.96875 50.515625 8.265625 \nQ 44.046875 -1.421875 31.78125 -1.421875 \nQ 19.53125 -1.421875 13.0625 8.265625 \nQ 6.59375 17.96875 6.59375 36.375 \nQ 6.59375 54.828125 13.0625 64.515625 \nQ 19.53125 74.21875 31.78125 74.21875 \nz\n\" id=\"DejaVuSans-48\"/>\n      </defs>\n      <g transform=\"translate(33.603125 219.333821)scale(0.1 -0.1)\">\n       <use xlink:href=\"#DejaVuSans-48\"/>\n      </g>\n     </g>\n    </g>\n    <g id=\"ytick_2\">\n     <g id=\"line2d_4\">\n      <g>\n       <use style=\"stroke:#000000;stroke-width:0.8;\" x=\"46.965625\" xlink:href=\"#md7701ef30b\" y=\"176.622649\"/>\n      </g>\n     </g>\n     <g id=\"text_5\">\n      <!-- 50 -->\n      <defs>\n       <path d=\"M 10.796875 72.90625 \nL 49.515625 72.90625 \nL 49.515625 64.59375 \nL 19.828125 64.59375 \nL 19.828125 46.734375 \nQ 21.96875 47.46875 24.109375 47.828125 \nQ 26.265625 48.1875 28.421875 48.1875 \nQ 40.625 48.1875 47.75 41.5 \nQ 54.890625 34.8125 54.890625 23.390625 \nQ 54.890625 11.625 47.5625 5.09375 \nQ 40.234375 -1.421875 26.90625 -1.421875 \nQ 22.3125 -1.421875 17.546875 -0.640625 \nQ 12.796875 0.140625 7.71875 1.703125 \nL 7.71875 11.625 \nQ 12.109375 9.234375 16.796875 8.0625 \nQ 21.484375 6.890625 26.703125 6.890625 \nQ 35.15625 6.890625 40.078125 11.328125 \nQ 45.015625 15.765625 45.015625 23.390625 \nQ 45.015625 31 40.078125 35.4375 \nQ 35.15625 39.890625 26.703125 39.890625 \nQ 22.75 39.890625 18.8125 39.015625 \nQ 14.890625 38.140625 10.796875 36.28125 \nz\n\" id=\"DejaVuSans-53\"/>\n      </defs>\n      <g transform=\"translate(27.240625 180.421867)scale(0.1 -0.1)\">\n       <use xlink:href=\"#DejaVuSans-53\"/>\n       <use x=\"63.623047\" xlink:href=\"#DejaVuSans-48\"/>\n      </g>\n     </g>\n    </g>\n    <g id=\"ytick_3\">\n     <g id=\"line2d_5\">\n      <g>\n       <use style=\"stroke:#000000;stroke-width:0.8;\" x=\"46.965625\" xlink:href=\"#md7701ef30b\" y=\"137.710694\"/>\n      </g>\n     </g>\n     <g id=\"text_6\">\n      <!-- 100 -->\n      <defs>\n       <path d=\"M 12.40625 8.296875 \nL 28.515625 8.296875 \nL 28.515625 63.921875 \nL 10.984375 60.40625 \nL 10.984375 69.390625 \nL 28.421875 72.90625 \nL 38.28125 72.90625 \nL 38.28125 8.296875 \nL 54.390625 8.296875 \nL 54.390625 0 \nL 12.40625 0 \nz\n\" id=\"DejaVuSans-49\"/>\n      </defs>\n      <g transform=\"translate(20.878125 141.509913)scale(0.1 -0.1)\">\n       <use xlink:href=\"#DejaVuSans-49\"/>\n       <use x=\"63.623047\" xlink:href=\"#DejaVuSans-48\"/>\n       <use x=\"127.246094\" xlink:href=\"#DejaVuSans-48\"/>\n      </g>\n     </g>\n    </g>\n    <g id=\"ytick_4\">\n     <g id=\"line2d_6\">\n      <g>\n       <use style=\"stroke:#000000;stroke-width:0.8;\" x=\"46.965625\" xlink:href=\"#md7701ef30b\" y=\"98.79874\"/>\n      </g>\n     </g>\n     <g id=\"text_7\">\n      <!-- 150 -->\n      <g transform=\"translate(20.878125 102.597959)scale(0.1 -0.1)\">\n       <use xlink:href=\"#DejaVuSans-49\"/>\n       <use x=\"63.623047\" xlink:href=\"#DejaVuSans-53\"/>\n       <use x=\"127.246094\" xlink:href=\"#DejaVuSans-48\"/>\n      </g>\n     </g>\n    </g>\n    <g id=\"ytick_5\">\n     <g id=\"line2d_7\">\n      <g>\n       <use style=\"stroke:#000000;stroke-width:0.8;\" x=\"46.965625\" xlink:href=\"#md7701ef30b\" y=\"59.886786\"/>\n      </g>\n     </g>\n     <g id=\"text_8\">\n      <!-- 200 -->\n      <defs>\n       <path d=\"M 19.1875 8.296875 \nL 53.609375 8.296875 \nL 53.609375 0 \nL 7.328125 0 \nL 7.328125 8.296875 \nQ 12.9375 14.109375 22.625 23.890625 \nQ 32.328125 33.6875 34.8125 36.53125 \nQ 39.546875 41.84375 41.421875 45.53125 \nQ 43.3125 49.21875 43.3125 52.78125 \nQ 43.3125 58.59375 39.234375 62.25 \nQ 35.15625 65.921875 28.609375 65.921875 \nQ 23.96875 65.921875 18.8125 64.3125 \nQ 13.671875 62.703125 7.8125 59.421875 \nL 7.8125 69.390625 \nQ 13.765625 71.78125 18.9375 73 \nQ 24.125 74.21875 28.421875 74.21875 \nQ 39.75 74.21875 46.484375 68.546875 \nQ 53.21875 62.890625 53.21875 53.421875 \nQ 53.21875 48.921875 51.53125 44.890625 \nQ 49.859375 40.875 45.40625 35.40625 \nQ 44.1875 33.984375 37.640625 27.21875 \nQ 31.109375 20.453125 19.1875 8.296875 \nz\n\" id=\"DejaVuSans-50\"/>\n      </defs>\n      <g transform=\"translate(20.878125 63.686005)scale(0.1 -0.1)\">\n       <use xlink:href=\"#DejaVuSans-50\"/>\n       <use x=\"63.623047\" xlink:href=\"#DejaVuSans-48\"/>\n       <use x=\"127.246094\" xlink:href=\"#DejaVuSans-48\"/>\n      </g>\n     </g>\n    </g>\n    <g id=\"ytick_6\">\n     <g id=\"line2d_8\">\n      <g>\n       <use style=\"stroke:#000000;stroke-width:0.8;\" x=\"46.965625\" xlink:href=\"#md7701ef30b\" y=\"20.974832\"/>\n      </g>\n     </g>\n     <g id=\"text_9\">\n      <!-- 250 -->\n      <g transform=\"translate(20.878125 24.774051)scale(0.1 -0.1)\">\n       <use xlink:href=\"#DejaVuSans-50\"/>\n       <use x=\"63.623047\" xlink:href=\"#DejaVuSans-53\"/>\n       <use x=\"127.246094\" xlink:href=\"#DejaVuSans-48\"/>\n      </g>\n     </g>\n    </g>\n    <g id=\"text_10\">\n     <!-- HP -->\n     <defs>\n      <path d=\"M 9.8125 72.90625 \nL 19.671875 72.90625 \nL 19.671875 43.015625 \nL 55.515625 43.015625 \nL 55.515625 72.90625 \nL 65.375 72.90625 \nL 65.375 0 \nL 55.515625 0 \nL 55.515625 34.71875 \nL 19.671875 34.71875 \nL 19.671875 0 \nL 9.8125 0 \nz\n\" id=\"DejaVuSans-72\"/>\n      <path d=\"M 19.671875 64.796875 \nL 19.671875 37.40625 \nL 32.078125 37.40625 \nQ 38.96875 37.40625 42.71875 40.96875 \nQ 46.484375 44.53125 46.484375 51.125 \nQ 46.484375 57.671875 42.71875 61.234375 \nQ 38.96875 64.796875 32.078125 64.796875 \nz\nM 9.8125 72.90625 \nL 32.078125 72.90625 \nQ 44.34375 72.90625 50.609375 67.359375 \nQ 56.890625 61.8125 56.890625 51.125 \nQ 56.890625 40.328125 50.609375 34.8125 \nQ 44.34375 29.296875 32.078125 29.296875 \nL 19.671875 29.296875 \nL 19.671875 0 \nL 9.8125 0 \nz\n\" id=\"DejaVuSans-80\"/>\n     </defs>\n     <g transform=\"translate(14.798438 122.695)rotate(-90)scale(0.1 -0.1)\">\n      <use xlink:href=\"#DejaVuSans-72\"/>\n      <use x=\"75.195312\" xlink:href=\"#DejaVuSans-80\"/>\n     </g>\n    </g>\n   </g>\n   <g id=\"line2d_9\">\n    <path clip-path=\"url(#p3247677aaa)\" d=\"M 158.565625 176.622649 \nL 158.565625 207.752212 \n\" style=\"fill:none;stroke:#4f4f4f;stroke-linecap:square;stroke-width:1.5;\"/>\n   </g>\n   <g id=\"line2d_10\">\n    <path clip-path=\"url(#p3247677aaa)\" d=\"M 158.565625 153.664596 \nL 158.565625 119.811195 \n\" style=\"fill:none;stroke:#4f4f4f;stroke-linecap:square;stroke-width:1.5;\"/>\n   </g>\n   <g id=\"line2d_11\">\n    <path clip-path=\"url(#p3247677aaa)\" d=\"M 113.925625 207.752212 \nL 203.205625 207.752212 \n\" style=\"fill:none;stroke:#4f4f4f;stroke-linecap:square;stroke-width:1.5;\"/>\n   </g>\n   <g id=\"line2d_12\">\n    <path clip-path=\"url(#p3247677aaa)\" d=\"M 113.925625 119.811195 \nL 203.205625 119.811195 \n\" style=\"fill:none;stroke:#4f4f4f;stroke-linecap:square;stroke-width:1.5;\"/>\n   </g>\n   <g id=\"line2d_13\">\n    <defs>\n     <path d=\"M -0 3.535534 \nL 2.12132 0 \nL -0 -3.535534 \nL -2.12132 -0 \nz\n\" id=\"mdafbde3ba1\" style=\"stroke:#4f4f4f;stroke-linejoin:miter;\"/>\n    </defs>\n    <g clip-path=\"url(#p3247677aaa)\">\n     <use style=\"fill:#4f4f4f;stroke:#4f4f4f;stroke-linejoin:miter;\" x=\"158.565625\" xlink:href=\"#mdafbde3ba1\" y=\"214.756364\"/>\n     <use style=\"fill:#4f4f4f;stroke:#4f4f4f;stroke-linejoin:miter;\" x=\"158.565625\" xlink:href=\"#mdafbde3ba1\" y=\"106.581131\"/>\n     <use style=\"fill:#4f4f4f;stroke:#4f4f4f;stroke-linejoin:miter;\" x=\"158.565625\" xlink:href=\"#mdafbde3ba1\" y=\"20.974832\"/>\n     <use style=\"fill:#4f4f4f;stroke:#4f4f4f;stroke-linejoin:miter;\" x=\"158.565625\" xlink:href=\"#mdafbde3ba1\" y=\"114.363522\"/>\n     <use style=\"fill:#4f4f4f;stroke:#4f4f4f;stroke-linejoin:miter;\" x=\"158.565625\" xlink:href=\"#mdafbde3ba1\" y=\"114.363522\"/>\n     <use style=\"fill:#4f4f4f;stroke:#4f4f4f;stroke-linejoin:miter;\" x=\"158.565625\" xlink:href=\"#mdafbde3ba1\" y=\"91.016349\"/>\n     <use style=\"fill:#4f4f4f;stroke:#4f4f4f;stroke-linejoin:miter;\" x=\"158.565625\" xlink:href=\"#mdafbde3ba1\" y=\"118.254717\"/>\n     <use style=\"fill:#4f4f4f;stroke:#4f4f4f;stroke-linejoin:miter;\" x=\"158.565625\" xlink:href=\"#mdafbde3ba1\" y=\"67.669177\"/>\n     <use style=\"fill:#4f4f4f;stroke:#4f4f4f;stroke-linejoin:miter;\" x=\"158.565625\" xlink:href=\"#mdafbde3ba1\" y=\"17.083636\"/>\n     <use style=\"fill:#4f4f4f;stroke:#4f4f4f;stroke-linejoin:miter;\" x=\"158.565625\" xlink:href=\"#mdafbde3ba1\" y=\"98.79874\"/>\n     <use style=\"fill:#4f4f4f;stroke:#4f4f4f;stroke-linejoin:miter;\" x=\"158.565625\" xlink:href=\"#mdafbde3ba1\" y=\"103.468175\"/>\n     <use style=\"fill:#4f4f4f;stroke:#4f4f4f;stroke-linejoin:miter;\" x=\"158.565625\" xlink:href=\"#mdafbde3ba1\" y=\"114.363522\"/>\n     <use style=\"fill:#4f4f4f;stroke:#4f4f4f;stroke-linejoin:miter;\" x=\"158.565625\" xlink:href=\"#mdafbde3ba1\" y=\"83.233958\"/>\n     <use style=\"fill:#4f4f4f;stroke:#4f4f4f;stroke-linejoin:miter;\" x=\"158.565625\" xlink:href=\"#mdafbde3ba1\" y=\"98.79874\"/>\n     <use style=\"fill:#4f4f4f;stroke:#4f4f4f;stroke-linejoin:miter;\" x=\"158.565625\" xlink:href=\"#mdafbde3ba1\" y=\"110.472326\"/>\n     <use style=\"fill:#4f4f4f;stroke:#4f4f4f;stroke-linejoin:miter;\" x=\"158.565625\" xlink:href=\"#mdafbde3ba1\" y=\"87.125154\"/>\n    </g>\n   </g>\n   <g id=\"line2d_14\">\n    <path clip-path=\"url(#p3247677aaa)\" d=\"M 381.765625 153.275476 \nL 381.765625 176.622649 \n\" style=\"fill:none;stroke:#4f4f4f;stroke-linecap:square;stroke-width:1.5;\"/>\n   </g>\n   <g id=\"line2d_15\">\n    <path clip-path=\"url(#p3247677aaa)\" d=\"M 381.765625 133.819499 \nL 381.765625 117.476478 \n\" style=\"fill:none;stroke:#4f4f4f;stroke-linecap:square;stroke-width:1.5;\"/>\n   </g>\n   <g id=\"line2d_16\">\n    <path clip-path=\"url(#p3247677aaa)\" d=\"M 337.125625 176.622649 \nL 426.405625 176.622649 \n\" style=\"fill:none;stroke:#4f4f4f;stroke-linecap:square;stroke-width:1.5;\"/>\n   </g>\n   <g id=\"line2d_17\">\n    <path clip-path=\"url(#p3247677aaa)\" d=\"M 337.125625 117.476478 \nL 426.405625 117.476478 \n\" style=\"fill:none;stroke:#4f4f4f;stroke-linecap:square;stroke-width:1.5;\"/>\n   </g>\n   <g id=\"line2d_18\">\n    <g clip-path=\"url(#p3247677aaa)\">\n     <use style=\"fill:#4f4f4f;stroke:#4f4f4f;stroke-linejoin:miter;\" x=\"381.765625\" xlink:href=\"#mdafbde3ba1\" y=\"98.79874\"/>\n     <use style=\"fill:#4f4f4f;stroke:#4f4f4f;stroke-linejoin:miter;\" x=\"381.765625\" xlink:href=\"#mdafbde3ba1\" y=\"98.79874\"/>\n    </g>\n   </g>\n   <g id=\"line2d_19\">\n    <path clip-path=\"url(#p3247677aaa)\" d=\"M 69.285625 164.949062 \nL 247.845625 164.949062 \n\" style=\"fill:none;stroke:#4f4f4f;stroke-linecap:square;stroke-width:1.5;\"/>\n   </g>\n   <g id=\"line2d_20\">\n    <path clip-path=\"url(#p3247677aaa)\" d=\"M 292.485625 144.714846 \nL 471.045625 144.714846 \n\" style=\"fill:none;stroke:#4f4f4f;stroke-linecap:square;stroke-width:1.5;\"/>\n   </g>\n   <g id=\"patch_5\">\n    <path d=\"M 46.965625 224.64 \nL 46.965625 7.2 \n\" style=\"fill:none;stroke:#000000;stroke-linecap:square;stroke-linejoin:miter;stroke-width:0.8;\"/>\n   </g>\n   <g id=\"patch_6\">\n    <path d=\"M 493.365625 224.64 \nL 493.365625 7.2 \n\" style=\"fill:none;stroke:#000000;stroke-linecap:square;stroke-linejoin:miter;stroke-width:0.8;\"/>\n   </g>\n   <g id=\"patch_7\">\n    <path d=\"M 46.965625 224.64 \nL 493.365625 224.64 \n\" style=\"fill:none;stroke:#000000;stroke-linecap:square;stroke-linejoin:miter;stroke-width:0.8;\"/>\n   </g>\n   <g id=\"patch_8\">\n    <path d=\"M 46.965625 7.2 \nL 493.365625 7.2 \n\" style=\"fill:none;stroke:#000000;stroke-linecap:square;stroke-linejoin:miter;stroke-width:0.8;\"/>\n   </g>\n  </g>\n </g>\n <defs>\n  <clipPath id=\"p3247677aaa\">\n   <rect height=\"217.44\" width=\"446.4\" x=\"46.965625\" y=\"7.2\"/>\n  </clipPath>\n </defs>\n</svg>\n",
            "image/png": "[encoded data removed]"
          },
          "metadata": {
            "tags": [],
            "needs_background": "light"
          }
        }
      ]
    },
    {
      "cell_type": "markdown",
      "metadata": {
        "id": "Pd2wxU78si3w"
      },
      "source": [
        "Ok, solitamente questo è vero"
      ]
    },
    {
      "cell_type": "code",
      "metadata": {
        "colab": {
          "base_uri": "https://localhost:8080/",
          "height": 326
        },
        "id": "17un787yvbNz",
        "outputId": "308e280e-4332-49c2-d7c1-9e7534c18e3c"
      },
      "source": [
        "type_1 = pokemon[['Type1','Legendary']].groupby(['Type1'], as_index=False).mean().set_index('Type1')\n",
        "type_1.sort_values(by='Legendary',ascending=False).plot(kind='bar')"
      ],
      "execution_count": null,
      "outputs": [
        {
          "output_type": "execute_result",
          "data": {
            "text/plain": [
              "<matplotlib.axes._subplots.AxesSubplot at 0x7f715e714f90>"
            ]
          },
          "metadata": {
            "tags": []
          },
          "execution_count": 40
        },
        {
          "output_type": "display_data",
          "data": {
            "image/png": "[encoded data removed]",
            "text/plain": [
              "<Figure size 432x288 with 1 Axes>"
            ]
          },
          "metadata": {
            "tags": [],
            "needs_background": "light"
          }
        }
      ]
    },
    {
      "cell_type": "code",
      "metadata": {
        "colab": {
          "base_uri": "https://localhost:8080/",
          "height": 326
        },
        "id": "Lc1azL0dw-OU",
        "outputId": "103358a6-1b02-4b80-c002-2d17782761df"
      },
      "source": [
        "type_2 = pokemon[['Type2','Legendary']].groupby(['Type2'], as_index=False).mean().set_index('Type2')\n",
        "type_2.sort_values(by='Legendary',ascending=False).plot(kind='bar')"
      ],
      "execution_count": null,
      "outputs": [
        {
          "output_type": "execute_result",
          "data": {
            "text/plain": [
              "<matplotlib.axes._subplots.AxesSubplot at 0x7f715e6323d0>"
            ]
          },
          "metadata": {
            "tags": []
          },
          "execution_count": 42
        },
        {
          "output_type": "display_data",
          "data": {
            "image/png": "[encoded data removed]",
            "text/plain": [
              "<Figure size 432x288 with 1 Axes>"
            ]
          },
          "metadata": {
            "tags": [],
            "needs_background": "light"
          }
        }
      ]
    },
    {
      "cell_type": "markdown",
      "metadata": {
        "id": "I5I5Qy3sxHwn"
      },
      "source": [
        "Analizzando per i leggendari, notiamo che sia Type1 che Type2 potrebbero essere utili per predire quali sono i pokemon leggendari"
      ]
    },
    {
      "cell_type": "markdown",
      "metadata": {
        "id": "CkTLD9_Vg3eD"
      },
      "source": [
        "## Preparazione dei dati"
      ]
    },
    {
      "cell_type": "code",
      "metadata": {
        "id": "XlE8TvW6g3eD"
      },
      "source": [
        "# codifico la colonna 'Winner' trasformando i valori in 1 se il vincitore è First_pokemon, 0 se vince Second_pokemon \n",
        "\n",
        "train.loc[train['Winner'] == train['First_pokemon'], 'Winner'] = 1\n",
        "train.loc[train['Winner'] == train['Second_pokemon'], 'Winner'] = 0\n",
        "\n",
        "test.loc[test['Winner'] == test['First_pokemon'], 'Winner'] = 1\n",
        "test.loc[test['Winner'] == test['Second_pokemon'], 'Winner'] = 0"
      ],
      "execution_count": 61,
      "outputs": []
    },
    {
      "cell_type": "markdown",
      "metadata": {
        "id": "Wy20jt-Dg3eE"
      },
      "source": [
        "### Merge dei due csv"
      ]
    },
    {
      "cell_type": "code",
      "metadata": {
        "id": "ljTTUlcvg3eE"
      },
      "source": [
        "fights = pd.merge(train, pokemon, left_on='First_pokemon', right_on='ID')\n",
        "fights_test = pd.merge(test, pokemon, left_on='First_pokemon', right_on='ID')"
      ],
      "execution_count": 62,
      "outputs": []
    },
    {
      "cell_type": "code",
      "metadata": {
        "id": "YMNwTnrSg3eE"
      },
      "source": [
        "fights = pd.merge(fights, pokemon, left_on='Second_pokemon', right_on='ID')\n",
        "fights_test = pd.merge(fights_test, pokemon, left_on='Second_pokemon', right_on='ID')"
      ],
      "execution_count": 63,
      "outputs": []
    },
    {
      "cell_type": "code",
      "metadata": {
        "colab": {
          "base_uri": "https://localhost:8080/",
          "height": 396
        },
        "id": "LF6e68FEg3eF",
        "outputId": "a1c9ab33-c60b-497c-a3be-723d77e1059d"
      },
      "source": [
        "fights.head(10)"
      ],
      "execution_count": null,
      "outputs": [
        {
          "output_type": "execute_result",
          "data": {
            "text/html": [
              "<div>\n",
              "<style scoped>\n",
              "    .dataframe tbody tr th:only-of-type {\n",
              "        vertical-align: middle;\n",
              "    }\n",
              "\n",
              "    .dataframe tbody tr th {\n",
              "        vertical-align: top;\n",
              "    }\n",
              "\n",
              "    .dataframe thead th {\n",
              "        text-align: right;\n",
              "    }\n",
              "</style>\n",
              "<table border=\"1\" class=\"dataframe\">\n",
              "  <thead>\n",
              "    <tr style=\"text-align: right;\">\n",
              "      <th></th>\n",
              "      <th>Winner</th>\n",
              "      <th>First_pokemon</th>\n",
              "      <th>Second_pokemon</th>\n",
              "      <th>ID_x</th>\n",
              "      <th>Name_x</th>\n",
              "      <th>Type1_x</th>\n",
              "      <th>Type2_x</th>\n",
              "      <th>HP_x</th>\n",
              "      <th>Attack_x</th>\n",
              "      <th>Defense_x</th>\n",
              "      <th>Sp. Atk_x</th>\n",
              "      <th>Sp. Def_x</th>\n",
              "      <th>Speed_x</th>\n",
              "      <th>Generation_x</th>\n",
              "      <th>Legendary_x</th>\n",
              "      <th>ID_y</th>\n",
              "      <th>Name_y</th>\n",
              "      <th>Type1_y</th>\n",
              "      <th>Type2_y</th>\n",
              "      <th>HP_y</th>\n",
              "      <th>Attack_y</th>\n",
              "      <th>Defense_y</th>\n",
              "      <th>Sp. Atk_y</th>\n",
              "      <th>Sp. Def_y</th>\n",
              "      <th>Speed_y</th>\n",
              "      <th>Generation_y</th>\n",
              "      <th>Legendary_y</th>\n",
              "    </tr>\n",
              "  </thead>\n",
              "  <tbody>\n",
              "    <tr>\n",
              "      <th>0</th>\n",
              "      <td>1</td>\n",
              "      <td>382</td>\n",
              "      <td>636</td>\n",
              "      <td>382</td>\n",
              "      <td>Feebas</td>\n",
              "      <td>Water</td>\n",
              "      <td>No</td>\n",
              "      <td>20</td>\n",
              "      <td>15</td>\n",
              "      <td>20</td>\n",
              "      <td>10</td>\n",
              "      <td>55</td>\n",
              "      <td>80</td>\n",
              "      <td>3</td>\n",
              "      <td>False</td>\n",
              "      <td>636</td>\n",
              "      <td>Gothita</td>\n",
              "      <td>Psychic</td>\n",
              "      <td>No</td>\n",
              "      <td>45</td>\n",
              "      <td>30</td>\n",
              "      <td>50</td>\n",
              "      <td>55</td>\n",
              "      <td>65</td>\n",
              "      <td>45</td>\n",
              "      <td>5</td>\n",
              "      <td>False</td>\n",
              "    </tr>\n",
              "    <tr>\n",
              "      <th>1</th>\n",
              "      <td>1</td>\n",
              "      <td>366</td>\n",
              "      <td>636</td>\n",
              "      <td>366</td>\n",
              "      <td>Altaria</td>\n",
              "      <td>Dragon</td>\n",
              "      <td>Flying</td>\n",
              "      <td>75</td>\n",
              "      <td>70</td>\n",
              "      <td>90</td>\n",
              "      <td>70</td>\n",
              "      <td>105</td>\n",
              "      <td>80</td>\n",
              "      <td>3</td>\n",
              "      <td>False</td>\n",
              "      <td>636</td>\n",
              "      <td>Gothita</td>\n",
              "      <td>Psychic</td>\n",
              "      <td>No</td>\n",
              "      <td>45</td>\n",
              "      <td>30</td>\n",
              "      <td>50</td>\n",
              "      <td>55</td>\n",
              "      <td>65</td>\n",
              "      <td>45</td>\n",
              "      <td>5</td>\n",
              "      <td>False</td>\n",
              "    </tr>\n",
              "    <tr>\n",
              "      <th>2</th>\n",
              "      <td>0</td>\n",
              "      <td>492</td>\n",
              "      <td>636</td>\n",
              "      <td>492</td>\n",
              "      <td>Gible</td>\n",
              "      <td>Dragon</td>\n",
              "      <td>Ground</td>\n",
              "      <td>58</td>\n",
              "      <td>70</td>\n",
              "      <td>45</td>\n",
              "      <td>40</td>\n",
              "      <td>45</td>\n",
              "      <td>42</td>\n",
              "      <td>4</td>\n",
              "      <td>False</td>\n",
              "      <td>636</td>\n",
              "      <td>Gothita</td>\n",
              "      <td>Psychic</td>\n",
              "      <td>No</td>\n",
              "      <td>45</td>\n",
              "      <td>30</td>\n",
              "      <td>50</td>\n",
              "      <td>55</td>\n",
              "      <td>65</td>\n",
              "      <td>45</td>\n",
              "      <td>5</td>\n",
              "      <td>False</td>\n",
              "    </tr>\n",
              "    <tr>\n",
              "      <th>3</th>\n",
              "      <td>1</td>\n",
              "      <td>214</td>\n",
              "      <td>636</td>\n",
              "      <td>214</td>\n",
              "      <td>Murkrow</td>\n",
              "      <td>Dark</td>\n",
              "      <td>Flying</td>\n",
              "      <td>60</td>\n",
              "      <td>85</td>\n",
              "      <td>42</td>\n",
              "      <td>85</td>\n",
              "      <td>42</td>\n",
              "      <td>91</td>\n",
              "      <td>2</td>\n",
              "      <td>False</td>\n",
              "      <td>636</td>\n",
              "      <td>Gothita</td>\n",
              "      <td>Psychic</td>\n",
              "      <td>No</td>\n",
              "      <td>45</td>\n",
              "      <td>30</td>\n",
              "      <td>50</td>\n",
              "      <td>55</td>\n",
              "      <td>65</td>\n",
              "      <td>45</td>\n",
              "      <td>5</td>\n",
              "      <td>False</td>\n",
              "    </tr>\n",
              "    <tr>\n",
              "      <th>4</th>\n",
              "      <td>1</td>\n",
              "      <td>107</td>\n",
              "      <td>636</td>\n",
              "      <td>107</td>\n",
              "      <td>Krabby</td>\n",
              "      <td>Water</td>\n",
              "      <td>No</td>\n",
              "      <td>30</td>\n",
              "      <td>105</td>\n",
              "      <td>90</td>\n",
              "      <td>25</td>\n",
              "      <td>25</td>\n",
              "      <td>50</td>\n",
              "      <td>1</td>\n",
              "      <td>False</td>\n",
              "      <td>636</td>\n",
              "      <td>Gothita</td>\n",
              "      <td>Psychic</td>\n",
              "      <td>No</td>\n",
              "      <td>45</td>\n",
              "      <td>30</td>\n",
              "      <td>50</td>\n",
              "      <td>55</td>\n",
              "      <td>65</td>\n",
              "      <td>45</td>\n",
              "      <td>5</td>\n",
              "      <td>False</td>\n",
              "    </tr>\n",
              "    <tr>\n",
              "      <th>5</th>\n",
              "      <td>0</td>\n",
              "      <td>653</td>\n",
              "      <td>636</td>\n",
              "      <td>653</td>\n",
              "      <td>Amoonguss</td>\n",
              "      <td>Grass</td>\n",
              "      <td>Poison</td>\n",
              "      <td>114</td>\n",
              "      <td>85</td>\n",
              "      <td>70</td>\n",
              "      <td>85</td>\n",
              "      <td>80</td>\n",
              "      <td>30</td>\n",
              "      <td>5</td>\n",
              "      <td>False</td>\n",
              "      <td>636</td>\n",
              "      <td>Gothita</td>\n",
              "      <td>Psychic</td>\n",
              "      <td>No</td>\n",
              "      <td>45</td>\n",
              "      <td>30</td>\n",
              "      <td>50</td>\n",
              "      <td>55</td>\n",
              "      <td>65</td>\n",
              "      <td>45</td>\n",
              "      <td>5</td>\n",
              "      <td>False</td>\n",
              "    </tr>\n",
              "    <tr>\n",
              "      <th>6</th>\n",
              "      <td>0</td>\n",
              "      <td>456</td>\n",
              "      <td>636</td>\n",
              "      <td>456</td>\n",
              "      <td>Shieldon</td>\n",
              "      <td>Rock</td>\n",
              "      <td>Steel</td>\n",
              "      <td>30</td>\n",
              "      <td>42</td>\n",
              "      <td>118</td>\n",
              "      <td>42</td>\n",
              "      <td>88</td>\n",
              "      <td>30</td>\n",
              "      <td>4</td>\n",
              "      <td>False</td>\n",
              "      <td>636</td>\n",
              "      <td>Gothita</td>\n",
              "      <td>Psychic</td>\n",
              "      <td>No</td>\n",
              "      <td>45</td>\n",
              "      <td>30</td>\n",
              "      <td>50</td>\n",
              "      <td>55</td>\n",
              "      <td>65</td>\n",
              "      <td>45</td>\n",
              "      <td>5</td>\n",
              "      <td>False</td>\n",
              "    </tr>\n",
              "    <tr>\n",
              "      <th>7</th>\n",
              "      <td>1</td>\n",
              "      <td>559</td>\n",
              "      <td>636</td>\n",
              "      <td>559</td>\n",
              "      <td>Pignite</td>\n",
              "      <td>Fire</td>\n",
              "      <td>Fighting</td>\n",
              "      <td>90</td>\n",
              "      <td>93</td>\n",
              "      <td>55</td>\n",
              "      <td>70</td>\n",
              "      <td>55</td>\n",
              "      <td>55</td>\n",
              "      <td>5</td>\n",
              "      <td>False</td>\n",
              "      <td>636</td>\n",
              "      <td>Gothita</td>\n",
              "      <td>Psychic</td>\n",
              "      <td>No</td>\n",
              "      <td>45</td>\n",
              "      <td>30</td>\n",
              "      <td>50</td>\n",
              "      <td>55</td>\n",
              "      <td>65</td>\n",
              "      <td>45</td>\n",
              "      <td>5</td>\n",
              "      <td>False</td>\n",
              "    </tr>\n",
              "    <tr>\n",
              "      <th>8</th>\n",
              "      <td>1</td>\n",
              "      <td>637</td>\n",
              "      <td>636</td>\n",
              "      <td>637</td>\n",
              "      <td>Gothorita</td>\n",
              "      <td>Psychic</td>\n",
              "      <td>No</td>\n",
              "      <td>60</td>\n",
              "      <td>45</td>\n",
              "      <td>70</td>\n",
              "      <td>75</td>\n",
              "      <td>85</td>\n",
              "      <td>55</td>\n",
              "      <td>5</td>\n",
              "      <td>False</td>\n",
              "      <td>636</td>\n",
              "      <td>Gothita</td>\n",
              "      <td>Psychic</td>\n",
              "      <td>No</td>\n",
              "      <td>45</td>\n",
              "      <td>30</td>\n",
              "      <td>50</td>\n",
              "      <td>55</td>\n",
              "      <td>65</td>\n",
              "      <td>45</td>\n",
              "      <td>5</td>\n",
              "      <td>False</td>\n",
              "    </tr>\n",
              "    <tr>\n",
              "      <th>9</th>\n",
              "      <td>1</td>\n",
              "      <td>129</td>\n",
              "      <td>636</td>\n",
              "      <td>129</td>\n",
              "      <td>Seaking</td>\n",
              "      <td>Water</td>\n",
              "      <td>No</td>\n",
              "      <td>80</td>\n",
              "      <td>92</td>\n",
              "      <td>65</td>\n",
              "      <td>65</td>\n",
              "      <td>80</td>\n",
              "      <td>68</td>\n",
              "      <td>1</td>\n",
              "      <td>False</td>\n",
              "      <td>636</td>\n",
              "      <td>Gothita</td>\n",
              "      <td>Psychic</td>\n",
              "      <td>No</td>\n",
              "      <td>45</td>\n",
              "      <td>30</td>\n",
              "      <td>50</td>\n",
              "      <td>55</td>\n",
              "      <td>65</td>\n",
              "      <td>45</td>\n",
              "      <td>5</td>\n",
              "      <td>False</td>\n",
              "    </tr>\n",
              "  </tbody>\n",
              "</table>\n",
              "</div>"
            ],
            "text/plain": [
              "   Winner  First_pokemon  Second_pokemon  ...  Speed_y Generation_y Legendary_y\n",
              "0       1            382             636  ...       45            5       False\n",
              "1       1            366             636  ...       45            5       False\n",
              "2       0            492             636  ...       45            5       False\n",
              "3       1            214             636  ...       45            5       False\n",
              "4       1            107             636  ...       45            5       False\n",
              "5       0            653             636  ...       45            5       False\n",
              "6       0            456             636  ...       45            5       False\n",
              "7       1            559             636  ...       45            5       False\n",
              "8       1            637             636  ...       45            5       False\n",
              "9       1            129             636  ...       45            5       False\n",
              "\n",
              "[10 rows x 27 columns]"
            ]
          },
          "metadata": {
            "tags": []
          },
          "execution_count": 11
        }
      ]
    },
    {
      "cell_type": "code",
      "metadata": {
        "id": "QXTsY74t2L2L",
        "colab": {
          "base_uri": "https://localhost:8080/"
        },
        "outputId": "b6fcb392-bd0e-44a2-cef2-11f44fa41fff"
      },
      "source": [
        "fights.info()"
      ],
      "execution_count": null,
      "outputs": [
        {
          "output_type": "stream",
          "text": [
            "<class 'pandas.core.frame.DataFrame'>\n",
            "Int64Index: 32000 entries, 0 to 31999\n",
            "Data columns (total 27 columns):\n",
            " #   Column          Non-Null Count  Dtype \n",
            "---  ------          --------------  ----- \n",
            " 0   Winner          32000 non-null  int64 \n",
            " 1   First_pokemon   32000 non-null  int64 \n",
            " 2   Second_pokemon  32000 non-null  int64 \n",
            " 3   ID_x            32000 non-null  int64 \n",
            " 4   Name_x          31961 non-null  object\n",
            " 5   Type1_x         32000 non-null  object\n",
            " 6   Type2_x         32000 non-null  object\n",
            " 7   HP_x            32000 non-null  int64 \n",
            " 8   Attack_x        32000 non-null  int64 \n",
            " 9   Defense_x       32000 non-null  int64 \n",
            " 10  Sp. Atk_x       32000 non-null  int64 \n",
            " 11  Sp. Def_x       32000 non-null  int64 \n",
            " 12  Speed_x         32000 non-null  int64 \n",
            " 13  Generation_x    32000 non-null  int64 \n",
            " 14  Legendary_x     32000 non-null  bool  \n",
            " 15  ID_y            32000 non-null  int64 \n",
            " 16  Name_y          31966 non-null  object\n",
            " 17  Type1_y         32000 non-null  object\n",
            " 18  Type2_y         32000 non-null  object\n",
            " 19  HP_y            32000 non-null  int64 \n",
            " 20  Attack_y        32000 non-null  int64 \n",
            " 21  Defense_y       32000 non-null  int64 \n",
            " 22  Sp. Atk_y       32000 non-null  int64 \n",
            " 23  Sp. Def_y       32000 non-null  int64 \n",
            " 24  Speed_y         32000 non-null  int64 \n",
            " 25  Generation_y    32000 non-null  int64 \n",
            " 26  Legendary_y     32000 non-null  bool  \n",
            "dtypes: bool(2), int64(19), object(6)\n",
            "memory usage: 7.7+ MB\n"
          ],
          "name": "stdout"
        }
      ]
    },
    {
      "cell_type": "markdown",
      "metadata": {
        "id": "ILf0QSCM0zi4"
      },
      "source": [
        "### Grafici e osservazioni sulle relazioni tra features e vincitori"
      ]
    },
    {
      "cell_type": "code",
      "metadata": {
        "id": "0k0184Yr1Yd0",
        "colab": {
          "base_uri": "https://localhost:8080/",
          "height": 309
        },
        "outputId": "ecba08ae-6d00-4428-aaea-f3cce6e7a7d7"
      },
      "source": [
        "plt.figure(figsize=(5,5))\n",
        "plt.pie(fights.Winner.value_counts(), labels=[\"Winner Pokemon1\",\"Winner Pokemon 2\"], autopct = '%0.1f%%', \n",
        "        textprops={'fontsize': 18}, shadow=True, explode=[0.1, 0.1 ])\n",
        "plt.show()"
      ],
      "execution_count": 66,
      "outputs": [
        {
          "output_type": "display_data",
          "data": {
            "image/png": "[encoded data removed]",
            "text/plain": [
              "<Figure size 360x360 with 1 Axes>"
            ]
          },
          "metadata": {
            "tags": []
          }
        }
      ]
    },
    {
      "cell_type": "markdown",
      "metadata": {
        "id": "Ja9f850pEYNh"
      },
      "source": [
        "Da questo grafico si evince che il pokemon che inizia è quello che effettivamente vince"
      ]
    },
    {
      "cell_type": "code",
      "metadata": {
        "id": "XcRd9NT519PL",
        "colab": {
          "base_uri": "https://localhost:8080/"
        },
        "outputId": "1a390274-d2f0-4ee0-851e-930022dbc287"
      },
      "source": [
        "sns.countplot(x=fights[\"Winner\"])"
      ],
      "execution_count": null,
      "outputs": [
        {
          "output_type": "execute_result",
          "data": {
            "text/plain": [
              "<matplotlib.axes._subplots.AxesSubplot at 0x7f490cd41e50>"
            ]
          },
          "metadata": {
            "tags": []
          },
          "execution_count": 15
        },
        {
          "output_type": "display_data",
          "data": {
            "image/png": "[encoded data removed]",
            "text/plain": [
              "<Figure size 432x288 with 1 Axes>"
            ]
          },
          "metadata": {
            "tags": [],
            "needs_background": "light"
          }
        }
      ]
    },
    {
      "cell_type": "markdown",
      "metadata": {
        "id": "_gXJfF6z1J6q"
      },
      "source": [
        "Mi chiedo se i pokemon leggendari tendono a vincere, rispetto agli altri"
      ]
    },
    {
      "cell_type": "code",
      "metadata": {
        "id": "WZMVsmgfg3eF",
        "colab": {
          "base_uri": "https://localhost:8080/",
          "height": 808
        },
        "outputId": "24fc8b4e-a69b-4d68-e8bb-00c2243a937d"
      },
      "source": [
        "conditions = [\n",
        "    (fights['Winner'] == 1),\n",
        "    (fights['Winner'] == 0)]\n",
        "choices = [fights['Legendary_x'], fights['Legendary_y']]\n",
        "fights['LegendaryWinner'] = np.select(conditions, choices)\n",
        "fights.sample(20)"
      ],
      "execution_count": 67,
      "outputs": [
        {
          "output_type": "execute_result",
          "data": {
            "text/html": [
              "<div>\n",
              "<style scoped>\n",
              "    .dataframe tbody tr th:only-of-type {\n",
              "        vertical-align: middle;\n",
              "    }\n",
              "\n",
              "    .dataframe tbody tr th {\n",
              "        vertical-align: top;\n",
              "    }\n",
              "\n",
              "    .dataframe thead th {\n",
              "        text-align: right;\n",
              "    }\n",
              "</style>\n",
              "<table border=\"1\" class=\"dataframe\">\n",
              "  <thead>\n",
              "    <tr style=\"text-align: right;\">\n",
              "      <th></th>\n",
              "      <th>Winner</th>\n",
              "      <th>First_pokemon</th>\n",
              "      <th>Second_pokemon</th>\n",
              "      <th>ID_x</th>\n",
              "      <th>Name_x</th>\n",
              "      <th>Type1_x</th>\n",
              "      <th>Type2_x</th>\n",
              "      <th>HP_x</th>\n",
              "      <th>Attack_x</th>\n",
              "      <th>Defense_x</th>\n",
              "      <th>Sp. Atk_x</th>\n",
              "      <th>Sp. Def_x</th>\n",
              "      <th>Speed_x</th>\n",
              "      <th>Generation_x</th>\n",
              "      <th>Legendary_x</th>\n",
              "      <th>ID_y</th>\n",
              "      <th>Name_y</th>\n",
              "      <th>Type1_y</th>\n",
              "      <th>Type2_y</th>\n",
              "      <th>HP_y</th>\n",
              "      <th>Attack_y</th>\n",
              "      <th>Defense_y</th>\n",
              "      <th>Sp. Atk_y</th>\n",
              "      <th>Sp. Def_y</th>\n",
              "      <th>Speed_y</th>\n",
              "      <th>Generation_y</th>\n",
              "      <th>Legendary_y</th>\n",
              "      <th>LegendaryWinner</th>\n",
              "    </tr>\n",
              "  </thead>\n",
              "  <tbody>\n",
              "    <tr>\n",
              "      <th>467</th>\n",
              "      <td>0</td>\n",
              "      <td>348</td>\n",
              "      <td>800</td>\n",
              "      <td>348</td>\n",
              "      <td>Carvanha</td>\n",
              "      <td>Water</td>\n",
              "      <td>Dark</td>\n",
              "      <td>45</td>\n",
              "      <td>90</td>\n",
              "      <td>20</td>\n",
              "      <td>65</td>\n",
              "      <td>20</td>\n",
              "      <td>65</td>\n",
              "      <td>3</td>\n",
              "      <td>False</td>\n",
              "      <td>800</td>\n",
              "      <td>Volcanion</td>\n",
              "      <td>Fire</td>\n",
              "      <td>Water</td>\n",
              "      <td>80</td>\n",
              "      <td>110</td>\n",
              "      <td>120</td>\n",
              "      <td>130</td>\n",
              "      <td>90</td>\n",
              "      <td>70</td>\n",
              "      <td>6</td>\n",
              "      <td>True</td>\n",
              "      <td>1</td>\n",
              "    </tr>\n",
              "    <tr>\n",
              "      <th>27422</th>\n",
              "      <td>0</td>\n",
              "      <td>209</td>\n",
              "      <td>606</td>\n",
              "      <td>209</td>\n",
              "      <td>Yanma</td>\n",
              "      <td>Bug</td>\n",
              "      <td>Flying</td>\n",
              "      <td>65</td>\n",
              "      <td>65</td>\n",
              "      <td>45</td>\n",
              "      <td>75</td>\n",
              "      <td>45</td>\n",
              "      <td>95</td>\n",
              "      <td>2</td>\n",
              "      <td>False</td>\n",
              "      <td>606</td>\n",
              "      <td>Scolipede</td>\n",
              "      <td>Bug</td>\n",
              "      <td>Poison</td>\n",
              "      <td>60</td>\n",
              "      <td>100</td>\n",
              "      <td>89</td>\n",
              "      <td>55</td>\n",
              "      <td>69</td>\n",
              "      <td>112</td>\n",
              "      <td>5</td>\n",
              "      <td>False</td>\n",
              "      <td>0</td>\n",
              "    </tr>\n",
              "    <tr>\n",
              "      <th>9388</th>\n",
              "      <td>1</td>\n",
              "      <td>442</td>\n",
              "      <td>364</td>\n",
              "      <td>442</td>\n",
              "      <td>Starly</td>\n",
              "      <td>Normal</td>\n",
              "      <td>Flying</td>\n",
              "      <td>40</td>\n",
              "      <td>55</td>\n",
              "      <td>30</td>\n",
              "      <td>30</td>\n",
              "      <td>30</td>\n",
              "      <td>60</td>\n",
              "      <td>4</td>\n",
              "      <td>False</td>\n",
              "      <td>364</td>\n",
              "      <td>Cacturne</td>\n",
              "      <td>Grass</td>\n",
              "      <td>Dark</td>\n",
              "      <td>70</td>\n",
              "      <td>115</td>\n",
              "      <td>60</td>\n",
              "      <td>115</td>\n",
              "      <td>60</td>\n",
              "      <td>55</td>\n",
              "      <td>3</td>\n",
              "      <td>False</td>\n",
              "      <td>0</td>\n",
              "    </tr>\n",
              "    <tr>\n",
              "      <th>25099</th>\n",
              "      <td>0</td>\n",
              "      <td>478</td>\n",
              "      <td>225</td>\n",
              "      <td>478</td>\n",
              "      <td>Mismagius</td>\n",
              "      <td>Ghost</td>\n",
              "      <td>No</td>\n",
              "      <td>60</td>\n",
              "      <td>60</td>\n",
              "      <td>60</td>\n",
              "      <td>105</td>\n",
              "      <td>105</td>\n",
              "      <td>105</td>\n",
              "      <td>4</td>\n",
              "      <td>False</td>\n",
              "      <td>225</td>\n",
              "      <td>Mega Steelix</td>\n",
              "      <td>Steel</td>\n",
              "      <td>Ground</td>\n",
              "      <td>75</td>\n",
              "      <td>125</td>\n",
              "      <td>230</td>\n",
              "      <td>55</td>\n",
              "      <td>95</td>\n",
              "      <td>30</td>\n",
              "      <td>2</td>\n",
              "      <td>False</td>\n",
              "      <td>0</td>\n",
              "    </tr>\n",
              "    <tr>\n",
              "      <th>6263</th>\n",
              "      <td>0</td>\n",
              "      <td>403</td>\n",
              "      <td>372</td>\n",
              "      <td>403</td>\n",
              "      <td>Huntail</td>\n",
              "      <td>Water</td>\n",
              "      <td>No</td>\n",
              "      <td>55</td>\n",
              "      <td>104</td>\n",
              "      <td>105</td>\n",
              "      <td>94</td>\n",
              "      <td>75</td>\n",
              "      <td>52</td>\n",
              "      <td>3</td>\n",
              "      <td>False</td>\n",
              "      <td>372</td>\n",
              "      <td>Barboach</td>\n",
              "      <td>Water</td>\n",
              "      <td>Ground</td>\n",
              "      <td>50</td>\n",
              "      <td>48</td>\n",
              "      <td>43</td>\n",
              "      <td>46</td>\n",
              "      <td>41</td>\n",
              "      <td>60</td>\n",
              "      <td>3</td>\n",
              "      <td>False</td>\n",
              "      <td>0</td>\n",
              "    </tr>\n",
              "    <tr>\n",
              "      <th>28412</th>\n",
              "      <td>0</td>\n",
              "      <td>330</td>\n",
              "      <td>230</td>\n",
              "      <td>330</td>\n",
              "      <td>Mega Mawile</td>\n",
              "      <td>Steel</td>\n",
              "      <td>Fairy</td>\n",
              "      <td>50</td>\n",
              "      <td>105</td>\n",
              "      <td>125</td>\n",
              "      <td>55</td>\n",
              "      <td>95</td>\n",
              "      <td>50</td>\n",
              "      <td>3</td>\n",
              "      <td>False</td>\n",
              "      <td>230</td>\n",
              "      <td>Mega Scizor</td>\n",
              "      <td>Bug</td>\n",
              "      <td>Steel</td>\n",
              "      <td>70</td>\n",
              "      <td>150</td>\n",
              "      <td>140</td>\n",
              "      <td>65</td>\n",
              "      <td>100</td>\n",
              "      <td>75</td>\n",
              "      <td>2</td>\n",
              "      <td>False</td>\n",
              "      <td>0</td>\n",
              "    </tr>\n",
              "    <tr>\n",
              "      <th>23819</th>\n",
              "      <td>0</td>\n",
              "      <td>281</td>\n",
              "      <td>334</td>\n",
              "      <td>281</td>\n",
              "      <td>Mudkip</td>\n",
              "      <td>Water</td>\n",
              "      <td>No</td>\n",
              "      <td>50</td>\n",
              "      <td>70</td>\n",
              "      <td>50</td>\n",
              "      <td>50</td>\n",
              "      <td>50</td>\n",
              "      <td>40</td>\n",
              "      <td>3</td>\n",
              "      <td>False</td>\n",
              "      <td>334</td>\n",
              "      <td>Mega Aggron</td>\n",
              "      <td>Steel</td>\n",
              "      <td>No</td>\n",
              "      <td>70</td>\n",
              "      <td>140</td>\n",
              "      <td>230</td>\n",
              "      <td>60</td>\n",
              "      <td>80</td>\n",
              "      <td>50</td>\n",
              "      <td>3</td>\n",
              "      <td>False</td>\n",
              "      <td>0</td>\n",
              "    </tr>\n",
              "    <tr>\n",
              "      <th>1569</th>\n",
              "      <td>0</td>\n",
              "      <td>387</td>\n",
              "      <td>384</td>\n",
              "      <td>387</td>\n",
              "      <td>Banette</td>\n",
              "      <td>Ghost</td>\n",
              "      <td>No</td>\n",
              "      <td>64</td>\n",
              "      <td>115</td>\n",
              "      <td>65</td>\n",
              "      <td>83</td>\n",
              "      <td>63</td>\n",
              "      <td>65</td>\n",
              "      <td>3</td>\n",
              "      <td>False</td>\n",
              "      <td>384</td>\n",
              "      <td>Castform</td>\n",
              "      <td>Normal</td>\n",
              "      <td>No</td>\n",
              "      <td>70</td>\n",
              "      <td>70</td>\n",
              "      <td>70</td>\n",
              "      <td>70</td>\n",
              "      <td>70</td>\n",
              "      <td>70</td>\n",
              "      <td>3</td>\n",
              "      <td>False</td>\n",
              "      <td>0</td>\n",
              "    </tr>\n",
              "    <tr>\n",
              "      <th>8962</th>\n",
              "      <td>1</td>\n",
              "      <td>537</td>\n",
              "      <td>578</td>\n",
              "      <td>537</td>\n",
              "      <td>Mow Rotom</td>\n",
              "      <td>Electric</td>\n",
              "      <td>Grass</td>\n",
              "      <td>50</td>\n",
              "      <td>65</td>\n",
              "      <td>107</td>\n",
              "      <td>105</td>\n",
              "      <td>107</td>\n",
              "      <td>86</td>\n",
              "      <td>4</td>\n",
              "      <td>False</td>\n",
              "      <td>578</td>\n",
              "      <td>Musharna</td>\n",
              "      <td>Psychic</td>\n",
              "      <td>No</td>\n",
              "      <td>116</td>\n",
              "      <td>55</td>\n",
              "      <td>85</td>\n",
              "      <td>107</td>\n",
              "      <td>95</td>\n",
              "      <td>29</td>\n",
              "      <td>5</td>\n",
              "      <td>False</td>\n",
              "      <td>0</td>\n",
              "    </tr>\n",
              "    <tr>\n",
              "      <th>4627</th>\n",
              "      <td>0</td>\n",
              "      <td>260</td>\n",
              "      <td>531</td>\n",
              "      <td>260</td>\n",
              "      <td>Magby</td>\n",
              "      <td>Fire</td>\n",
              "      <td>No</td>\n",
              "      <td>45</td>\n",
              "      <td>75</td>\n",
              "      <td>37</td>\n",
              "      <td>70</td>\n",
              "      <td>55</td>\n",
              "      <td>83</td>\n",
              "      <td>2</td>\n",
              "      <td>False</td>\n",
              "      <td>531</td>\n",
              "      <td>Froslass</td>\n",
              "      <td>Ice</td>\n",
              "      <td>Ghost</td>\n",
              "      <td>70</td>\n",
              "      <td>80</td>\n",
              "      <td>70</td>\n",
              "      <td>80</td>\n",
              "      <td>70</td>\n",
              "      <td>110</td>\n",
              "      <td>4</td>\n",
              "      <td>False</td>\n",
              "      <td>0</td>\n",
              "    </tr>\n",
              "    <tr>\n",
              "      <th>20625</th>\n",
              "      <td>1</td>\n",
              "      <td>681</td>\n",
              "      <td>595</td>\n",
              "      <td>681</td>\n",
              "      <td>Mienfoo</td>\n",
              "      <td>Fighting</td>\n",
              "      <td>No</td>\n",
              "      <td>45</td>\n",
              "      <td>85</td>\n",
              "      <td>50</td>\n",
              "      <td>55</td>\n",
              "      <td>50</td>\n",
              "      <td>65</td>\n",
              "      <td>5</td>\n",
              "      <td>False</td>\n",
              "      <td>595</td>\n",
              "      <td>Conkeldurr</td>\n",
              "      <td>Fighting</td>\n",
              "      <td>No</td>\n",
              "      <td>105</td>\n",
              "      <td>140</td>\n",
              "      <td>95</td>\n",
              "      <td>55</td>\n",
              "      <td>65</td>\n",
              "      <td>45</td>\n",
              "      <td>5</td>\n",
              "      <td>False</td>\n",
              "      <td>0</td>\n",
              "    </tr>\n",
              "    <tr>\n",
              "      <th>911</th>\n",
              "      <td>0</td>\n",
              "      <td>738</td>\n",
              "      <td>496</td>\n",
              "      <td>738</td>\n",
              "      <td>Flabébé</td>\n",
              "      <td>Fairy</td>\n",
              "      <td>No</td>\n",
              "      <td>44</td>\n",
              "      <td>38</td>\n",
              "      <td>39</td>\n",
              "      <td>61</td>\n",
              "      <td>79</td>\n",
              "      <td>42</td>\n",
              "      <td>6</td>\n",
              "      <td>False</td>\n",
              "      <td>496</td>\n",
              "      <td>Munchlax</td>\n",
              "      <td>Normal</td>\n",
              "      <td>No</td>\n",
              "      <td>135</td>\n",
              "      <td>85</td>\n",
              "      <td>40</td>\n",
              "      <td>40</td>\n",
              "      <td>85</td>\n",
              "      <td>5</td>\n",
              "      <td>4</td>\n",
              "      <td>False</td>\n",
              "      <td>0</td>\n",
              "    </tr>\n",
              "    <tr>\n",
              "      <th>22248</th>\n",
              "      <td>0</td>\n",
              "      <td>306</td>\n",
              "      <td>1</td>\n",
              "      <td>306</td>\n",
              "      <td>Gardevoir</td>\n",
              "      <td>Psychic</td>\n",
              "      <td>Fairy</td>\n",
              "      <td>68</td>\n",
              "      <td>65</td>\n",
              "      <td>65</td>\n",
              "      <td>125</td>\n",
              "      <td>115</td>\n",
              "      <td>80</td>\n",
              "      <td>3</td>\n",
              "      <td>False</td>\n",
              "      <td>1</td>\n",
              "      <td>Bulbasaur</td>\n",
              "      <td>Grass</td>\n",
              "      <td>Poison</td>\n",
              "      <td>45</td>\n",
              "      <td>49</td>\n",
              "      <td>49</td>\n",
              "      <td>65</td>\n",
              "      <td>65</td>\n",
              "      <td>45</td>\n",
              "      <td>1</td>\n",
              "      <td>False</td>\n",
              "      <td>0</td>\n",
              "    </tr>\n",
              "    <tr>\n",
              "      <th>6616</th>\n",
              "      <td>1</td>\n",
              "      <td>477</td>\n",
              "      <td>742</td>\n",
              "      <td>477</td>\n",
              "      <td>Mega Lopunny</td>\n",
              "      <td>Normal</td>\n",
              "      <td>Fighting</td>\n",
              "      <td>65</td>\n",
              "      <td>136</td>\n",
              "      <td>94</td>\n",
              "      <td>54</td>\n",
              "      <td>96</td>\n",
              "      <td>135</td>\n",
              "      <td>4</td>\n",
              "      <td>False</td>\n",
              "      <td>742</td>\n",
              "      <td>Gogoat</td>\n",
              "      <td>Grass</td>\n",
              "      <td>No</td>\n",
              "      <td>123</td>\n",
              "      <td>100</td>\n",
              "      <td>62</td>\n",
              "      <td>97</td>\n",
              "      <td>81</td>\n",
              "      <td>68</td>\n",
              "      <td>6</td>\n",
              "      <td>False</td>\n",
              "      <td>0</td>\n",
              "    </tr>\n",
              "    <tr>\n",
              "      <th>26932</th>\n",
              "      <td>1</td>\n",
              "      <td>331</td>\n",
              "      <td>469</td>\n",
              "      <td>331</td>\n",
              "      <td>Aron</td>\n",
              "      <td>Steel</td>\n",
              "      <td>Rock</td>\n",
              "      <td>50</td>\n",
              "      <td>70</td>\n",
              "      <td>100</td>\n",
              "      <td>40</td>\n",
              "      <td>40</td>\n",
              "      <td>30</td>\n",
              "      <td>3</td>\n",
              "      <td>False</td>\n",
              "      <td>469</td>\n",
              "      <td>Cherrim</td>\n",
              "      <td>Grass</td>\n",
              "      <td>No</td>\n",
              "      <td>70</td>\n",
              "      <td>60</td>\n",
              "      <td>70</td>\n",
              "      <td>87</td>\n",
              "      <td>78</td>\n",
              "      <td>85</td>\n",
              "      <td>4</td>\n",
              "      <td>False</td>\n",
              "      <td>0</td>\n",
              "    </tr>\n",
              "    <tr>\n",
              "      <th>3583</th>\n",
              "      <td>0</td>\n",
              "      <td>395</td>\n",
              "      <td>301</td>\n",
              "      <td>395</td>\n",
              "      <td>Wynaut</td>\n",
              "      <td>Psychic</td>\n",
              "      <td>No</td>\n",
              "      <td>95</td>\n",
              "      <td>23</td>\n",
              "      <td>48</td>\n",
              "      <td>23</td>\n",
              "      <td>48</td>\n",
              "      <td>23</td>\n",
              "      <td>3</td>\n",
              "      <td>False</td>\n",
              "      <td>301</td>\n",
              "      <td>Swellow</td>\n",
              "      <td>Normal</td>\n",
              "      <td>Flying</td>\n",
              "      <td>60</td>\n",
              "      <td>85</td>\n",
              "      <td>60</td>\n",
              "      <td>50</td>\n",
              "      <td>50</td>\n",
              "      <td>125</td>\n",
              "      <td>3</td>\n",
              "      <td>False</td>\n",
              "      <td>0</td>\n",
              "    </tr>\n",
              "    <tr>\n",
              "      <th>9542</th>\n",
              "      <td>1</td>\n",
              "      <td>29</td>\n",
              "      <td>408</td>\n",
              "      <td>29</td>\n",
              "      <td>Ekans</td>\n",
              "      <td>Poison</td>\n",
              "      <td>No</td>\n",
              "      <td>35</td>\n",
              "      <td>60</td>\n",
              "      <td>44</td>\n",
              "      <td>40</td>\n",
              "      <td>54</td>\n",
              "      <td>55</td>\n",
              "      <td>1</td>\n",
              "      <td>False</td>\n",
              "      <td>408</td>\n",
              "      <td>Shelgon</td>\n",
              "      <td>Dragon</td>\n",
              "      <td>No</td>\n",
              "      <td>65</td>\n",
              "      <td>95</td>\n",
              "      <td>100</td>\n",
              "      <td>60</td>\n",
              "      <td>50</td>\n",
              "      <td>50</td>\n",
              "      <td>3</td>\n",
              "      <td>False</td>\n",
              "      <td>0</td>\n",
              "    </tr>\n",
              "    <tr>\n",
              "      <th>28878</th>\n",
              "      <td>0</td>\n",
              "      <td>198</td>\n",
              "      <td>735</td>\n",
              "      <td>198</td>\n",
              "      <td>Bellossom</td>\n",
              "      <td>Grass</td>\n",
              "      <td>No</td>\n",
              "      <td>75</td>\n",
              "      <td>80</td>\n",
              "      <td>95</td>\n",
              "      <td>90</td>\n",
              "      <td>100</td>\n",
              "      <td>50</td>\n",
              "      <td>2</td>\n",
              "      <td>False</td>\n",
              "      <td>735</td>\n",
              "      <td>Vivillon</td>\n",
              "      <td>Bug</td>\n",
              "      <td>Flying</td>\n",
              "      <td>80</td>\n",
              "      <td>52</td>\n",
              "      <td>50</td>\n",
              "      <td>90</td>\n",
              "      <td>50</td>\n",
              "      <td>89</td>\n",
              "      <td>6</td>\n",
              "      <td>False</td>\n",
              "      <td>0</td>\n",
              "    </tr>\n",
              "    <tr>\n",
              "      <th>26879</th>\n",
              "      <td>0</td>\n",
              "      <td>656</td>\n",
              "      <td>476</td>\n",
              "      <td>656</td>\n",
              "      <td>Alomomola</td>\n",
              "      <td>Water</td>\n",
              "      <td>No</td>\n",
              "      <td>165</td>\n",
              "      <td>75</td>\n",
              "      <td>80</td>\n",
              "      <td>40</td>\n",
              "      <td>45</td>\n",
              "      <td>65</td>\n",
              "      <td>5</td>\n",
              "      <td>False</td>\n",
              "      <td>476</td>\n",
              "      <td>Lopunny</td>\n",
              "      <td>Normal</td>\n",
              "      <td>No</td>\n",
              "      <td>65</td>\n",
              "      <td>76</td>\n",
              "      <td>84</td>\n",
              "      <td>54</td>\n",
              "      <td>96</td>\n",
              "      <td>105</td>\n",
              "      <td>4</td>\n",
              "      <td>False</td>\n",
              "      <td>0</td>\n",
              "    </tr>\n",
              "    <tr>\n",
              "      <th>29243</th>\n",
              "      <td>0</td>\n",
              "      <td>638</td>\n",
              "      <td>495</td>\n",
              "      <td>638</td>\n",
              "      <td>Gothitelle</td>\n",
              "      <td>Psychic</td>\n",
              "      <td>No</td>\n",
              "      <td>70</td>\n",
              "      <td>55</td>\n",
              "      <td>95</td>\n",
              "      <td>95</td>\n",
              "      <td>110</td>\n",
              "      <td>65</td>\n",
              "      <td>5</td>\n",
              "      <td>False</td>\n",
              "      <td>495</td>\n",
              "      <td>Mega Garchomp</td>\n",
              "      <td>Dragon</td>\n",
              "      <td>Ground</td>\n",
              "      <td>108</td>\n",
              "      <td>170</td>\n",
              "      <td>115</td>\n",
              "      <td>120</td>\n",
              "      <td>95</td>\n",
              "      <td>92</td>\n",
              "      <td>4</td>\n",
              "      <td>False</td>\n",
              "      <td>0</td>\n",
              "    </tr>\n",
              "  </tbody>\n",
              "</table>\n",
              "</div>"
            ],
            "text/plain": [
              "       Winner  First_pokemon  ...  Legendary_y  LegendaryWinner\n",
              "467         0            348  ...         True                1\n",
              "27422       0            209  ...        False                0\n",
              "9388        1            442  ...        False                0\n",
              "25099       0            478  ...        False                0\n",
              "6263        0            403  ...        False                0\n",
              "28412       0            330  ...        False                0\n",
              "23819       0            281  ...        False                0\n",
              "1569        0            387  ...        False                0\n",
              "8962        1            537  ...        False                0\n",
              "4627        0            260  ...        False                0\n",
              "20625       1            681  ...        False                0\n",
              "911         0            738  ...        False                0\n",
              "22248       0            306  ...        False                0\n",
              "6616        1            477  ...        False                0\n",
              "26932       1            331  ...        False                0\n",
              "3583        0            395  ...        False                0\n",
              "9542        1             29  ...        False                0\n",
              "28878       0            198  ...        False                0\n",
              "26879       0            656  ...        False                0\n",
              "29243       0            638  ...        False                0\n",
              "\n",
              "[20 rows x 28 columns]"
            ]
          },
          "metadata": {
            "tags": []
          },
          "execution_count": 67
        }
      ]
    },
    {
      "cell_type": "code",
      "metadata": {
        "id": "YCK2WHN3GU56",
        "outputId": "65a920a4-2cdc-402e-fd2b-5ae190f745e7",
        "colab": {
          "base_uri": "https://localhost:8080/",
          "height": 296
        }
      },
      "source": [
        "plt.figure(figsize=(8, 4))\n",
        "sns.countplot(x='LegendaryWinner',data=fights, palette='rainbow')"
      ],
      "execution_count": 80,
      "outputs": [
        {
          "output_type": "execute_result",
          "data": {
            "text/plain": [
              "<matplotlib.axes._subplots.AxesSubplot at 0x7f49033b2b90>"
            ]
          },
          "metadata": {
            "tags": []
          },
          "execution_count": 80
        },
        {
          "output_type": "display_data",
          "data": {
            "image/png": "[encoded data removed]",
            "text/plain": [
              "<Figure size 576x288 with 1 Axes>"
            ]
          },
          "metadata": {
            "tags": [],
            "needs_background": "light"
          }
        }
      ]
    },
    {
      "cell_type": "code",
      "metadata": {
        "id": "lMUyaWZIg3eG",
        "colab": {
          "base_uri": "https://localhost:8080/"
        },
        "outputId": "5ea9a13b-467e-46fe-dec4-9ba9d8a41515"
      },
      "source": [
        "# Conteggio del numero di scontri vinti da un pokemon leggendario\n",
        "\n",
        "sns.countplot(x=fights[\"LegendaryWinner\"],hue=fights[\"Winner\"])"
      ],
      "execution_count": null,
      "outputs": [
        {
          "output_type": "execute_result",
          "data": {
            "text/plain": [
              "<matplotlib.axes._subplots.AxesSubplot at 0x7f490c48ba90>"
            ]
          },
          "metadata": {
            "tags": []
          },
          "execution_count": 18
        },
        {
          "output_type": "display_data",
          "data": {
            "image/png": "[encoded data removed]",
            "text/plain": [
              "<Figure size 432x288 with 1 Axes>"
            ]
          },
          "metadata": {
            "tags": [],
            "needs_background": "light"
          }
        }
      ]
    },
    {
      "cell_type": "markdown",
      "metadata": {
        "id": "HPHsGuq-g3eF"
      },
      "source": [
        "## Studio correlazione tra features"
      ]
    },
    {
      "cell_type": "code",
      "metadata": {
        "id": "GmvjFDczg3eH",
        "colab": {
          "base_uri": "https://localhost:8080/",
          "height": 946
        },
        "outputId": "4a1528be-5d48-4993-e9a9-ee4a33bb11fb"
      },
      "source": [
        "plt.subplots(figsize=(15,15))\n",
        "sns.heatmap(fights.corr(), annot=True)\n",
        "plt.show()"
      ],
      "execution_count": null,
      "outputs": [
        {
          "output_type": "display_data",
          "data": {
            "image/png": "[encoded data removed]",
            "text/plain": [
              "<Figure size 1080x1080 with 2 Axes>"
            ]
          },
          "metadata": {
            "tags": [],
            "needs_background": "light"
          }
        }
      ]
    },
    {
      "cell_type": "markdown",
      "metadata": {
        "id": "dokK3DG13MNT"
      },
      "source": [
        "Dalla heatmap si può notare che le features Generation_x e Generation_y hanno un'alta correlazione con l'ID, di conseguenza possono essere eliminate.\n",
        "Ma alla fine, sia Name che ID sono valori univoci, non utili ai nostri scopi.\n",
        "Quindi anche questi verranno eliminati."
      ]
    },
    {
      "cell_type": "markdown",
      "metadata": {
        "id": "zcjqQSFZg3eH"
      },
      "source": [
        "## Feature engineering"
      ]
    },
    {
      "cell_type": "markdown",
      "metadata": {
        "id": "hpIxTiw75liz"
      },
      "source": [
        "Raggruppo le features, poiché non sono interessata ai singoli valori che essi assumono, ma alla loro differenza. \n",
        "Questa infatti mi permette di raggrupparle e dar loro maggiore significato."
      ]
    },
    {
      "cell_type": "markdown",
      "metadata": {
        "id": "zhtE0NRc6je7"
      },
      "source": [
        "Verifico se ho altro da modificare"
      ]
    },
    {
      "cell_type": "code",
      "metadata": {
        "id": "sDeVOmQv6MbP",
        "colab": {
          "base_uri": "https://localhost:8080/"
        },
        "outputId": "c28dfedb-798e-4bc8-e004-3cc698a2aac0"
      },
      "source": [
        "fights.info()"
      ],
      "execution_count": null,
      "outputs": [
        {
          "output_type": "stream",
          "text": [
            "<class 'pandas.core.frame.DataFrame'>\n",
            "Int64Index: 32000 entries, 0 to 31999\n",
            "Data columns (total 28 columns):\n",
            " #   Column           Non-Null Count  Dtype \n",
            "---  ------           --------------  ----- \n",
            " 0   Winner           32000 non-null  int64 \n",
            " 1   First_pokemon    32000 non-null  int64 \n",
            " 2   Second_pokemon   32000 non-null  int64 \n",
            " 3   ID_x             32000 non-null  int64 \n",
            " 4   Name_x           31961 non-null  object\n",
            " 5   Type1_x          32000 non-null  object\n",
            " 6   Type2_x          32000 non-null  object\n",
            " 7   HP_x             32000 non-null  int64 \n",
            " 8   Attack_x         32000 non-null  int64 \n",
            " 9   Defense_x        32000 non-null  int64 \n",
            " 10  Sp. Atk_x        32000 non-null  int64 \n",
            " 11  Sp. Def_x        32000 non-null  int64 \n",
            " 12  Speed_x          32000 non-null  int64 \n",
            " 13  Generation_x     32000 non-null  int64 \n",
            " 14  Legendary_x      32000 non-null  bool  \n",
            " 15  ID_y             32000 non-null  int64 \n",
            " 16  Name_y           31966 non-null  object\n",
            " 17  Type1_y          32000 non-null  object\n",
            " 18  Type2_y          32000 non-null  object\n",
            " 19  HP_y             32000 non-null  int64 \n",
            " 20  Attack_y         32000 non-null  int64 \n",
            " 21  Defense_y        32000 non-null  int64 \n",
            " 22  Sp. Atk_y        32000 non-null  int64 \n",
            " 23  Sp. Def_y        32000 non-null  int64 \n",
            " 24  Speed_y          32000 non-null  int64 \n",
            " 25  Generation_y     32000 non-null  int64 \n",
            " 26  Legendary_y      32000 non-null  bool  \n",
            " 27  LegendaryWinner  32000 non-null  int64 \n",
            "dtypes: bool(2), int64(20), object(6)\n",
            "memory usage: 7.9+ MB\n"
          ],
          "name": "stdout"
        }
      ]
    },
    {
      "cell_type": "markdown",
      "metadata": {
        "id": "Iz2_OZuf6rTo"
      },
      "source": [
        "Sia Legendary_x che Legendary_y sono di tipo bool. Le porto a intero."
      ]
    },
    {
      "cell_type": "code",
      "metadata": {
        "id": "5nUsls1pg3eI"
      },
      "source": [
        "fights[\"Legendary_x\"] = fights[\"Legendary_x\"].astype(int)\n",
        "fights[\"Legendary_y\"] = fights[\"Legendary_y\"].astype(int)\n",
        "fights_test[\"Legendary_x\"] = fights_test[\"Legendary_x\"].astype(int)\n",
        "fights_test[\"Legendary_y\"] = fights_test[\"Legendary_y\"].astype(int)"
      ],
      "execution_count": 39,
      "outputs": []
    },
    {
      "cell_type": "markdown",
      "metadata": {
        "id": "DsemvkVb6cMf"
      },
      "source": [
        "Ok, ora posso effettuare la differenza fra i valori delle features"
      ]
    },
    {
      "cell_type": "code",
      "metadata": {
        "id": "HYfV5ENjg3eI"
      },
      "source": [
        "fights[\"Sp_Atk_diff\"] = fights[\"Sp. Atk_x\"] - fights[\"Sp. Atk_y\"]\n",
        "fights[\"Speed_diff\"] = fights[\"Speed_x\"] - fights[\"Speed_y\"]\n",
        "fights[\"Sp_Def_diff\"] = fights[\"Sp. Def_x\"] - fights[\"Sp. Def_y\"]\n",
        "fights[\"Defense_diff\"] = fights[\"Defense_x\"] - fights[\"Defense_y\"]\n",
        "fights[\"HP_diff\"] = fights[\"HP_x\"] - fights[\"HP_y\"]\n",
        "fights[\"Attack_diff\"] = fights[\"Attack_x\"] - fights[\"Attack_y\"]\n",
        "fights[\"Legendary_diff\"] = fights[\"Legendary_x\"] - fights[\"Legendary_y\"]\n",
        "\n",
        "# Name, ID e Generation vengono implicitamente scartate dalla selezione delle features. Per i motivi dovuti alla correlazione di cui sopra\n",
        "fights = fights[[\"Sp_Atk_diff\", \"Speed_diff\", \"Sp_Def_diff\", \n",
        "                 \"Defense_diff\", \"HP_diff\", \"Attack_diff\", \n",
        "                 \"Type1_x\", \"Type1_y\", \"Type2_x\", \"Type2_y\", \n",
        "                 \"Legendary_diff\", \"Winner\"]]"
      ],
      "execution_count": 40,
      "outputs": []
    },
    {
      "cell_type": "code",
      "metadata": {
        "id": "ALH9irckg3eJ"
      },
      "source": [
        "# Stessa cosa per il test set\n",
        "fights_test[\"Sp_Atk_diff\"] = fights_test[\"Sp. Atk_x\"] - fights_test[\"Sp. Atk_y\"]\n",
        "fights_test[\"Speed_diff\"] = fights_test[\"Speed_x\"] - fights_test[\"Speed_y\"]\n",
        "fights_test[\"Sp_Def_diff\"] = fights_test[\"Sp. Def_x\"] - fights_test[\"Sp. Def_y\"]\n",
        "fights_test[\"Defense_diff\"] = fights_test[\"Defense_x\"] - fights_test[\"Defense_y\"]\n",
        "fights_test[\"HP_diff\"] = fights_test[\"HP_x\"] - fights_test[\"HP_y\"]\n",
        "fights_test[\"Attack_diff\"] = fights_test[\"Attack_x\"] - fights_test[\"Attack_y\"]\n",
        "fights_test[\"Legendary_diff\"] = fights_test[\"Legendary_x\"] - fights_test[\"Legendary_y\"]\n",
        "\n",
        "fights_test = fights_test[[\"Sp_Atk_diff\", \"Speed_diff\", \"Sp_Def_diff\", \n",
        "                 \"Defense_diff\", \"HP_diff\", \"Attack_diff\", \n",
        "                 \"Type1_x\", \"Type1_y\", \"Type2_x\", \"Type2_y\", \n",
        "                 \"Legendary_diff\", \"Winner\"]]"
      ],
      "execution_count": 41,
      "outputs": []
    },
    {
      "cell_type": "code",
      "metadata": {
        "id": "vGpJGneog3eK",
        "colab": {
          "base_uri": "https://localhost:8080/"
        },
        "outputId": "b705b32e-2461-482b-910c-911c674badf3"
      },
      "source": [
        "fights.sample(10)"
      ],
      "execution_count": null,
      "outputs": [
        {
          "output_type": "execute_result",
          "data": {
            "text/html": [
              "<div>\n",
              "<style scoped>\n",
              "    .dataframe tbody tr th:only-of-type {\n",
              "        vertical-align: middle;\n",
              "    }\n",
              "\n",
              "    .dataframe tbody tr th {\n",
              "        vertical-align: top;\n",
              "    }\n",
              "\n",
              "    .dataframe thead th {\n",
              "        text-align: right;\n",
              "    }\n",
              "</style>\n",
              "<table border=\"1\" class=\"dataframe\">\n",
              "  <thead>\n",
              "    <tr style=\"text-align: right;\">\n",
              "      <th></th>\n",
              "      <th>Sp_Atk_diff</th>\n",
              "      <th>Speed_diff</th>\n",
              "      <th>Sp_Def_diff</th>\n",
              "      <th>Defense_diff</th>\n",
              "      <th>HP_diff</th>\n",
              "      <th>Attack_diff</th>\n",
              "      <th>Type1_x</th>\n",
              "      <th>Type1_y</th>\n",
              "      <th>Type2_x</th>\n",
              "      <th>Type2_y</th>\n",
              "      <th>Legendary_diff</th>\n",
              "      <th>Winner</th>\n",
              "    </tr>\n",
              "  </thead>\n",
              "  <tbody>\n",
              "    <tr>\n",
              "      <th>15001</th>\n",
              "      <td>-25</td>\n",
              "      <td>-75</td>\n",
              "      <td>-70</td>\n",
              "      <td>-15</td>\n",
              "      <td>-10</td>\n",
              "      <td>-30</td>\n",
              "      <td>Ice</td>\n",
              "      <td>Water</td>\n",
              "      <td>Water</td>\n",
              "      <td>Poison</td>\n",
              "      <td>0</td>\n",
              "      <td>0</td>\n",
              "    </tr>\n",
              "    <tr>\n",
              "      <th>29573</th>\n",
              "      <td>0</td>\n",
              "      <td>-30</td>\n",
              "      <td>-15</td>\n",
              "      <td>-5</td>\n",
              "      <td>30</td>\n",
              "      <td>40</td>\n",
              "      <td>Fairy</td>\n",
              "      <td>Fighting</td>\n",
              "      <td>No</td>\n",
              "      <td>Psychic</td>\n",
              "      <td>0</td>\n",
              "      <td>1</td>\n",
              "    </tr>\n",
              "    <tr>\n",
              "      <th>5989</th>\n",
              "      <td>25</td>\n",
              "      <td>5</td>\n",
              "      <td>10</td>\n",
              "      <td>85</td>\n",
              "      <td>45</td>\n",
              "      <td>60</td>\n",
              "      <td>Ground</td>\n",
              "      <td>Water</td>\n",
              "      <td>Flying</td>\n",
              "      <td>No</td>\n",
              "      <td>0</td>\n",
              "      <td>1</td>\n",
              "    </tr>\n",
              "    <tr>\n",
              "      <th>25265</th>\n",
              "      <td>55</td>\n",
              "      <td>75</td>\n",
              "      <td>45</td>\n",
              "      <td>45</td>\n",
              "      <td>65</td>\n",
              "      <td>30</td>\n",
              "      <td>Grass</td>\n",
              "      <td>Bug</td>\n",
              "      <td>No</td>\n",
              "      <td>Grass</td>\n",
              "      <td>1</td>\n",
              "      <td>1</td>\n",
              "    </tr>\n",
              "    <tr>\n",
              "      <th>10023</th>\n",
              "      <td>35</td>\n",
              "      <td>-11</td>\n",
              "      <td>40</td>\n",
              "      <td>35</td>\n",
              "      <td>37</td>\n",
              "      <td>50</td>\n",
              "      <td>Water</td>\n",
              "      <td>Normal</td>\n",
              "      <td>Ground</td>\n",
              "      <td>Flying</td>\n",
              "      <td>0</td>\n",
              "      <td>0</td>\n",
              "    </tr>\n",
              "    <tr>\n",
              "      <th>22265</th>\n",
              "      <td>-3</td>\n",
              "      <td>48</td>\n",
              "      <td>-10</td>\n",
              "      <td>35</td>\n",
              "      <td>45</td>\n",
              "      <td>47</td>\n",
              "      <td>Normal</td>\n",
              "      <td>Psychic</td>\n",
              "      <td>No</td>\n",
              "      <td>No</td>\n",
              "      <td>0</td>\n",
              "      <td>1</td>\n",
              "    </tr>\n",
              "    <tr>\n",
              "      <th>29140</th>\n",
              "      <td>-45</td>\n",
              "      <td>86</td>\n",
              "      <td>-22</td>\n",
              "      <td>-12</td>\n",
              "      <td>-35</td>\n",
              "      <td>35</td>\n",
              "      <td>Electric</td>\n",
              "      <td>Psychic</td>\n",
              "      <td>No</td>\n",
              "      <td>No</td>\n",
              "      <td>0</td>\n",
              "      <td>1</td>\n",
              "    </tr>\n",
              "    <tr>\n",
              "      <th>13281</th>\n",
              "      <td>-20</td>\n",
              "      <td>34</td>\n",
              "      <td>-40</td>\n",
              "      <td>-5</td>\n",
              "      <td>5</td>\n",
              "      <td>42</td>\n",
              "      <td>Ground</td>\n",
              "      <td>Water</td>\n",
              "      <td>Dark</td>\n",
              "      <td>Ghost</td>\n",
              "      <td>0</td>\n",
              "      <td>1</td>\n",
              "    </tr>\n",
              "    <tr>\n",
              "      <th>25691</th>\n",
              "      <td>30</td>\n",
              "      <td>41</td>\n",
              "      <td>30</td>\n",
              "      <td>12</td>\n",
              "      <td>20</td>\n",
              "      <td>27</td>\n",
              "      <td>Poison</td>\n",
              "      <td>Bug</td>\n",
              "      <td>No</td>\n",
              "      <td>No</td>\n",
              "      <td>0</td>\n",
              "      <td>1</td>\n",
              "    </tr>\n",
              "    <tr>\n",
              "      <th>4754</th>\n",
              "      <td>21</td>\n",
              "      <td>-33</td>\n",
              "      <td>29</td>\n",
              "      <td>-11</td>\n",
              "      <td>-1</td>\n",
              "      <td>-57</td>\n",
              "      <td>Fairy</td>\n",
              "      <td>Rock</td>\n",
              "      <td>No</td>\n",
              "      <td>Bug</td>\n",
              "      <td>0</td>\n",
              "      <td>0</td>\n",
              "    </tr>\n",
              "  </tbody>\n",
              "</table>\n",
              "</div>"
            ],
            "text/plain": [
              "       Sp_Atk_diff  Speed_diff  Sp_Def_diff  ...  Type2_y  Legendary_diff  Winner\n",
              "15001          -25         -75          -70  ...   Poison               0       0\n",
              "29573            0         -30          -15  ...  Psychic               0       1\n",
              "5989            25           5           10  ...       No               0       1\n",
              "25265           55          75           45  ...    Grass               1       1\n",
              "10023           35         -11           40  ...   Flying               0       0\n",
              "22265           -3          48          -10  ...       No               0       1\n",
              "29140          -45          86          -22  ...       No               0       1\n",
              "13281          -20          34          -40  ...    Ghost               0       1\n",
              "25691           30          41           30  ...       No               0       1\n",
              "4754            21         -33           29  ...      Bug               0       0\n",
              "\n",
              "[10 rows x 12 columns]"
            ]
          },
          "metadata": {
            "tags": []
          },
          "execution_count": 30
        }
      ]
    },
    {
      "cell_type": "code",
      "metadata": {
        "id": "zTHxjZ0O7Nf7",
        "colab": {
          "base_uri": "https://localhost:8080/",
          "height": 359
        },
        "outputId": "f93b206f-b5f0-4fcc-ee12-cfc0992f60e0"
      },
      "source": [
        "fights_test.sample(10)"
      ],
      "execution_count": 42,
      "outputs": [
        {
          "output_type": "execute_result",
          "data": {
            "text/html": [
              "<div>\n",
              "<style scoped>\n",
              "    .dataframe tbody tr th:only-of-type {\n",
              "        vertical-align: middle;\n",
              "    }\n",
              "\n",
              "    .dataframe tbody tr th {\n",
              "        vertical-align: top;\n",
              "    }\n",
              "\n",
              "    .dataframe thead th {\n",
              "        text-align: right;\n",
              "    }\n",
              "</style>\n",
              "<table border=\"1\" class=\"dataframe\">\n",
              "  <thead>\n",
              "    <tr style=\"text-align: right;\">\n",
              "      <th></th>\n",
              "      <th>Sp_Atk_diff</th>\n",
              "      <th>Speed_diff</th>\n",
              "      <th>Sp_Def_diff</th>\n",
              "      <th>Defense_diff</th>\n",
              "      <th>HP_diff</th>\n",
              "      <th>Attack_diff</th>\n",
              "      <th>Type1_x</th>\n",
              "      <th>Type1_y</th>\n",
              "      <th>Type2_x</th>\n",
              "      <th>Type2_y</th>\n",
              "      <th>Legendary_diff</th>\n",
              "      <th>Winner</th>\n",
              "    </tr>\n",
              "  </thead>\n",
              "  <tbody>\n",
              "    <tr>\n",
              "      <th>3034</th>\n",
              "      <td>13</td>\n",
              "      <td>10</td>\n",
              "      <td>0</td>\n",
              "      <td>55</td>\n",
              "      <td>5</td>\n",
              "      <td>17</td>\n",
              "      <td>Poison</td>\n",
              "      <td>Bug</td>\n",
              "      <td>Dark</td>\n",
              "      <td>No</td>\n",
              "      <td>0</td>\n",
              "      <td>1</td>\n",
              "    </tr>\n",
              "    <tr>\n",
              "      <th>2335</th>\n",
              "      <td>12</td>\n",
              "      <td>-41</td>\n",
              "      <td>67</td>\n",
              "      <td>2</td>\n",
              "      <td>20</td>\n",
              "      <td>-33</td>\n",
              "      <td>Fairy</td>\n",
              "      <td>Fire</td>\n",
              "      <td>No</td>\n",
              "      <td>No</td>\n",
              "      <td>0</td>\n",
              "      <td>0</td>\n",
              "    </tr>\n",
              "    <tr>\n",
              "      <th>733</th>\n",
              "      <td>40</td>\n",
              "      <td>15</td>\n",
              "      <td>35</td>\n",
              "      <td>5</td>\n",
              "      <td>60</td>\n",
              "      <td>-5</td>\n",
              "      <td>Ice</td>\n",
              "      <td>Steel</td>\n",
              "      <td>Water</td>\n",
              "      <td>Fairy</td>\n",
              "      <td>0</td>\n",
              "      <td>1</td>\n",
              "    </tr>\n",
              "    <tr>\n",
              "      <th>5598</th>\n",
              "      <td>3</td>\n",
              "      <td>7</td>\n",
              "      <td>-40</td>\n",
              "      <td>-40</td>\n",
              "      <td>-78</td>\n",
              "      <td>-42</td>\n",
              "      <td>Psychic</td>\n",
              "      <td>Ghost</td>\n",
              "      <td>Flying</td>\n",
              "      <td>Dragon</td>\n",
              "      <td>-1</td>\n",
              "      <td>1</td>\n",
              "    </tr>\n",
              "    <tr>\n",
              "      <th>2690</th>\n",
              "      <td>15</td>\n",
              "      <td>-20</td>\n",
              "      <td>10</td>\n",
              "      <td>-7</td>\n",
              "      <td>15</td>\n",
              "      <td>-10</td>\n",
              "      <td>Fairy</td>\n",
              "      <td>Water</td>\n",
              "      <td>No</td>\n",
              "      <td>No</td>\n",
              "      <td>0</td>\n",
              "      <td>0</td>\n",
              "    </tr>\n",
              "    <tr>\n",
              "      <th>2508</th>\n",
              "      <td>43</td>\n",
              "      <td>-30</td>\n",
              "      <td>8</td>\n",
              "      <td>8</td>\n",
              "      <td>25</td>\n",
              "      <td>-52</td>\n",
              "      <td>Poison</td>\n",
              "      <td>Fighting</td>\n",
              "      <td>No</td>\n",
              "      <td>No</td>\n",
              "      <td>0</td>\n",
              "      <td>0</td>\n",
              "    </tr>\n",
              "    <tr>\n",
              "      <th>1542</th>\n",
              "      <td>35</td>\n",
              "      <td>10</td>\n",
              "      <td>101</td>\n",
              "      <td>-24</td>\n",
              "      <td>210</td>\n",
              "      <td>-55</td>\n",
              "      <td>Normal</td>\n",
              "      <td>Electric</td>\n",
              "      <td>No</td>\n",
              "      <td>No</td>\n",
              "      <td>0</td>\n",
              "      <td>1</td>\n",
              "    </tr>\n",
              "    <tr>\n",
              "      <th>7775</th>\n",
              "      <td>70</td>\n",
              "      <td>31</td>\n",
              "      <td>40</td>\n",
              "      <td>50</td>\n",
              "      <td>49</td>\n",
              "      <td>75</td>\n",
              "      <td>Ground</td>\n",
              "      <td>Fighting</td>\n",
              "      <td>Flying</td>\n",
              "      <td>No</td>\n",
              "      <td>1</td>\n",
              "      <td>1</td>\n",
              "    </tr>\n",
              "    <tr>\n",
              "      <th>1802</th>\n",
              "      <td>20</td>\n",
              "      <td>43</td>\n",
              "      <td>-15</td>\n",
              "      <td>-10</td>\n",
              "      <td>-3</td>\n",
              "      <td>-5</td>\n",
              "      <td>Water</td>\n",
              "      <td>Dragon</td>\n",
              "      <td>No</td>\n",
              "      <td>Ground</td>\n",
              "      <td>0</td>\n",
              "      <td>1</td>\n",
              "    </tr>\n",
              "    <tr>\n",
              "      <th>6125</th>\n",
              "      <td>-65</td>\n",
              "      <td>-30</td>\n",
              "      <td>-15</td>\n",
              "      <td>-15</td>\n",
              "      <td>-50</td>\n",
              "      <td>-95</td>\n",
              "      <td>Fairy</td>\n",
              "      <td>Electric</td>\n",
              "      <td>No</td>\n",
              "      <td>No</td>\n",
              "      <td>0</td>\n",
              "      <td>0</td>\n",
              "    </tr>\n",
              "  </tbody>\n",
              "</table>\n",
              "</div>"
            ],
            "text/plain": [
              "      Sp_Atk_diff  Speed_diff  Sp_Def_diff  ...  Type2_y  Legendary_diff  Winner\n",
              "3034           13          10            0  ...       No               0       1\n",
              "2335           12         -41           67  ...       No               0       0\n",
              "733            40          15           35  ...    Fairy               0       1\n",
              "5598            3           7          -40  ...   Dragon              -1       1\n",
              "2690           15         -20           10  ...       No               0       0\n",
              "2508           43         -30            8  ...       No               0       0\n",
              "1542           35          10          101  ...       No               0       1\n",
              "7775           70          31           40  ...       No               1       1\n",
              "1802           20          43          -15  ...   Ground               0       1\n",
              "6125          -65         -30          -15  ...       No               0       0\n",
              "\n",
              "[10 rows x 12 columns]"
            ]
          },
          "metadata": {
            "tags": []
          },
          "execution_count": 42
        }
      ]
    },
    {
      "cell_type": "markdown",
      "metadata": {
        "id": "jnEnm7JZ9fzA"
      },
      "source": [
        "### Ricerca di nuove correlazioni tra features, dopo il raggruppamento"
      ]
    },
    {
      "cell_type": "markdown",
      "metadata": {
        "id": "ZAROcArh7bjh"
      },
      "source": [
        "Quindi, dopo aver effettuato il raggruppamento, ricerco nuovamente la presenza di correlazioni fra le features, al fine di eliminare quelle superflue"
      ]
    },
    {
      "cell_type": "code",
      "metadata": {
        "id": "e6HGzrgHg3eL",
        "colab": {
          "base_uri": "https://localhost:8080/",
          "height": 334
        },
        "outputId": "099e5656-1c42-4036-ec4d-3178beaeb0e2"
      },
      "source": [
        "sns.heatmap(fights.corr(), annot=True)\n",
        "plt.show()"
      ],
      "execution_count": 43,
      "outputs": [
        {
          "output_type": "display_data",
          "data": {
            "image/png": "[encoded data removed]",
            "text/plain": [
              "<Figure size 432x288 with 2 Axes>"
            ]
          },
          "metadata": {
            "tags": [],
            "needs_background": "light"
          }
        }
      ]
    },
    {
      "cell_type": "markdown",
      "metadata": {
        "id": "PJNLszkQg3eL"
      },
      "source": [
        "Notiamo che la feature Defense_diff ha una correlazione molto bassa.\n",
        "Per questo motivo può essere eliminata."
      ]
    },
    {
      "cell_type": "code",
      "metadata": {
        "id": "L2YAbNU-9aoG"
      },
      "source": [
        "fights = fights.drop('Defense_diff', axis=1)\n",
        "fights_test = fights_test.drop('Defense_diff', axis=1)"
      ],
      "execution_count": 44,
      "outputs": []
    },
    {
      "cell_type": "markdown",
      "metadata": {
        "id": "sT1IDwWdg3eM"
      },
      "source": [
        "## Addestramento del modello e classificazione con Decision Tree"
      ]
    },
    {
      "cell_type": "code",
      "metadata": {
        "id": "XUaXfaZyg3eM"
      },
      "source": [
        "X_train = fights.drop([\"Winner\"], axis=1)\n",
        "y_train = fights[\"Winner\"]\n",
        "\n",
        "X_test = fights_test.drop([\"Winner\"], axis=1)\n",
        "y_test = fights_test[\"Winner\"]"
      ],
      "execution_count": 45,
      "outputs": []
    },
    {
      "cell_type": "markdown",
      "metadata": {
        "id": "CefyFsRb_ETP"
      },
      "source": [
        "Effettuo l'Encoding"
      ]
    },
    {
      "cell_type": "code",
      "metadata": {
        "id": "aa0Jbmcdg3eM"
      },
      "source": [
        "s = (X_train.dtypes == 'object')\n",
        "object_cols = list(s[s].index)\n",
        "\n",
        "from sklearn.preprocessing import LabelEncoder\n",
        "label_encoder = LabelEncoder()\n",
        "for col in object_cols:\n",
        "    X_train[col] = label_encoder.fit_transform(X_train[col])\n",
        "    X_test[col] = label_encoder.transform(X_test[col])"
      ],
      "execution_count": 46,
      "outputs": []
    },
    {
      "cell_type": "markdown",
      "metadata": {
        "id": "LLB3zrId_ItL"
      },
      "source": [
        "Classificazione con DecisionTree"
      ]
    },
    {
      "cell_type": "code",
      "metadata": {
        "id": "dSL71T6gg3eN",
        "colab": {
          "base_uri": "https://localhost:8080/"
        },
        "outputId": "2ab0a72c-7391-43ff-f659-60460b18f47f"
      },
      "source": [
        "from sklearn.tree import DecisionTreeClassifier\n",
        "dt = DecisionTreeClassifier(criterion = 'entropy')\n",
        "dt.fit(X_train, y_train)\n",
        "\n",
        "y_pred = dt.predict(X_test)\n",
        "print('Test Set predictions:', y_pred)\n",
        "\n",
        "print(\"Accuracy: {:.2f}%\".format(dt.score(X_test, y_test)*100))"
      ],
      "execution_count": 51,
      "outputs": [
        {
          "output_type": "stream",
          "text": [
            "Test Set predictions: [1 1 1 ... 1 1 1]\n",
            "Accuracy: 93.11%\n"
          ],
          "name": "stdout"
        }
      ]
    }
  ]
}